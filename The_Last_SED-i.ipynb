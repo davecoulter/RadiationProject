{
 "cells": [
  {
   "cell_type": "code",
   "execution_count": 25,
   "metadata": {},
   "outputs": [],
   "source": [
    "import fsps\n",
    "import matplotlib.pyplot as plt\n",
    "import matplotlib\n",
    "import numpy as np\n",
    "\n",
    "matplotlib.rc('text',usetex=True)\n",
    "font = {'family' : 'serif',\n",
    "        'weight' : 'bold',\n",
    "        'size'   : 16}\n",
    "\n",
    "matplotlib.rc('font', **font)"
   ]
  },
  {
   "cell_type": "code",
   "execution_count": 26,
   "metadata": {},
   "outputs": [],
   "source": [
    "sp = fsps.StellarPopulation(compute_vega_mags=False,zcontinuous=1,sfh=0,logzsol=0.0,dust_type=2,dust2=0.2)\n"
   ]
  },
  {
   "cell_type": "code",
   "execution_count": 32,
   "metadata": {},
   "outputs": [
    {
     "name": "stdout",
     "output_type": "stream",
     "text": [
      "(b'pdva', b'miles')\n",
      "[3.97991823 3.8268405  5.14744303 3.88921064 4.1407593 ]\n",
      "[3.97991823 3.8268405  5.14744303 3.88921064 4.1407593 ]\n"
     ]
    }
   ],
   "source": [
    "age = 0.5 #Gyr\n",
    "z = 3 #redshift\n",
    "print(sp.libraries)\n",
    "sdss_bands = fsps.find_filter('sdss')\n",
    "print(sp.get_mags(tage=age, bands=sdss_bands))\n",
    "sp.params['logzsol'] = -1\n",
    "print(sp.get_mags(tage=age, bands=sdss_bands))\n",
    "wave, spec = sp.get_spectrum(tage=age,peraa=True)"
   ]
  },
  {
   "cell_type": "code",
   "execution_count": null,
   "metadata": {},
   "outputs": [],
   "source": [
    "indices = np.where((wave>=3000) & (wave<= 10000))\n",
    "\n",
    "useWave,useSpec = wave[indices],spec[indices]\n",
    "useWave = useWave * (z+1)\n",
    "useSpec = useSpec #want line flux to be conserved\n",
    "\n",
    "plt.plot(useWave,useSpec)\n",
    "\n",
    "plt.show()"
   ]
  },
  {
   "cell_type": "code",
   "execution_count": null,
   "metadata": {
    "collapsed": true
   },
   "outputs": [],
   "source": []
  }
 ],
 "metadata": {
  "kernelspec": {
   "display_name": "Python 3",
   "language": "python",
   "name": "python3"
  },
  "language_info": {
   "codemirror_mode": {
    "name": "ipython",
    "version": 3
   },
   "file_extension": ".py",
   "mimetype": "text/x-python",
   "name": "python",
   "nbconvert_exporter": "python",
   "pygments_lexer": "ipython3",
   "version": "3.5.0"
  }
 },
 "nbformat": 4,
 "nbformat_minor": 2
}
