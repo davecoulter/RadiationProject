{
 "cells": [
  {
   "cell_type": "code",
   "execution_count": 1,
   "metadata": {
    "ExecuteTime": {
     "end_time": "2018-03-10T21:33:31.670843Z",
     "start_time": "2018-03-10T21:33:30.875985Z"
    },
    "collapsed": true
   },
   "outputs": [],
   "source": [
    "import numpy as np\n",
    "from scipy import constants\n",
    "import scipy.integrate\n",
    "import matplotlib.pyplot as plt\n",
    "%matplotlib inline\n",
    "plt.rc('text', usetex=True)\n",
    "from mpmath import hyp2f1, factorial, gamma\n",
    "import functools\n",
    "fsc = constants.alpha\n",
    "aB_in_cm = constants.value('Bohr radius') * 1e2\n",
    "Ry_in_erg = constants.value('Rydberg constant times hc in J') * 1.e7  # in ergs\n",
    "kb = constants.k * 1e7\n",
    "h = constants.value('Planck constant') * 1e7  # in ergs s\n",
    "c = constants.c * 1.e2  # in cm/s\n",
    "e_e = 4.80320451e-10  # in statcoulomb\n",
    "m_e = constants.electron_mass * 1e3  # in g"
   ]
  },
  {
   "cell_type": "code",
   "execution_count": 2,
   "metadata": {
    "ExecuteTime": {
     "end_time": "2018-03-10T21:33:31.691324Z",
     "start_time": "2018-03-10T21:33:31.672652Z"
    },
    "collapsed": true
   },
   "outputs": [],
   "source": [
    "def I(eta_i, eta_f, k_i, k_f, l):\n",
    "    \"\"\"something dumb (radial-dipole integral)\n",
    "\n",
    "    Arguments:\n",
    "    eta_i  : modified quantum number associated with initial energy\n",
    "    eta_f  : modified quantum number associated with final energy\n",
    "    k_i    : wavenumber associated with initial energy\n",
    "    k_f    : wavenumber associated with final energy\n",
    "    l      : azimuthal quantum number\n",
    "\n",
    "    Returns:\n",
    "    I_l    : some number.\n",
    "    \"\"\"\n",
    "    temp1 = 1 / 4 * (4. * k_i * k_f / (k_i - k_f)**2)**(l + 1)\n",
    "    temp2 = np.exp(np.pi / 2 * abs(eta_i - eta_f))\n",
    "    temp3 = abs(gamma(l + 1 + 1j * eta_i) *\n",
    "                gamma(l + 1 + 1j * eta_f)) / gamma(2. * l + 2)\n",
    "    return temp1 * temp2 * temp3 * G(eta_i, eta_f, k_i, k_f, l)\n",
    "\n",
    "\n",
    "def G(eta_i, eta_f, k_i, k_f, l):\n",
    "    \"\"\"something dumb helper\"\"\"\n",
    "    temp1 = abs((k_f - k_i) / (k_f + k_i))**(1j * eta_i + 1j * eta_f)\n",
    "    temp2 = hyp2f1(l + 1 - 1j * eta_f,\n",
    "                   l + 1 - 1j * eta_i,\n",
    "                   2. * l + 2,\n",
    "                   -4. * k_i * k_f / (k_i - k_f)**2)\n",
    "\n",
    "    return (temp1 * temp2).real"
   ]
  },
  {
   "cell_type": "code",
   "execution_count": 3,
   "metadata": {
    "ExecuteTime": {
     "end_time": "2018-03-10T21:33:31.707708Z",
     "start_time": "2018-03-10T21:33:31.693336Z"
    },
    "collapsed": true
   },
   "outputs": [],
   "source": [
    "def gaunt_free_free(Z, beta, E):\n",
    "    \"\"\"calculate the Gaunt factor for free-free emission\n",
    "\n",
    "    Arguments:\n",
    "    Z    : ion charge, int\n",
    "    beta : velocity of incident electron in units of c, float or array\n",
    "    E    : energy of photon in units of Ha, float or array\n",
    "\n",
    "    Returns:\n",
    "    g_ff : gaunt factor for free-free emission\"\"\"\n",
    "\n",
    "    eta_i = Z * fsc / beta\n",
    "    k_i = Z / eta_i / aB_in_cm\n",
    "    eta_f = Z * fsc / (beta**2 + 2 * E * fsc**2)**.5\n",
    "    k_f = Z / eta_f / aB_in_cm\n",
    "\n",
    "    I0 = I(eta_i, eta_f, k_i, k_f, 0)\n",
    "    I1 = I(eta_i, eta_f, k_i, k_f, 1)\n",
    "\n",
    "    out = 2 * 3**.5 / np.pi / eta_i / eta_f * I0\n",
    "    out *= ((eta_i**2 + eta_f**2 + 2 * eta_i**2 * eta_f**2) * I0 - 2 *\n",
    "            eta_i * eta_f * (1 + eta_i**2)**.5 * (1 + eta_f**2)**.5 * I1)\n",
    "\n",
    "    return out.real"
   ]
  },
  {
   "cell_type": "code",
   "execution_count": 4,
   "metadata": {
    "ExecuteTime": {
     "end_time": "2018-03-10T21:33:31.713824Z",
     "start_time": "2018-03-10T21:33:31.709326Z"
    },
    "collapsed": true
   },
   "outputs": [],
   "source": [
    "def free_free_emission_spectrum(Z, hnu, E):\n",
    "    \"\"\"calculate free-free spectrum\n",
    "\n",
    "    Arguments:\n",
    "    Z    : ion charge, int\n",
    "    hnu  : energy of emitted photon, in Ha\n",
    "    E    : electron final energy, in Ha\"\"\"\n",
    "    if hnu >= E:\n",
    "        return 0.\n",
    "    g_ff = gaunt_free_free(Z, fsc * (2 * (E - hnu))**.5, hnu)\n",
    "    return 64 * np.pi**2 / 3 / 3**.5 * Z**2 * fsc**3 / (2 * E)**.5 * g_ff"
   ]
  },
  {
   "cell_type": "markdown",
   "metadata": {},
   "source": [
    "The free-free emission per unit volume of a thermal gas is obtained averaging over a Maxwellian distribution, $f(E) \\propto \\sqrt{E} exp(-E/T)$"
   ]
  },
  {
   "cell_type": "code",
   "execution_count": 5,
   "metadata": {
    "ExecuteTime": {
     "end_time": "2018-03-10T21:33:31.722876Z",
     "start_time": "2018-03-10T21:33:31.715570Z"
    },
    "collapsed": true
   },
   "outputs": [],
   "source": [
    "def free_free_thermal_spectrum(Z, T, E):\n",
    "    \"\"\"calculate free-free spectrum\n",
    "    from an ensemble of electrons following a Maxwellian\n",
    "\n",
    "    Arguments:\n",
    "    Z    : ion charge, int\n",
    "    T    : temperature of electrons, in Ha\n",
    "    E    : energies of emitted photons, in Ha\n",
    "    \"\"\"\n",
    "    out = np.zeros_like(E)\n",
    "    for i, hnu in enumerate(E):\n",
    "        out[i] = scipy.integrate.quad(\n",
    "            lambda x: x**.5 * np.exp(-x / T) * free_free_emission_spectrum(Z, hnu, x), hnu, np.inf)[0]\n",
    "        out[i] /= scipy.integrate.quad(lambda x: x**.5 *\n",
    "                                       np.exp(-x / T), 0, np.inf)[0]\n",
    "    return out"
   ]
  },
  {
   "cell_type": "markdown",
   "metadata": {},
   "source": [
    "Emissivity $\\epsilon_{\\nu}$ of free-free emission from an ensemble of electrons therefore is proportional to the velocitiy weighted Gaunt factor.\n",
    "$$\\epsilon_{\\nu,ff} = \\frac{1}{2\\pi}\\frac{2^5 Z^2 e^6}{3 \\sqrt{3} m^2 c^3}N_i N_e \\frac{\\int_{h\\nu}^{\\infty}g(E, \\nu) e^{-E / k T} dE}{\\int_{0}^{\\infty}\\sqrt{E} e^{-E / k T} dE} = \\frac{1}{2\\pi}\\frac{2^5 Z^2 e^6}{3 m c^3}N_i N_e \\bigg(\\frac{2\\pi}{3 k T m}\\bigg)^{1/2} e^{-h \\nu / k T} \\bar{g}_{ff}$$"
   ]
  },
  {
   "cell_type": "markdown",
   "metadata": {},
   "source": [
    "I am putting emissivity in cgs units."
   ]
  },
  {
   "cell_type": "code",
   "execution_count": 73,
   "metadata": {
    "ExecuteTime": {
     "end_time": "2018-03-10T22:39:02.212589Z",
     "start_time": "2018-03-10T22:39:02.199625Z"
    },
    "collapsed": true
   },
   "outputs": [],
   "source": [
    "def emissivity_free_free(Z, Ni, Ne, T, nu):\n",
    "    \"\"\"calculate emissivity of free free emission\n",
    "\n",
    "    Arguments:\n",
    "    Z    : ion charge, int\n",
    "    Ni   : ion density, in cm^-3\n",
    "    Ne   : electron density, in cm^-3\n",
    "    T    : temperature of electrons, in K\n",
    "    nu   : frequency, in Hz\n",
    "    \"\"\"\n",
    "    T_Ha = T * 3.16680853419133e-6\n",
    "    hnu_Ha = nu * 1.519828500715e-16\n",
    "\n",
    "    term = scipy.integrate.quad(lambda x: np.exp(-x / T_Ha) * gaunt_free_free(\n",
    "        Z, fsc * (2 * (x - hnu_Ha))**.5, hnu_Ha), hnu_Ha, np.inf)[0]\n",
    "    term /= scipy.integrate.quad(lambda x: x**.5 *\n",
    "                                 np.exp(-x / T_Ha), 0, np.inf)[0]\n",
    "    # the exponential is folded into the numerator\n",
    "\n",
    "    prefactor = 2**5 * np.pi * Z**2 * e_e**6 / 3 / m_e / c**3\n",
    "    temp2 = (2 * np.pi / 3 / kb / m_e / T)**.5\n",
    "    return prefactor * temp2 * term"
   ]
  },
  {
   "cell_type": "code",
   "execution_count": 7,
   "metadata": {
    "ExecuteTime": {
     "end_time": "2018-03-10T21:34:29.741988Z",
     "start_time": "2018-03-10T21:33:31.740777Z"
    },
    "collapsed": true
   },
   "outputs": [],
   "source": [
    "test = []\n",
    "for nu in np.logspace(np.log10(3e13), np.log10(3e15), 200):\n",
    "    test.append(nu * emissivity_free_free(1, 1, 1, 10000, nu))"
   ]
  },
  {
   "cell_type": "code",
   "execution_count": 8,
   "metadata": {
    "ExecuteTime": {
     "end_time": "2018-03-10T21:34:30.645637Z",
     "start_time": "2018-03-10T21:34:29.743657Z"
    }
   },
   "outputs": [
    {
     "data": {
      "text/plain": [
       "<matplotlib.text.Text at 0x11855b7b8>"
      ]
     },
     "execution_count": 8,
     "metadata": {},
     "output_type": "execute_result"
    },
    {
     "data": {
      "image/png": "[encoded data removed]",
      "text/plain": [
       "<matplotlib.figure.Figure at 0x10f5120b8>"
      ]
     },
     "metadata": {},
     "output_type": "display_data"
    }
   ],
   "source": [
    "plt.loglog(3e14 / np.logspace(np.log10(3e13), np.log10(3e15), 200),\n",
    "           1 / 2 / np.pi * np.array(test))\n",
    "plt.ylim(1e-26, 1e-23)\n",
    "plt.ylabel(r'\\nu \\gamma_{\\nu} (erg cm^{-3}s^{-1})')\n",
    "plt.xlabel('Wavelength (micron)')"
   ]
  },
  {
   "cell_type": "code",
   "execution_count": 9,
   "metadata": {
    "ExecuteTime": {
     "end_time": "2018-03-10T21:34:30.666626Z",
     "start_time": "2018-03-10T21:34:30.648020Z"
    },
    "collapsed": true,
    "scrolled": false
   },
   "outputs": [],
   "source": [
    "def G_l(l, m, eta, rho):\n",
    "    \"\"\"G matrix element, radial-dipole integral\"\"\"\n",
    "    gl = 0\n",
    "    for i in range(2 * m + 1):\n",
    "        gl += b_s(i, l, m, eta, rho) * rho**i\n",
    "\n",
    "    return gl\n",
    "\n",
    "\n",
    "@functools.lru_cache(maxsize=1024)\n",
    "def b_s(s, l, m, eta, rho):\n",
    "    \"\"\"polynomial solution to matrix element G_l\"\"\"\n",
    "    if s == 0:\n",
    "        return 1\n",
    "    if s == 1:\n",
    "        return 2 * m * eta / l\n",
    "\n",
    "    bsminus1 = b_s(s - 1, l, m, eta, rho)\n",
    "    bsminus2 = b_s(s - 2, l, m, eta, rho)\n",
    "    bs = -(1 / (s * (s + 2 * l - 1))) * (4 * eta * (s - 1 - m) *\n",
    "                                         bsminus1 + (2 * m + 2. - s) * (2 * m + 2 * l + 1 - s) * bsminus2)\n",
    "    return bs"
   ]
  },
  {
   "cell_type": "code",
   "execution_count": 10,
   "metadata": {
    "ExecuteTime": {
     "end_time": "2018-03-10T21:34:30.759223Z",
     "start_time": "2018-03-10T21:34:30.668738Z"
    },
    "collapsed": true,
    "scrolled": true
   },
   "outputs": [],
   "source": [
    "def sigma_minus(n, l, E, Z):\n",
    "    \"\"\"Cross section for bound-free absorption from (n, l) through\n",
    "    dipole transition to E with angular momentum l-1\"\"\"\n",
    "    eta = (Z**2 * Ry_in_erg / E)**.5\n",
    "    nu = E / h\n",
    "    if l == 0:\n",
    "        return 0\n",
    "\n",
    "    rho = eta / n\n",
    "    GlA = G_l(l, -(l + 1 - n), eta, rho)\n",
    "    GlB = G_l(l, -(l - 1 - n), eta, rho)\n",
    "\n",
    "    prefactor = 2**(4 * l) / 3 * np.pi * e_e**2 / m_e / c / nu\n",
    "\n",
    "    A = 1\n",
    "    for l_i in range(1, l):\n",
    "        A *= (l_i**2 + eta**2)\n",
    "    B = l**2 * factorial(n + l) / factorial(2 * l + 1) / \\\n",
    "        factorial(2 * l - 1) / factorial(n - l - 1)\n",
    "    C = np.exp(-4 * eta * np.arctan2(1, rho)) / (1 - np.exp(-2 * np.pi * eta))\n",
    "    D = rho**(2 * l + 2) / (1 + rho**2)**(2 * n - 2)\n",
    "    E = (GlA - (1 + rho**2)**(-2) * GlB)**2\n",
    "    return prefactor * A * B * C * D * E\n",
    "\n",
    "\n",
    "def sigma_plus(n, l, E, Z):\n",
    "    \"\"\"Cross section for bound-free absorption from (n, l) through\n",
    "    dipole transition to E with angular momentum l+1\"\"\"\n",
    "    eta = (Z**2 * Ry_in_erg / E)**.5\n",
    "    rho = eta / n\n",
    "    nu = E / h\n",
    "    GlA = G_l(l + 1, -(l + 1 - n), eta, rho)\n",
    "    GlB = G_l(l + 1, -(l - n), eta, rho)\n",
    "\n",
    "    prefactor = 2**(4 * l + 6) / 3 * np.pi * e_e**2 / m_e / c / nu\n",
    "\n",
    "    A = 1\n",
    "    for l_i in range(l + 1):\n",
    "        A *= ((l_i + 1)**2 + eta**2)\n",
    "    B = (l + 1)**2 * factorial(n + l) / (2 * l + 1) / factorial(2 * l + 1) / \\\n",
    "        factorial(2 * l + 2) / factorial(n - l - 1) / ((l + 1)**2 + eta**2)**2\n",
    "\n",
    "    C = np.exp(-4 * eta * np.arctan2(1, rho)) / (1 - np.exp(-2 * np.pi * eta))\n",
    "    D = rho**(2 * l + 4) * eta**2 / (1 + rho**2)**(2 * n)\n",
    "    E = ((l + 1 - n) * GlA + (l + 1 + n) / (1 + rho**2) * GlB)**2\n",
    "    return prefactor * A * B * C * D * E"
   ]
  },
  {
   "cell_type": "code",
   "execution_count": 11,
   "metadata": {
    "ExecuteTime": {
     "end_time": "2018-03-10T21:34:30.777856Z",
     "start_time": "2018-03-10T21:34:30.760897Z"
    },
    "collapsed": true
   },
   "outputs": [],
   "source": [
    "@functools.lru_cache(maxsize=1024)\n",
    "def sigma_bf_nl(n, l, nu, Z):\n",
    "    \"\"\"Bound-free cross section for absorption from (n, l) through\n",
    "    dipole transition to E with angular momenta l+-1\"\"\"\n",
    "    if h * nu < Z**2 * Ry_in_erg / n**2:\n",
    "        return 0.\n",
    "    return sigma_plus(n, l, h * nu, Z) + sigma_minus(n, l, h * nu, Z)\n",
    "\n",
    "\n",
    "@functools.lru_cache(maxsize=1024)\n",
    "def sigma_bf_n(n, Z, nu):\n",
    "    \"\"\"angular momentum-average Bound-free cross section from \n",
    "    n through dipole transition to E with \"\"\"\n",
    "    if h * nu < Z**2 * Ry_in_erg / n**2:\n",
    "        return 0.\n",
    "    gbf = 0\n",
    "    for l in range(n):\n",
    "        gbf += (2 * l + 1) * sigma_bf_nl(n, l, nu, Z)\n",
    "\n",
    "    return gbf / n**2"
   ]
  },
  {
   "cell_type": "code",
   "execution_count": 12,
   "metadata": {
    "ExecuteTime": {
     "end_time": "2018-03-10T21:34:30.789818Z",
     "start_time": "2018-03-10T21:34:30.779697Z"
    },
    "collapsed": true
   },
   "outputs": [],
   "source": [
    "def gamma_fb_n(n, Z, nu, T):\n",
    "    \"\"\"emission coefficient of single-shell bound-free transition for \n",
    "    an ensemble of electrons at temperature T\"\"\"\n",
    "    A = (2 / np.pi)**.5\n",
    "    B = np.exp(Z**2 * Ry_in_erg / n**2 / kb / T) / \\\n",
    "        c**2 / (m_e * kb * T)**(3 / 2)\n",
    "    C = 2 * n**2 * h * (h * nu)**3\n",
    "    D = sigma_bf_n(n, Z, nu)\n",
    "    E = np.exp(-h * nu / kb / T)\n",
    "\n",
    "    return A * B * C * D * E"
   ]
  },
  {
   "cell_type": "code",
   "execution_count": 13,
   "metadata": {
    "ExecuteTime": {
     "end_time": "2018-03-10T21:34:30.795943Z",
     "start_time": "2018-03-10T21:34:30.791687Z"
    },
    "collapsed": true
   },
   "outputs": [],
   "source": [
    "def j_nu_fb(n, Z, nu, T, n_i, n_e):\n",
    "    \"\"\"emission coefficient of shell-sum bound-free transition\"\"\"\n",
    "    # return 1/4/np.pi * n_i * n_e * sum([gamma_fb_n(i, Z, nu, T) for i in range(1, n)])\n",
    "    return sum([gamma_fb_n(i, Z, nu, T) for i in range(1, n)])"
   ]
  },
  {
   "cell_type": "code",
   "execution_count": 14,
   "metadata": {
    "ExecuteTime": {
     "end_time": "2018-03-10T21:34:42.322465Z",
     "start_time": "2018-03-10T21:34:30.797934Z"
    },
    "collapsed": true
   },
   "outputs": [],
   "source": [
    "test1 = []\n",
    "for nu in np.logspace(np.log10(3e13), np.log10(3e15), 200):\n",
    "    test1.append(nu * j_nu_fb(20, 1, nu, 10000, 1e4, 1e4))"
   ]
  },
  {
   "cell_type": "code",
   "execution_count": 15,
   "metadata": {
    "ExecuteTime": {
     "end_time": "2018-03-10T21:34:42.692173Z",
     "start_time": "2018-03-10T21:34:42.324110Z"
    }
   },
   "outputs": [
    {
     "data": {
      "text/plain": [
       "<matplotlib.text.Text at 0x11852ec88>"
      ]
     },
     "execution_count": 15,
     "metadata": {},
     "output_type": "execute_result"
    },
    {
     "data": {
      "image/png": "[encoded data removed]",
      "text/plain": [
       "<matplotlib.figure.Figure at 0x11882e978>"
      ]
     },
     "metadata": {},
     "output_type": "display_data"
    }
   ],
   "source": [
    "plt.loglog(3e14 / np.logspace(np.log10(3e13),\n",
    "                              np.log10(3e15), 200), np.pi * np.array(test1))\n",
    "plt.ylim(1e-26, 1e-23)\n",
    "plt.ylabel(r'\\nu \\gamma_{\\nu} (erg cm^{-3}s^{-1})')\n",
    "plt.xlabel('Wavelength (micron)')"
   ]
  },
  {
   "cell_type": "code",
   "execution_count": 16,
   "metadata": {
    "ExecuteTime": {
     "end_time": "2018-03-10T21:37:08.940191Z",
     "start_time": "2018-03-10T21:34:42.693713Z"
    },
    "collapsed": true
   },
   "outputs": [],
   "source": [
    "test2 = []\n",
    "test3 = []\n",
    "for nu in np.logspace(np.log10(3e13), np.log10(3e15), 400):\n",
    "    test2.append(nu * 1 / 2 / np.pi * emissivity_free_free(1, 1, 1, 10000, nu))\n",
    "    test3.append(nu * j_nu_fb(20, 1, nu, 10000, 1e4, 1e4))"
   ]
  },
  {
   "cell_type": "code",
   "execution_count": 17,
   "metadata": {
    "ExecuteTime": {
     "end_time": "2018-03-10T21:37:09.312082Z",
     "start_time": "2018-03-10T21:37:08.942038Z"
    },
    "scrolled": true
   },
   "outputs": [
    {
     "data": {
      "text/plain": [
       "<matplotlib.text.Text at 0x11c100a20>"
      ]
     },
     "execution_count": 17,
     "metadata": {},
     "output_type": "execute_result"
    },
    {
     "data": {
      "image/png": "[encoded data removed]",
      "text/plain": [
       "<matplotlib.figure.Figure at 0x11bfadb38>"
      ]
     },
     "metadata": {},
     "output_type": "display_data"
    }
   ],
   "source": [
    "plt.loglog(3e14 / np.logspace(np.log10(3e13), np.log10(3e15), 400),\n",
    "           np.array(test2), alpha=.5)\n",
    "plt.loglog(3e14 / np.logspace(np.log10(3e13), np.log10(3e15), 400),\n",
    "           np.pi * np.array(test3), alpha=.5)\n",
    "plt.loglog(3e14 / np.logspace(np.log10(3e13), np.log10(3e15), 400),\n",
    "           np.array(test2) + np.pi * np.array(test3))\n",
    "\n",
    "plt.ylim(1e-26, 1e-23)\n",
    "plt.ylabel(r'\\nu \\gamma_{\\nu} (ergs \\, cm^{-3}s^{-1})')\n",
    "plt.xlabel('Wavelength (micron)')"
   ]
  },
  {
   "cell_type": "code",
   "execution_count": 18,
   "metadata": {
    "ExecuteTime": {
     "end_time": "2018-03-10T21:37:09.341096Z",
     "start_time": "2018-03-10T21:37:09.313884Z"
    },
    "collapsed": true
   },
   "outputs": [],
   "source": [
    "import scipy.interpolate\n",
    "nu_table=(10**14)*np.array([1E-26,1.23,2.47,3.70,4.93,6.17,7.40,8.64,9.87,11.10,12.34]) #10^14 Hz\n",
    "nug_nu=(10**-12)*np.array([0,0.0373,0.242,0.679,1.37,2.33,3.55,5.01,6.69,8.59,10.6])\n",
    "\n",
    "g_nu=nug_nu/nu_table\n",
    "#Interpolate points on table.\n",
    "gnu_interp=scipy.interpolate.interp1d(nu_table,g_nu,kind='cubic')"
   ]
  },
  {
   "cell_type": "code",
   "execution_count": 19,
   "metadata": {
    "ExecuteTime": {
     "end_time": "2018-03-10T21:37:09.346849Z",
     "start_time": "2018-03-10T21:37:09.343143Z"
    },
    "collapsed": true
   },
   "outputs": [],
   "source": [
    "alpha_eff=0.838E-13 #cm^3 * s^-1\n",
    "A_2= 8.23 #s^-1\n",
    "q_p=2.51E-4 + 2.23E-4 #cm^3 * s^-1\n",
    "q_e=0.22E-4 + 0.35E-4 #cm^3 * s^-1\n",
    "nu_12=2*1.234E15"
   ]
  },
  {
   "cell_type": "code",
   "execution_count": 20,
   "metadata": {
    "ExecuteTime": {
     "end_time": "2018-03-10T21:37:09.356192Z",
     "start_time": "2018-03-10T21:37:09.348210Z"
    },
    "collapsed": true
   },
   "outputs": [],
   "source": [
    "def gamma_nu(nu_arr, n_p, n_e):\n",
    "    gammas=[]\n",
    "    denom=1+((n_p*q_p+n_e*q_p)/A_2)\n",
    "    for nu in nu_arr:\n",
    "        if nu <= nu_12/2:\n",
    "            g_nu=gnu_interp(nu)\n",
    "            gammas.append((alpha_eff)*g_nu/denom)\n",
    "        elif nu > nu_12/2:\n",
    "            g_nu2=(nu/(nu_12-nu))*gnu_interp(nu_12-nu)\n",
    "            gammas.append((alpha_eff)*g_nu2/denom)\n",
    "    return gammas"
   ]
  },
  {
   "cell_type": "code",
   "execution_count": 21,
   "metadata": {
    "ExecuteTime": {
     "end_time": "2018-03-10T21:37:09.372657Z",
     "start_time": "2018-03-10T21:37:09.357741Z"
    }
   },
   "outputs": [],
   "source": [
    "nu_arr=np.logspace(np.log10(1.23E14),np.log10(2.467e15),200)\n",
    "gamma_nu_arr=gamma_nu(nu_arr,0,0)"
   ]
  },
  {
   "cell_type": "code",
   "execution_count": 22,
   "metadata": {
    "ExecuteTime": {
     "end_time": "2018-03-10T21:37:09.759043Z",
     "start_time": "2018-03-10T21:37:09.374546Z"
    }
   },
   "outputs": [
    {
     "data": {
      "text/plain": [
       "<matplotlib.text.Text at 0x11c364668>"
      ]
     },
     "execution_count": 22,
     "metadata": {},
     "output_type": "execute_result"
    },
    {
     "data": {
      "image/png": "[encoded data removed]",
      "text/plain": [
       "<matplotlib.figure.Figure at 0x11c366cc0>"
      ]
     },
     "metadata": {},
     "output_type": "display_data"
    }
   ],
   "source": [
    "plt.loglog(3E14/np.logspace(np.log10(1.23e14),np.log10(2.467e15),200), nu_arr*gamma_nu_arr)\n",
    "plt.ylabel(r'$\\nu \\gamma_{\\nu} (erg cm^{-3}s^{-1})$')\n",
    "plt.ylim(1e-26,1e-23)\n",
    "plt.xlim(0.1,10)\n",
    "plt.xlabel('Wavelength (micron)')"
   ]
  },
  {
   "cell_type": "code",
   "execution_count": 23,
   "metadata": {
    "ExecuteTime": {
     "end_time": "2018-03-10T21:37:09.763593Z",
     "start_time": "2018-03-10T21:37:09.760678Z"
    },
    "collapsed": true
   },
   "outputs": [],
   "source": [
    "alpha_B = 2.6e-13 #cm^3 s^-1 for 10^4K only!"
   ]
  },
  {
   "cell_type": "code",
   "execution_count": 88,
   "metadata": {
    "ExecuteTime": {
     "end_time": "2018-03-10T22:55:57.408624Z",
     "start_time": "2018-03-10T22:55:57.402549Z"
    },
    "collapsed": true
   },
   "outputs": [],
   "source": [
    "def nebular_continuum_emission(n, Z, nu, T, n_i, n_e, f_esc, N_LyC):\n",
    "    j_fb = np.pi*j_nu_fb(n, Z, nu, T, n_i, n_e)\n",
    "    j_ff = 1/2/np.pi*emissivity_free_free(Z, n_i, n_e, T, nu)\n",
    "    j_2q = gamma_nu([nu], n_i, n_e)[0]\n",
    "    return (j_fb + j_ff + j_2q) / alpha_B * (1 - f_esc) * N_LyC"
   ]
  },
  {
   "cell_type": "code",
   "execution_count": 90,
   "metadata": {
    "ExecuteTime": {
     "end_time": "2018-03-10T22:57:43.103362Z",
     "start_time": "2018-03-10T22:57:42.909538Z"
    }
   },
   "outputs": [
    {
     "data": {
      "text/plain": [
       "mpf('5.9507588861014746e+25')"
      ]
     },
     "execution_count": 90,
     "metadata": {},
     "output_type": "execute_result"
    }
   ],
   "source": [
    "nebular_continuum_emission(20, 1, 1e15, 10000, 1e4, 1e2, 0, 1e52)"
   ]
  },
  {
   "cell_type": "code",
   "execution_count": 30,
   "metadata": {
    "ExecuteTime": {
     "end_time": "2018-03-10T21:39:19.804824Z",
     "start_time": "2018-03-10T21:39:19.455570Z"
    }
   },
   "outputs": [
    {
     "data": {
      "text/plain": [
       "<matplotlib.text.Text at 0x11dc5f1d0>"
      ]
     },
     "execution_count": 30,
     "metadata": {},
     "output_type": "execute_result"
    },
    {
     "data": {
      "image/png": "[encoded data removed]",
      "text/plain": [
       "<matplotlib.figure.Figure at 0x11df39470>"
      ]
     },
     "metadata": {},
     "output_type": "display_data"
    }
   ],
   "source": [
    "plt.loglog(3e14 / np.logspace(np.log10(3e13), np.log10(3e15), 400),\n",
    "           np.array(test2) + np.pi * np.array(test3), 'k')\n",
    "plt.loglog(3E14/np.logspace(np.log10(1.23e14),np.log10(2.467e15),200), nu_arr*gamma_nu_arr, 'k',alpha=.3)\n",
    "plt.ylim(1e-26, 1e-23)\n",
    "plt.ylabel(r'\\nu \\gamma_{\\nu} (ergs \\, cm^{-3}s^{-1})')\n",
    "plt.xlabel('Wavelength (micron)')\n"
   ]
  },
  {
   "cell_type": "code",
   "execution_count": 42,
   "metadata": {
    "ExecuteTime": {
     "end_time": "2018-03-10T22:03:22.389707Z",
     "start_time": "2018-03-10T22:03:22.387285Z"
    },
    "collapsed": true
   },
   "outputs": [],
   "source": [
    "import math"
   ]
  },
  {
   "cell_type": "code",
   "execution_count": 106,
   "metadata": {
    "ExecuteTime": {
     "end_time": "2018-03-10T23:12:35.015967Z",
     "start_time": "2018-03-10T23:12:35.002726Z"
    },
    "collapsed": true
   },
   "outputs": [],
   "source": [
    "def hbeta_line_luminosity(fesc, N_LyC):\n",
    "    return 4.78e-13 * (1-fesc) * N_LyC\n",
    "\n",
    "def gaussian(wave, wave0, flux, sigma):\n",
    "    return flux*np.exp(-(wave-wave0)**2/2/sigma**2)/(2*math.pi*sigma**2)**.5\n",
    "\n",
    "def compute(fluxhbeta): \n",
    "    ratios=np.genfromtxt(\"ratios_10.dat\")\n",
    "    waves0, intensities, references=ratios[:,0], ratios[:,1], ratios[:,2]\n",
    "    nu0 = 3e18 / waves0\n",
    "    intensities *= references\n",
    "    intensities *= fluxhbeta\n",
    "    \n",
    "    return waves0 / 10000, intensities / nu0"
   ]
  },
  {
   "cell_type": "code",
   "execution_count": 111,
   "metadata": {
    "ExecuteTime": {
     "end_time": "2018-03-10T23:13:18.730419Z",
     "start_time": "2018-03-10T23:13:18.520076Z"
    }
   },
   "outputs": [
    {
     "data": {
      "text/plain": [
       "<matplotlib.collections.PathCollection at 0x121bcffd0>"
      ]
     },
     "execution_count": 111,
     "metadata": {},
     "output_type": "execute_result"
    },
    {
     "data": {
      "image/png": "[encoded data removed]",
      "text/plain": [
       "<matplotlib.figure.Figure at 0x1287ad780>"
      ]
     },
     "metadata": {},
     "output_type": "display_data"
    }
   ],
   "source": [
    "plt.scatter(compute(hbeta_line_luminosity(0,1e52))[0], compute(hbeta_line_luminosity(0,1e52))[1])"
   ]
  },
  {
   "cell_type": "code",
   "execution_count": 117,
   "metadata": {
    "ExecuteTime": {
     "end_time": "2018-03-10T23:16:22.937038Z",
     "start_time": "2018-03-10T23:16:22.932662Z"
    }
   },
   "outputs": [],
   "source": [
    "nus = np.concatenate(([3e14 / compute(hbeta_line_luminosity(0,1e52))[0],np.logspace(np.log10(1.23e14),np.log10(2.467e15),400)]))"
   ]
  },
  {
   "cell_type": "code",
   "execution_count": 122,
   "metadata": {
    "ExecuteTime": {
     "end_time": "2018-03-10T23:19:16.730173Z",
     "start_time": "2018-03-10T23:19:16.726699Z"
    }
   },
   "outputs": [
    {
     "data": {
      "text/plain": [
       "408"
      ]
     },
     "execution_count": 122,
     "metadata": {},
     "output_type": "execute_result"
    }
   ],
   "source": [
    "len(outlines)"
   ]
  },
  {
   "cell_type": "code",
   "execution_count": 118,
   "metadata": {
    "ExecuteTime": {
     "end_time": "2018-03-10T23:18:42.059123Z",
     "start_time": "2018-03-10T23:16:36.286281Z"
    }
   },
   "outputs": [],
   "source": [
    "out = [nebular_continuum_emission(20, 1, i, 10000, 1e4, 1e2, 0, 1e52) for i in nus]"
   ]
  },
  {
   "cell_type": "code",
   "execution_count": 119,
   "metadata": {
    "ExecuteTime": {
     "end_time": "2018-03-10T23:18:42.065204Z",
     "start_time": "2018-03-10T23:18:42.060782Z"
    },
    "collapsed": true
   },
   "outputs": [],
   "source": [
    "outlines = np.concatenate((compute(hbeta_line_luminosity(0,1e52))[1], np.zeros(400)))"
   ]
  },
  {
   "cell_type": "code",
   "execution_count": null,
   "metadata": {
    "collapsed": true
   },
   "outputs": [],
   "source": [
    "np.argsort(nus)"
   ]
  },
  {
   "cell_type": "code",
   "execution_count": 126,
   "metadata": {
    "ExecuteTime": {
     "end_time": "2018-03-10T23:21:29.583448Z",
     "start_time": "2018-03-10T23:21:29.408117Z"
    }
   },
   "outputs": [
    {
     "data": {
      "text/plain": [
       "[<matplotlib.lines.Line2D at 0x12e2dbe80>]"
      ]
     },
     "execution_count": 126,
     "metadata": {},
     "output_type": "execute_result"
    },
    {
     "data": {
      "image/png": "[encoded data removed]",
      "text/plain": [
       "<matplotlib.figure.Figure at 0x12e1eaa90>"
      ]
     },
     "metadata": {},
     "output_type": "display_data"
    }
   ],
   "source": [
    "plt.plot((3e14/nus)[np.argsort(nus)], (out + outlines)[np.argsort(nus)])\n"
   ]
  },
  {
   "cell_type": "code",
   "execution_count": 127,
   "metadata": {
    "ExecuteTime": {
     "end_time": "2018-03-10T23:22:35.387189Z",
     "start_time": "2018-03-10T23:22:35.379602Z"
    },
    "collapsed": true
   },
   "outputs": [],
   "source": [
    "np.savetxt('plot.txt', [(3e14/nus)[np.argsort(nus)],(out + outlines)[np.argsort(nus)]])"
   ]
  },
  {
   "cell_type": "code",
   "execution_count": 97,
   "metadata": {
    "ExecuteTime": {
     "end_time": "2018-03-10T23:07:24.697292Z",
     "start_time": "2018-03-10T23:07:24.436644Z"
    }
   },
   "outputs": [
    {
     "data": {
      "text/plain": [
       "[<matplotlib.lines.Line2D at 0x12240ac18>]"
      ]
     },
     "execution_count": 97,
     "metadata": {},
     "output_type": "execute_result"
    },
    {
     "data": {
      "image/png": "[encoded data removed]",
      "text/plain": [
       "<matplotlib.figure.Figure at 0x121f10978>"
      ]
     },
     "metadata": {},
     "output_type": "display_data"
    }
   ],
   "source": [
    "plt.plot(3e14/np.logspace(np.log10(1.23e14),np.log10(2.467e15),400000)*10000, compute(hbeta_line_luminosity(0, 1e52), 3e14/np.logspace(np.log10(1.23e14),np.log10(2.467e15),400000)*10000, 20))"
   ]
  },
  {
   "cell_type": "code",
   "execution_count": 102,
   "metadata": {
    "ExecuteTime": {
     "end_time": "2018-03-10T23:08:42.071050Z",
     "start_time": "2018-03-10T23:08:40.418001Z"
    }
   },
   "outputs": [
    {
     "data": {
      "text/plain": [
       "[<matplotlib.lines.Line2D at 0x127482b70>]"
      ]
     },
     "execution_count": 102,
     "metadata": {},
     "output_type": "execute_result"
    },
    {
     "data": {
      "image/png": "[encoded data removed]",
      "text/plain": [
       "<matplotlib.figure.Figure at 0x11e7722e8>"
      ]
     },
     "metadata": {},
     "output_type": "display_data"
    }
   ],
   "source": [
    "#plt.semilogy(3e14/np.logspace(np.log10(1.23e14),np.log10(2.467e15),400), out)\n",
    "plt.semilogy(3e14/np.logspace(np.log10(1.23e14),np.log10(2.467e15),400000)*10000, compute(hbeta_line_luminosity(0, 1e52), 3e14/np.logspace(np.log10(1.23e14),np.log10(2.467e15),400000)*10000, 20))"
   ]
  },
  {
   "cell_type": "code",
   "execution_count": null,
   "metadata": {
    "collapsed": true
   },
   "outputs": [],
   "source": []
  }
 ],
 "metadata": {
  "anaconda-cloud": {},
  "kernelspec": {
   "display_name": "Python [Root]",
   "language": "python",
   "name": "Python [Root]"
  },
  "language_info": {
   "codemirror_mode": {
    "name": "ipython",
    "version": 3
   },
   "file_extension": ".py",
   "mimetype": "text/x-python",
   "name": "python",
   "nbconvert_exporter": "python",
   "pygments_lexer": "ipython3",
   "version": "3.5.2"
  }
 },
 "nbformat": 4,
 "nbformat_minor": 2
}
