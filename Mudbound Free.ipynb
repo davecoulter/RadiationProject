{
 "cells": [
  {
   "cell_type": "code",
   "execution_count": 1,
   "metadata": {
    "ExecuteTime": {
     "end_time": "2018-02-27T07:31:19.568416Z",
     "start_time": "2018-02-27T07:31:18.626304Z"
    },
    "collapsed": true
   },
   "outputs": [],
   "source": [
    "import numpy as np\n",
    "from scipy import constants\n",
    "import scipy.integrate\n",
    "import matplotlib.pyplot as plt\n",
    "%matplotlib inline\n",
    "plt.rc('text', usetex=True)\n",
    "from scipy.special import factorial\n",
    "import functools\n",
    "Ry_in_erg = constants.value('Rydberg constant times hc in J') * 1.e7 #in ergs\n",
    "kb = constants.k * 1e7\n",
    "h = constants.value('Planck constant') * 1e7 #in ergs s\n",
    "c = constants.c * 1.e2 # in cm/s\n",
    "e_e = 4.80320451e-10 #in statcoulomb\n",
    "m_e = constants.electron_mass * 1e3 # in g"
   ]
  },
  {
   "cell_type": "code",
   "execution_count": 4,
   "metadata": {
    "ExecuteTime": {
     "end_time": "2018-02-27T07:31:20.110646Z",
     "start_time": "2018-02-27T07:31:20.092515Z"
    },
    "collapsed": true
   },
   "outputs": [],
   "source": [
    "def G_l(l, m, eta, rho):\n",
    "    \"\"\"G matrix element\"\"\"\n",
    "    gl = 0\n",
    "    for i in range(2*m + 1):\n",
    "        gl += b_s(i, l, m, eta, rho) * rho**i\n",
    "        \n",
    "    return gl\n",
    "@functools.lru_cache(maxsize=128)\n",
    "def b_s(s, l, m, eta, rho):\n",
    "    \"\"\"polynomial solution to matrix element G_l\"\"\"\n",
    "    if s == 0:\n",
    "        return 1\n",
    "    if s == 1:\n",
    "        return 2 * m * eta / l\n",
    "    \n",
    "    bsminus1 = b_s(s-1, l, m, eta, rho)\n",
    "    bsminus2 = b_s(s-2, l, m, eta, rho)\n",
    "    bs = -(1/(s*(s + 2*l-1))) * (4*eta * (s - 1 - m)*bsminus1 + (2 * m + 2. - s)* (2*m + 2*l + 1 - s) * bsminus2)\n",
    "    return bs"
   ]
  },
  {
   "cell_type": "code",
   "execution_count": 5,
   "metadata": {
    "ExecuteTime": {
     "end_time": "2018-02-27T07:31:20.500678Z",
     "start_time": "2018-02-27T07:31:20.411622Z"
    },
    "collapsed": true
   },
   "outputs": [],
   "source": [
    "def sigma_minus(n, l, E, Z):\n",
    "    \"\"\"Cross section for bound-free absorption from (n, l) through\n",
    "    dipole transition to E with angular momentum l-1\"\"\"\n",
    "    eta = (Z**2 * Ry_in_erg / E)**.5\n",
    "    nu = E / h\n",
    "    if l == 0:\n",
    "        return 0\n",
    "\n",
    "    rho = eta / n\n",
    "    GlA = G_l(l, -(l+1-n), eta, rho)\n",
    "    GlB = G_l(l, -(l-1-n), eta, rho)\n",
    "\n",
    "    prefactor = 2**(4*l)/3*np.pi * e_e**2/m_e/c / nu\n",
    "    \n",
    "    A = 1\n",
    "    for l_i in range(1, l):\n",
    "        A*= (l_i**2 + eta**2)\n",
    "    B = l**2 * factorial(n+l) / factorial(2*l +1) /factorial(2*l-1)/factorial(n-l-1)\n",
    "    C = np.exp(-4*eta * np.arctan2(1,rho)) / (1-np.exp(-2*np.pi*eta)) \n",
    "    D = rho**(2*l+2)/(1+rho**2)**(2*n-2)\n",
    "    E = (GlA - (1+rho**2)**(-2)*GlB)**2\n",
    "    return prefactor*A *B*C*D*E\n",
    "\n",
    "def sigma_plus(n, l, E, Z):\n",
    "    \"\"\"Cross section for bound-free absorption from (n, l) through\n",
    "    dipole transition to E with angular momentum l+1\"\"\"\n",
    "    eta = (Z**2 * Ry_in_erg / E)**.5\n",
    "    rho = eta / n\n",
    "    nu = E / h\n",
    "    GlA = G_l(l+1, -(l+1-n), eta, rho)\n",
    "    GlB = G_l(l+1, -(l-n), eta, rho)\n",
    "\n",
    "    prefactor = 2**(4*l + 6)/3*np.pi * e_e**2/m_e/c / nu\n",
    "    \n",
    "    A = 1\n",
    "    for l_i in range(l + 1):\n",
    "        A*= ((l_i+1)**2 + eta**2)\n",
    "    B = (l+1)**2 * factorial(n+l) / (2*l+1)/factorial(2*l +1) /factorial(2*l+2)/factorial(n-l-1)/((l+1)**2+eta**2)**2\n",
    "    \n",
    "    C = np.exp(-4*eta * np.arctan2(1,rho)) / (1-np.exp(-2*np.pi*eta)) \n",
    "    D = rho**(2*l+4)*eta**2/(1+rho**2)**(2*n)\n",
    "    E = ((l+1-n)*GlA + (l+1+n)/(1+rho**2)*GlB)**2\n",
    "    return prefactor*A *B*C*D*E    "
   ]
  },
  {
   "cell_type": "code",
   "execution_count": 6,
   "metadata": {
    "ExecuteTime": {
     "end_time": "2018-02-27T07:31:20.715882Z",
     "start_time": "2018-02-27T07:31:20.701756Z"
    },
    "collapsed": true
   },
   "outputs": [],
   "source": [
    "@functools.lru_cache(maxsize=128)\n",
    "def sigma_bf_nl(n, l, nu, Z):\n",
    "    if h * nu < Z**2 * Ry_in_erg / n**2:\n",
    "        return 0.\n",
    "    return sigma_plus(n, l, h*nu, Z) + sigma_minus(n, l, h*nu, Z)\n",
    "@functools.lru_cache(maxsize=128)\n",
    "def sigma_bf_n(n, Z, nu):\n",
    "    if h * nu < Z**2 * Ry_in_erg / n**2:\n",
    "        return 0.\n",
    "    gbf = 0\n",
    "    for l in range(n):\n",
    "        gbf += (2*l + 1) * sigma_bf_nl(n, l, nu, Z)\n",
    "\n",
    "    return gbf / n**2"
   ]
  },
  {
   "cell_type": "code",
   "execution_count": 7,
   "metadata": {
    "ExecuteTime": {
     "end_time": "2018-02-27T07:31:21.869175Z",
     "start_time": "2018-02-27T07:31:21.859587Z"
    }
   },
   "outputs": [],
   "source": [
    "def gamma_fb_n(n, Z, nu, T):\n",
    "    A = (2/np.pi)**.5\n",
    "    B = np.exp(Z**2 * Ry_in_erg/n**2 / kb/T)/c**2/(m_e * kb*T)**(3/2)\n",
    "    C = 2 * n**2 * h * (h*nu)**3 \n",
    "    D = sigma_bf_n(n, Z, nu) \n",
    "    E = np.exp(-h*nu/kb/T)\n",
    "\n",
    "    return A*B*C*D*E"
   ]
  },
  {
   "cell_type": "code",
   "execution_count": 8,
   "metadata": {
    "ExecuteTime": {
     "end_time": "2018-02-27T07:31:23.174332Z",
     "start_time": "2018-02-27T07:31:23.171189Z"
    },
    "collapsed": true
   },
   "outputs": [],
   "source": [
    "def j_nu_fb(n, Z, nu, T, n_i, n_e):\n",
    "    #return 1/4/np.pi * n_i * n_e * sum([gamma_fb_n(i, Z, nu, T) for i in range(1, n)])\n",
    "    return sum([gamma_fb_n(i, Z, nu, T) for i in range(1, n)])"
   ]
  },
  {
   "cell_type": "code",
   "execution_count": 9,
   "metadata": {
    "ExecuteTime": {
     "end_time": "2018-02-27T07:31:24.832024Z",
     "start_time": "2018-02-27T07:31:24.820060Z"
    }
   },
   "outputs": [
    {
     "data": {
      "text/plain": [
       "1.9245403650399653e-40"
      ]
     },
     "execution_count": 9,
     "metadata": {},
     "output_type": "execute_result"
    }
   ],
   "source": [
    "j_nu_fb(11, 1, 11.530e14, 20000,1e4,1e4)"
   ]
  },
  {
   "cell_type": "code",
   "execution_count": 17,
   "metadata": {
    "ExecuteTime": {
     "end_time": "2018-02-27T07:33:06.302295Z",
     "start_time": "2018-02-27T07:33:05.578977Z"
    }
   },
   "outputs": [],
   "source": [
    "test = []\n",
    "for nu in np.logspace(np.log10(3e14),15,20):\n",
    "    test.append(j_nu_fb(20, 1, nu, 20000,1e4,1e4))"
   ]
  },
  {
   "cell_type": "code",
   "execution_count": 18,
   "metadata": {
    "ExecuteTime": {
     "end_time": "2018-02-27T07:33:07.403028Z",
     "start_time": "2018-02-27T07:33:06.891802Z"
    }
   },
   "outputs": [
    {
     "data": {
      "text/plain": [
       "[<matplotlib.lines.Line2D at 0x11c2f5940>]"
      ]
     },
     "execution_count": 18,
     "metadata": {},
     "output_type": "execute_result"
    },
    {
     "data": {
      "image/png": "[encoded data removed]",
      "text/plain": [
       "<matplotlib.figure.Figure at 0x11c1c0208>"
      ]
     },
     "metadata": {},
     "output_type": "display_data"
    }
   ],
   "source": [
    "plt.plot(np.logspace(np.log10(3e14),15,20), test)"
   ]
  },
  {
   "cell_type": "code",
   "execution_count": null,
   "metadata": {
    "ExecuteTime": {
     "end_time": "2018-02-27T07:03:10.853770Z",
     "start_time": "2018-02-27T07:03:10.847861Z"
    },
    "collapsed": true
   },
   "outputs": [],
   "source": [
    "n=1;l=1; nu=1e16;Z=1;\n",
    "print(sigma_plus(n, l, h * nu, Z),sigma_minus(n, l, h * nu, Z),sigma_K(n, h * nu, Z))"
   ]
  },
  {
   "cell_type": "code",
   "execution_count": 153,
   "metadata": {
    "ExecuteTime": {
     "end_time": "2018-02-27T06:43:53.879839Z",
     "start_time": "2018-02-27T06:43:53.874089Z"
    }
   },
   "outputs": [
    {
     "name": "stdout",
     "output_type": "stream",
     "text": [
      "0.7978845608028654 1.44173668011e+38 2.2206318677496946e-60 1.79311481462e-33\n"
     ]
    },
    {
     "data": {
      "text/plain": [
       "4.5804766745581302e-55"
      ]
     },
     "execution_count": 153,
     "metadata": {},
     "output_type": "execute_result"
    }
   ],
   "source": [
    "gamma_fb_n(3,1,4e14,10000)"
   ]
  },
  {
   "cell_type": "code",
   "execution_count": 156,
   "metadata": {
    "ExecuteTime": {
     "end_time": "2018-02-27T06:46:38.696147Z",
     "start_time": "2018-02-27T06:46:38.688427Z"
    }
   },
   "outputs": [],
   "source": [
    "energy = [.1e13,.1111e12,.1e11,.1111e10,.1e9,.1111e8,.1e7,.1111e6,.4e5,.2041e5, .1e5,.4444e4,.25e4,.1111e4,.4e3,.2041e3,.1e3,.4444e2,.25e2,.16e2,.1111e2,.625e1,.4e1,.2778e1,.2041e1,.1562e1,.1235e1,.1e1,.6944,.4444,.25,.11111,.4e-1, .2041e-1,.1e-1,.4444e-2,.25e-2,.1111e-2,.1e-3]\n",
    "\n",
    "ys = []\n",
    "for i in range(len(electronenergy)):\n",
    "    ys.append( gaunt_bound_free(energy[i]* Ry_in_erg / h,1,0,1))"
   ]
  },
  {
   "cell_type": "code",
   "execution_count": 154,
   "metadata": {
    "ExecuteTime": {
     "end_time": "2018-02-27T06:45:04.548374Z",
     "start_time": "2018-02-27T06:45:04.532633Z"
    }
   },
   "outputs": [
    {
     "ename": "TypeError",
     "evalue": "gaunt_bound_free() takes 4 positional arguments but 5 were given",
     "output_type": "error",
     "traceback": [
      "\u001b[0;31m---------------------------------------------------------------------------\u001b[0m",
      "\u001b[0;31mTypeError\u001b[0m                                 Traceback (most recent call last)",
      "\u001b[0;32m<ipython-input-154-2cb824917b0e>\u001b[0m in \u001b[0;36m<module>\u001b[0;34m()\u001b[0m\n\u001b[1;32m      4\u001b[0m \u001b[0mys\u001b[0m \u001b[0;34m=\u001b[0m \u001b[0;34m[\u001b[0m\u001b[0;34m]\u001b[0m\u001b[0;34m\u001b[0m\u001b[0m\n\u001b[1;32m      5\u001b[0m \u001b[0;32mfor\u001b[0m \u001b[0mi\u001b[0m \u001b[0;32min\u001b[0m \u001b[0mrange\u001b[0m\u001b[0;34m(\u001b[0m\u001b[0mlen\u001b[0m\u001b[0;34m(\u001b[0m\u001b[0melectronenergy\u001b[0m\u001b[0;34m)\u001b[0m\u001b[0;34m)\u001b[0m\u001b[0;34m:\u001b[0m\u001b[0;34m\u001b[0m\u001b[0m\n\u001b[0;32m----> 6\u001b[0;31m     \u001b[0mys\u001b[0m\u001b[0;34m.\u001b[0m\u001b[0mappend\u001b[0m\u001b[0;34m(\u001b[0m \u001b[0mgaunt_bound_free\u001b[0m\u001b[0;34m(\u001b[0m\u001b[0;36m1\u001b[0m\u001b[0;34m,\u001b[0m\u001b[0;36m0\u001b[0m\u001b[0;34m,\u001b[0m\u001b[0melectronenergy\u001b[0m\u001b[0;34m[\u001b[0m\u001b[0mi\u001b[0m\u001b[0;34m]\u001b[0m\u001b[0;34m*\u001b[0m \u001b[0mRy_in_erg\u001b[0m\u001b[0;34m,\u001b[0m\u001b[0;36m1\u001b[0m\u001b[0;34m,\u001b[0m \u001b[0mphotonenergy\u001b[0m\u001b[0;34m[\u001b[0m\u001b[0mi\u001b[0m\u001b[0;34m]\u001b[0m \u001b[0;34m*\u001b[0m \u001b[0mRy_in_erg\u001b[0m\u001b[0;34m)\u001b[0m\u001b[0;34m)\u001b[0m\u001b[0;34m\u001b[0m\u001b[0m\n\u001b[0m",
      "\u001b[0;31mTypeError\u001b[0m: gaunt_bound_free() takes 4 positional arguments but 5 were given"
     ]
    }
   ],
   "source": [
    "electronenergy = [.1e13,.1111e12,.1e11,.1111e10,.1e9,.1111e8,.1e7,.1111e6,.4e5,.2041e5, .1e5,.4444e4,.25e4,.1111e4,.4e3,.2041e3,.1e3,.4444e2,.25e2,.16e2,.1111e2,.625e1,.4e1,.2778e1,.2041e1,.1562e1,.1235e1,.1e1,.6944,.4444,.25,.11111,.4e-1, .2041e-1,.1e-1,.4444e-2,.25e-2,.1111e-2,.1e-3]\n",
    "photonenergy = [.1e13,.1111e12,.1e11,.1111e10,.1e9,.1111e8,.1e7,.1111e6,.4e5,.2041e5, .1e5,.4445e4,.2501e4,.1112e4,.401e3,.2051e3,.101e3,.4544e2,.26e2,.17e2,.1211e2,.725e1,.5e1,.3778e1,.3041e1,.2562e1,.2235e1,.2e1,1.6944,1.4444,1.25,1.1111,1.04, 1.02,1.01,1.004,1.002,1.001,1.]\n",
    "\n",
    "ys = []\n",
    "for i in range(len(electronenergy)):\n",
    "    ys.append( gaunt_bound_free(1,0,electronenergy[i]* Ry_in_erg,1, photonenergy[i] * Ry_in_erg))"
   ]
  },
  {
   "cell_type": "code",
   "execution_count": 157,
   "metadata": {
    "ExecuteTime": {
     "end_time": "2018-02-27T06:46:42.459617Z",
     "start_time": "2018-02-27T06:46:42.126884Z"
    }
   },
   "outputs": [
    {
     "data": {
      "text/plain": [
       "(0.0001, 1000.0)"
      ]
     },
     "execution_count": 157,
     "metadata": {},
     "output_type": "execute_result"
    },
    {
     "data": {
      "image/png": "[encoded data removed]",
      "text/plain": [
       "<matplotlib.figure.Figure at 0x1182b1a58>"
      ]
     },
     "metadata": {},
     "output_type": "display_data"
    }
   ],
   "source": [
    "plt.semilogx(electronenergy, ys)\n",
    "plt.xlim(1e-4,1e3)"
   ]
  },
  {
   "cell_type": "code",
   "execution_count": 42,
   "metadata": {
    "ExecuteTime": {
     "end_time": "2018-02-27T04:39:17.234739Z",
     "start_time": "2018-02-27T04:39:17.228776Z"
    }
   },
   "outputs": [
    {
     "data": {
      "text/plain": [
       "[(1000000000000.0, 6.928181464679343e-06),\n",
       " (111100000000.0, 2.0785453090497418e-05),\n",
       " (10000000000.0, 6.927985578709009e-05),\n",
       " (1111000000.0, 0.00020783690017708346),\n",
       " (100000000.0, 0.00069260271067481084),\n",
       " (11110000.0, 0.0020766069769424505),\n",
       " (1000000.0, 0.00690648115017137),\n",
       " (111100.0, 0.020590910574523291),\n",
       " (40000.0, 0.034102282962173124),\n",
       " (20410.0, 0.047443611951461788),\n",
       " (10000.0, 0.067148405382002591),\n",
       " (4444.0, 0.099163708197269426),\n",
       " (2500.0, 0.13017182278281925),\n",
       " (1111.0, 0.18931386370372316),\n",
       " (400.0, 0.29674370557004848),\n",
       " (204.1, 0.39105257913286179),\n",
       " (100.0, 0.51110924261064361),\n",
       " (44.44, 0.66433873645601171),\n",
       " (25.0, 0.77269416741102259),\n",
       " (16.0, 0.8485465202995498),\n",
       " (11.11, 0.90103262034365117),\n",
       " (6.25, 0.9607893310491824),\n",
       " (4.0, 0.98626041255065855),\n",
       " (2.778, 0.99499864266609517),\n",
       " (2.041, 0.99584155639178107),\n",
       " (1.562, 0.99316608678270779),\n",
       " (1.235, 0.98914384445631853),\n",
       " (1.0, 0.98477070434743219),\n",
       " (0.6944, 0.97665550457099726),\n",
       " (0.4444, 0.96736214708283741),\n",
       " (0.25, 0.95798837771069101),\n",
       " (0.11111, 0.94986034170825562),\n",
       " (0.04, 0.94515921923449597),\n",
       " (0.02041, 0.94376440666525951),\n",
       " (0.01, 0.94305456392339804),\n",
       " (0.004444, 0.94262461759190186),\n",
       " (0.0025, 0.94248062353608997),\n",
       " (0.001111, 0.94240849878051713),\n",
       " (0.0001, 0.94233628872800435)]"
      ]
     },
     "execution_count": 42,
     "metadata": {},
     "output_type": "execute_result"
    }
   ],
   "source": [
    "list(zip(electronenergy, ys))"
   ]
  },
  {
   "cell_type": "code",
   "execution_count": 43,
   "metadata": {
    "ExecuteTime": {
     "end_time": "2018-02-27T04:39:20.000098Z",
     "start_time": "2018-02-27T04:39:19.996227Z"
    }
   },
   "outputs": [
    {
     "data": {
      "text/plain": [
       "0.93468314972725575"
      ]
     },
     "execution_count": 43,
     "metadata": {},
     "output_type": "execute_result"
    }
   ],
   "source": [
    "gaunt_bound_free(2,0,1e-20*Ry_in_erg, 1, .000025*Ry_in_erg)"
   ]
  },
  {
   "cell_type": "code",
   "execution_count": null,
   "metadata": {
    "collapsed": true
   },
   "outputs": [],
   "source": []
  },
  {
   "cell_type": "code",
   "execution_count": 35,
   "metadata": {
    "ExecuteTime": {
     "end_time": "2018-02-27T04:39:12.706703Z",
     "start_time": "2018-02-27T04:39:12.696522Z"
    },
    "collapsed": true
   },
   "outputs": [],
   "source": [
    "def gaunt_bound_free(n, l, E, Z, Eph):\n",
    "    \"\"\"ratio of the cross section for bound-free absorption from \n",
    "    a bound state (n, l) to a free (continuum) state E with \n",
    "    unpolarized photon E_ph and the Kramers' semi-classical \n",
    "    bound-free cross section\n",
    "    \n",
    "    Arguments:\n",
    "    n    : Principal quantum number\n",
    "    l    : Azimuthal quantum number\n",
    "    E    : Energy of free (continuum) state\n",
    "    Z    : Atomin number\n",
    "    Eph  : energy of unpolarized photon\n",
    "    \n",
    "    Returns:\n",
    "    g_bf : (n,l,E) Gaunt factor for bound-free transitions\n",
    "    \"\"\"\n",
    "    E0 = np.copy(E)\n",
    "    if E0 < Eph:\n",
    "        E0 = Eph\n",
    "        \n",
    "    sigmaA = sigma_plus(n, l, E0, Z, nu=Eph / h * Z**2)\n",
    "    sigmaB = sigma_minus(n, l, E0, Z, nu=Eph / h * Z**2)\n",
    "    sigmaK = sigma_K(n, E0, Z, nu=Eph / h * Z**2)\n",
    "    return (sigmaA + sigmaB) / sigmaK\n"
   ]
  },
  {
   "cell_type": "code",
   "execution_count": 2,
   "metadata": {
    "ExecuteTime": {
     "end_time": "2018-02-27T07:31:19.575339Z",
     "start_time": "2018-02-27T07:31:19.569909Z"
    },
    "collapsed": true
   },
   "outputs": [],
   "source": [
    "def gaunt_bound_free(nu, n, l, Z):\n",
    "    if h * nu < Z**2 * Ry_in_erg / n**2:\n",
    "        return 0.\n",
    "    sp = sigma_plus(n, l, h * nu, Z)\n",
    "    sm = sigma_minus(n, l, h * nu, Z)\n",
    "    sK = sigma_K(n, h * nu, Z)\n",
    "    return (sp + sm) / sK"
   ]
  },
  {
   "cell_type": "code",
   "execution_count": 3,
   "metadata": {
    "ExecuteTime": {
     "end_time": "2018-02-27T07:31:19.736378Z",
     "start_time": "2018-02-27T07:31:19.731626Z"
    },
    "collapsed": true
   },
   "outputs": [],
   "source": [
    "def sigma_K(n, E, Z):\n",
    "    \"\"\"Kramers' semi-classical bound-free cross section\"\"\"\n",
    "    eta = (Z**2 * Ry_in_erg / E)**.5\n",
    "    rho = eta / n\n",
    "    nu = E / h\n",
    "    return 2.**4 / 3. / 3.**.5 *(e_e**2 / m_e / c / nu) / n * (rho**2 / (1+rho**2))**2"
   ]
  }
 ],
 "metadata": {
  "anaconda-cloud": {},
  "kernelspec": {
   "display_name": "Python [Root]",
   "language": "python",
   "name": "Python [Root]"
  },
  "language_info": {
   "codemirror_mode": {
    "name": "ipython",
    "version": 3
   },
   "file_extension": ".py",
   "mimetype": "text/x-python",
   "name": "python",
   "nbconvert_exporter": "python",
   "pygments_lexer": "ipython3",
   "version": "3.5.2"
  }
 },
 "nbformat": 4,
 "nbformat_minor": 2
}
