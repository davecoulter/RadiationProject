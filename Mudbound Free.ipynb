{
 "cells": [
  {
   "cell_type": "code",
   "execution_count": 308,
   "metadata": {
    "ExecuteTime": {
     "end_time": "2018-02-20T22:31:06.636406Z",
     "start_time": "2018-02-20T22:31:06.623830Z"
    }
   },
   "outputs": [],
   "source": [
    "import numpy as np\n",
    "from scipy import constants\n",
    "import scipy.integrate\n",
    "import matplotlib.pyplot as plt\n",
    "%matplotlib inline\n",
    "plt.rc('text', usetex=True)\n",
    "from scipy.special import factorial\n",
    "Ry_in_erg = constants.value('Rydberg constant times hc in J') * 1.e7 #in ergs\n",
    "h = constants.value('Planck constant') * 1e7 #in ergs s\n",
    "c = constants.c * 1.e2 # in cm/s\n",
    "e_e = 4.80320451e-10 #in statcoulomb\n",
    "m_e = constants.electron_mass * 1e3 # in g"
   ]
  },
  {
   "cell_type": "code",
   "execution_count": 320,
   "metadata": {
    "ExecuteTime": {
     "end_time": "2018-02-20T22:34:32.172105Z",
     "start_time": "2018-02-20T22:34:32.164795Z"
    }
   },
   "outputs": [],
   "source": [
    "def gaunt_bound_free(n, l, E, Z, Eph):\n",
    "    E0 = np.copy(E)\n",
    "    if E0 < Eph:\n",
    "        E0 = Eph\n",
    "        \n",
    "    sigmaA = sigma_plus(n, l, E0, Z)\n",
    "    sigmaB = sigma_minus(n, l, E0, Z)\n",
    "    sigmaK = sigma_K(n, E0, Z)\n",
    "    return (sigmaA + sigmaB) / sigmaK\n"
   ]
  },
  {
   "cell_type": "code",
   "execution_count": 321,
   "metadata": {
    "ExecuteTime": {
     "end_time": "2018-02-20T22:34:32.528650Z",
     "start_time": "2018-02-20T22:34:32.522734Z"
    },
    "collapsed": true
   },
   "outputs": [],
   "source": [
    "def sigma_K(n, E, Z, nu=None):\n",
    "    eta = (Z**2 * Ry_in_erg / E)**.5\n",
    "    rho = eta / n\n",
    "    nu_A = 1\n",
    "    if nu:\n",
    "        nu_A /= nu\n",
    "    return nu_A * 2.**4 / 3. / 3.**.5 *(e_e**2 / m_e / c) / n * (rho**2 / (1+rho**2))**2"
   ]
  },
  {
   "cell_type": "code",
   "execution_count": 322,
   "metadata": {
    "ExecuteTime": {
     "end_time": "2018-02-20T22:34:32.789563Z",
     "start_time": "2018-02-20T22:34:32.773153Z"
    },
    "collapsed": true
   },
   "outputs": [],
   "source": [
    "def G_l(l, m, eta, rho):\n",
    "    \"\"\"G matrix element\"\"\"\n",
    "    gl = 0\n",
    "    for i in range(2*m + 1):\n",
    "        gl += b_s(i, l, m, eta, rho) * rho**i\n",
    "        \n",
    "    return gl\n",
    "def b_s(s, l, m, eta, rho):\n",
    "    \"\"\"polynomial solution to matrix element G_l\"\"\"\n",
    "    if s == 0:\n",
    "        return 1\n",
    "    if s == 1:\n",
    "        return 2 * m * eta / l\n",
    "    \n",
    "    bsminus1 = b_s(s-1, l, m, eta, rho)\n",
    "    bsminus2 = b_s(s-2, l, m, eta, rho)\n",
    "    bs = -(1/(s*(s + 2*l-1))) * (4*eta * (s - 1 - m)*bsminus1 + (2 * m + 2. - s)* (2*m + 2*l + 1 - s) * bsminus2)\n",
    "    return bs"
   ]
  },
  {
   "cell_type": "code",
   "execution_count": 323,
   "metadata": {
    "ExecuteTime": {
     "end_time": "2018-02-20T22:34:33.083672Z",
     "start_time": "2018-02-20T22:34:32.989393Z"
    }
   },
   "outputs": [],
   "source": [
    "def sigma_minus(n, l, E, Z, nu=None):\n",
    "    if l == 0:\n",
    "        return 0\n",
    "    eta = (Z**2 * Ry_in_erg / E)**.5\n",
    "    rho = eta / n\n",
    "    GlA = G_l(l, -(l+1-n), eta, rho)\n",
    "    GlB = G_l(l, -(l-1-n), eta, rho)\n",
    "\n",
    "    nu_A = 1\n",
    "    if nu:\n",
    "        nu_A /= nu\n",
    "    prefactor = 2**(4*l)/3*np.pi * e_e**2/m_e/c\n",
    "    \n",
    "    A = 1\n",
    "    for l_i in range(1, l):\n",
    "        A*= (l_i**2 + eta**2)\n",
    "    B = l**2 * factorial(n+l) / factorial(2*l +1) /factorial(2*l-1)/factorial(n-l-1)\n",
    "    C = np.exp(-4*eta * np.arctan2(1,rho)) / (1-np.exp(-2*np.pi*eta)) \n",
    "    D = rho**(2*l+2)/(1+rho**2)**(2*n-2)\n",
    "    E = (GlA - (1+rho**2)**(-2)*GlB)**2\n",
    "    return nu_A*prefactor*A *B*C*D*E\n",
    "\n",
    "def sigma_plus(n, l, E, Z, nu=None):\n",
    "    eta = (Z**2 * Ry_in_erg / E)**.5\n",
    "    rho = eta / n\n",
    "    GlA = G_l(l+1, -(l+1-n), eta, rho)\n",
    "    GlB = G_l(l+1, -(l-n), eta, rho)\n",
    "\n",
    "    nu_A = 1\n",
    "    if nu:\n",
    "        nu_A /= nu\n",
    "    prefactor = 2**(4*l + 6)/3*np.pi * e_e**2/m_e/c\n",
    "    \n",
    "    A = 1 + eta**2\n",
    "    for l_i in range(2, l+2):\n",
    "        A*= (l_i**2 + eta**2)\n",
    "    B = (l+1)**2 * factorial(n+l) / (2*l+1)/factorial(2*l +1) /factorial(2*l+2)/factorial(n-l-1)/factorial((l+1)**2+eta**2)**2\n",
    "    \n",
    "    C = np.exp(-4*eta * np.arctan2(1,rho)) / (1-np.exp(-2*np.pi*eta)) \n",
    "    D = rho**(2*l+4)*eta**2/(1+rho**2)**(2*n)\n",
    "    E = ((l+1-n)*GlA + (l+1+n)/(1+rho**2)*GlB)**2\n",
    "    return nu_A*prefactor*A *B*C*D*E    "
   ]
  },
  {
   "cell_type": "code",
   "execution_count": 334,
   "metadata": {
    "ExecuteTime": {
     "end_time": "2018-02-20T22:37:22.483296Z",
     "start_time": "2018-02-20T22:37:22.470425Z"
    }
   },
   "outputs": [],
   "source": [
    "electronenergy = [.1e13,.1111e12,.1e11,.1111e10,.1e9,.1111e8,.1e7,.1111e6,.4e5,.2041e5, .1e5,.4444e4,.25e4,.1111e4,.4e3,.2041e3,.1e3,.4444e2,.25e2,.16e2,.1111e2,.625e1,.4e1,.2778e1,.2041e1,.1562e1,.1235e1,.1e1,.6944,.4444,.25,.11111,.4e-1, .2041e-1,.1e-1,.4444e-2,.25e-2,.1111e-2]\n",
    "photonenergy = [.1e13,.1111e12,.1e11,.1111e10,.1e9,.1111e8,.1e7,.1111e6,.4e5,.2041e5, .1e5,.4445e4,.2501e4,.1112e4,.401e3,.2051e3,.101e3,.4544e2,.26e2,.17e2,.1211e2,.725e1,.5e1,.3778e1,.3041e1,.2562e1,.2235e1,.2e1,1.6944,1.4444,1.25,1.1111,1.04, 1.02,1.01,1.004,1.002,1.001]\n",
    "\n",
    "ys = []\n",
    "for i in range(len(electronenergy)):\n",
    "    ys.append( gaunt_bound_free(1,0,electronenergy[i]* Ry_in_erg,1, photonenergy[i] * Ry_in_erg))"
   ]
  },
  {
   "cell_type": "code",
   "execution_count": 335,
   "metadata": {
    "ExecuteTime": {
     "end_time": "2018-02-20T22:37:23.130788Z",
     "start_time": "2018-02-20T22:37:22.966177Z"
    }
   },
   "outputs": [
    {
     "data": {
      "text/plain": [
       "[<matplotlib.lines.Line2D at 0x11e036780>]"
      ]
     },
     "execution_count": 335,
     "metadata": {},
     "output_type": "execute_result"
    },
    {
     "data": {
      "image/png": "[encoded data removed]",
      "text/plain": [
       "<matplotlib.figure.Figure at 0x11de15b70>"
      ]
     },
     "metadata": {},
     "output_type": "display_data"
    }
   ],
   "source": [
    "plt.semilogx(electronenergy, ys)"
   ]
  },
  {
   "cell_type": "code",
   "execution_count": 331,
   "metadata": {
    "ExecuteTime": {
     "end_time": "2018-02-20T22:36:33.462564Z",
     "start_time": "2018-02-20T22:36:33.457100Z"
    }
   },
   "outputs": [
    {
     "data": {
      "text/plain": [
       "[(1000000000000.0, 6.9281814646873407e-06),\n",
       " (111100000000.0, 2.0785453090713404e-05),\n",
       " (10000000000.0, 6.9279855795087938e-05),\n",
       " (1111000000.0, 0.00020783690039304518),\n",
       " (100000000.0, 0.00069260271867043323),\n",
       " (11110000.0, 0.0020766071927210247),\n",
       " (1000000.0, 0.0069064891232228287),\n",
       " (111100.0, 0.020591124531417159),\n",
       " (40000.0, 0.034103267159912062),\n",
       " (20410.0, 0.047446295347699327),\n",
       " (10000.0, 0.067156156547138371),\n",
       " (4444.0, 0.099189457546235732),\n",
       " (2500.0, 0.13023188814868392),\n",
       " (1111.0, 0.18951025140825525),\n",
       " (400.0, 0.29759618568150009),\n",
       " (204.1, 0.39324453311592755),\n",
       " (100.0, 0.51690178369156337),\n",
       " (44.44, 0.68089597570722127),\n",
       " (25.0, 0.80584840478086706),\n",
       " (16.0, 0.90315820137464375),\n",
       " (11.11, 0.98051820748880913),\n",
       " (6.25, 1.0940239783694701),\n",
       " (4.0, 1.1698942157674908),\n",
       " (2.778, 1.2189081465628238),\n",
       " (2.041, 1.2473324761496016),\n",
       " (1.562, 1.2599646718618407),\n",
       " (12.35, 1.2609443966292753),\n",
       " (1.0, 1.2538490032718501),\n",
       " (0.6944, 1.2262429013557297),\n",
       " (0.4444, 1.1753733270018245),\n",
       " (0.25, 1.1043402666559758),\n",
       " (0.11111, 1.0268766601290882),\n",
       " (0.04, 0.97546421072834388)]"
      ]
     },
     "execution_count": 331,
     "metadata": {},
     "output_type": "execute_result"
    }
   ],
   "source": [
    "list(zip(test,ys))"
   ]
  },
  {
   "cell_type": "code",
   "execution_count": null,
   "metadata": {
    "collapsed": true
   },
   "outputs": [],
   "source": []
  }
 ],
 "metadata": {
  "anaconda-cloud": {},
  "kernelspec": {
   "display_name": "Python [Root]",
   "language": "python",
   "name": "Python [Root]"
  },
  "language_info": {
   "codemirror_mode": {
    "name": "ipython",
    "version": 3
   },
   "file_extension": ".py",
   "mimetype": "text/x-python",
   "name": "python",
   "nbconvert_exporter": "python",
   "pygments_lexer": "ipython3",
   "version": "3.5.2"
  }
 },
 "nbformat": 4,
 "nbformat_minor": 2
}
