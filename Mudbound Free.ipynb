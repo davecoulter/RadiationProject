{
 "cells": [
  {
   "cell_type": "code",
   "execution_count": 1,
   "metadata": {
    "ExecuteTime": {
     "end_time": "2018-02-21T01:16:26.137172Z",
     "start_time": "2018-02-21T01:16:25.311534Z"
    }
   },
   "outputs": [],
   "source": [
    "import numpy as np\n",
    "from scipy import constants\n",
    "import scipy.integrate\n",
    "import matplotlib.pyplot as plt\n",
    "%matplotlib inline\n",
    "plt.rc('text', usetex=True)\n",
    "from scipy.special import factorial\n",
    "Ry_in_erg = constants.value('Rydberg constant times hc in J') * 1.e7 #in ergs\n",
    "h = constants.value('Planck constant') * 1e7 #in ergs s\n",
    "c = constants.c * 1.e2 # in cm/s\n",
    "e_e = 4.80320451e-10 #in statcoulomb\n",
    "m_e = constants.electron_mass * 1e3 # in g"
   ]
  },
  {
   "cell_type": "code",
   "execution_count": 2,
   "metadata": {
    "ExecuteTime": {
     "end_time": "2018-02-21T01:16:26.534271Z",
     "start_time": "2018-02-21T01:16:26.525212Z"
    }
   },
   "outputs": [],
   "source": [
    "def gaunt_bound_free(n, l, E, Z, Eph):\n",
    "    \"\"\"ratio of the cross section for bound-free absorption from \n",
    "    a bound state (n, l) to a free (continuum) state E with \n",
    "    unpolarized photon E_ph and the Kramers' semi-classical \n",
    "    bound-free cross section\n",
    "    \n",
    "    Arguments:\n",
    "    n    : Principal quantum number\n",
    "    l    : Azimuthal quantum number\n",
    "    E    : Energy of free (continuum) state\n",
    "    Z    : Atomin number\n",
    "    Eph  : energy of unpolarized photon\n",
    "    \n",
    "    Returns:\n",
    "    g_bf : (n,l,E) Gaunt factor for bound-free transitions\n",
    "    \"\"\"\n",
    "    E0 = np.copy(E)\n",
    "    if E0 < Eph:\n",
    "        E0 = Eph\n",
    "        \n",
    "    sigmaA = sigma_plus(n, l, E0, Z, nu=Eph / h * Z**2)\n",
    "    sigmaB = sigma_minus(n, l, E0, Z, nu=Eph / h * Z**2)\n",
    "    sigmaK = sigma_K(n, E0, Z, nu=Eph / h * Z**2)\n",
    "    return (sigmaA + sigmaB) / sigmaK\n"
   ]
  },
  {
   "cell_type": "code",
   "execution_count": 3,
   "metadata": {
    "ExecuteTime": {
     "end_time": "2018-02-21T01:16:27.004467Z",
     "start_time": "2018-02-21T01:16:26.999081Z"
    },
    "collapsed": true
   },
   "outputs": [],
   "source": [
    "def sigma_K(n, E, Z, nu):\n",
    "    \"\"\"Kramers' semi-classical bound-free cross section\"\"\"\n",
    "    eta = (Z**2 * Ry_in_erg / E)**.5\n",
    "    rho = eta / n\n",
    "\n",
    "    return 2.**4 / 3. / 3.**.5 *(e_e**2 / m_e / c / nu) / n * (rho**2 / (1+rho**2))**2"
   ]
  },
  {
   "cell_type": "code",
   "execution_count": 4,
   "metadata": {
    "ExecuteTime": {
     "end_time": "2018-02-21T01:16:27.446383Z",
     "start_time": "2018-02-21T01:16:27.430414Z"
    },
    "collapsed": true
   },
   "outputs": [],
   "source": [
    "def G_l(l, m, eta, rho):\n",
    "    \"\"\"G matrix element\"\"\"\n",
    "    gl = 0\n",
    "    for i in range(2*m + 1):\n",
    "        gl += b_s(i, l, m, eta, rho) * rho**i\n",
    "        \n",
    "    return gl\n",
    "def b_s(s, l, m, eta, rho):\n",
    "    \"\"\"polynomial solution to matrix element G_l\"\"\"\n",
    "    if s == 0:\n",
    "        return 1\n",
    "    if s == 1:\n",
    "        return 2 * m * eta / l\n",
    "    \n",
    "    bsminus1 = b_s(s-1, l, m, eta, rho)\n",
    "    bsminus2 = b_s(s-2, l, m, eta, rho)\n",
    "    bs = -(1/(s*(s + 2*l-1))) * (4*eta * (s - 1 - m)*bsminus1 + (2 * m + 2. - s)* (2*m + 2*l + 1 - s) * bsminus2)\n",
    "    return bs"
   ]
  },
  {
   "cell_type": "code",
   "execution_count": 5,
   "metadata": {
    "ExecuteTime": {
     "end_time": "2018-02-21T01:16:28.014061Z",
     "start_time": "2018-02-21T01:16:27.934855Z"
    }
   },
   "outputs": [],
   "source": [
    "def sigma_minus(n, l, E, Z, nu):\n",
    "    \"\"\"Cross section for bound-free absorption from (n, l) through\n",
    "    dipole transition to E with angular momentum l-1\"\"\"\n",
    "    if l == 0:\n",
    "        return 0\n",
    "    eta = (Z**2 * Ry_in_erg / E)**.5\n",
    "    rho = eta / n\n",
    "    GlA = G_l(l, -(l+1-n), eta, rho)\n",
    "    GlB = G_l(l, -(l-1-n), eta, rho)\n",
    "\n",
    "    prefactor = 2**(4*l)/3*np.pi * e_e**2/m_e/c / nu\n",
    "    \n",
    "    A = 1\n",
    "    for l_i in range(1, l):\n",
    "        A*= (l_i**2 + eta**2)\n",
    "    B = l**2 * factorial(n+l) / factorial(2*l +1) /factorial(2*l-1)/factorial(n-l-1)\n",
    "    C = np.exp(-4*eta * np.arctan2(1,rho)) / (1-np.exp(-2*np.pi*eta)) \n",
    "    D = rho**(2*l+2)/(1+rho**2)**(2*n-2)\n",
    "    E = (GlA - (1+rho**2)**(-2)*GlB)**2\n",
    "    return prefactor*A *B*C*D*E\n",
    "\n",
    "def sigma_plus(n, l, E, Z, nu):\n",
    "    \"\"\"Cross section for bound-free absorption from (n, l) through\n",
    "    dipole transition to E with angular momentum l+1\"\"\"\n",
    "    eta = (Z**2 * Ry_in_erg / E)**.5\n",
    "    rho = eta / n\n",
    "    GlA = G_l(l+1, -(l+1-n), eta, rho)\n",
    "    GlB = G_l(l+1, -(l-n), eta, rho)\n",
    "\n",
    "    prefactor = 2**(4*l + 6)/3*np.pi * e_e**2/m_e/c / nu\n",
    "    \n",
    "    A = 1 + eta**2\n",
    "    for l_i in range(2, l+2):\n",
    "        A*= (l_i**2 + eta**2)\n",
    "    B = (l+1)**2 * factorial(n+l) / (2*l+1)/factorial(2*l +1) /factorial(2*l+2)/factorial(n-l-1)/((l+1)**2+eta**2)**2\n",
    "    \n",
    "    C = np.exp(-4*eta * np.arctan2(1,rho)) / (1-np.exp(-2*np.pi*eta)) \n",
    "    D = rho**(2*l+4)*eta**2/(1+rho**2)**(2*n)\n",
    "    E = ((l+1-n)*GlA + (l+1+n)/(1+rho**2)*GlB)**2\n",
    "    return prefactor*A *B*C*D*E    "
   ]
  },
  {
   "cell_type": "code",
   "execution_count": 6,
   "metadata": {
    "ExecuteTime": {
     "end_time": "2018-02-21T01:16:28.426699Z",
     "start_time": "2018-02-21T01:16:28.414120Z"
    }
   },
   "outputs": [],
   "source": [
    "electronenergy = [.1e13,.1111e12,.1e11,.1111e10,.1e9,.1111e8,.1e7,.1111e6,.4e5,.2041e5, .1e5,.4444e4,.25e4,.1111e4,.4e3,.2041e3,.1e3,.4444e2,.25e2,.16e2,.1111e2,.625e1,.4e1,.2778e1,.2041e1,.1562e1,.1235e1,.1e1,.6944,.4444,.25,.11111,.4e-1, .2041e-1,.1e-1,.4444e-2,.25e-2,.1111e-2,.1e-3]\n",
    "photonenergy = [.1e13,.1111e12,.1e11,.1111e10,.1e9,.1111e8,.1e7,.1111e6,.4e5,.2041e5, .1e5,.4445e4,.2501e4,.1112e4,.401e3,.2051e3,.101e3,.4544e2,.26e2,.17e2,.1211e2,.725e1,.5e1,.3778e1,.3041e1,.2562e1,.2235e1,.2e1,1.6944,1.4444,1.25,1.1111,1.04, 1.02,1.01,1.004,1.002,1.001,1.]\n",
    "\n",
    "ys = []\n",
    "for i in range(len(electronenergy)):\n",
    "    ys.append( gaunt_bound_free(1,0,electronenergy[i]* Ry_in_erg,1, photonenergy[i] * Ry_in_erg))"
   ]
  },
  {
   "cell_type": "code",
   "execution_count": 7,
   "metadata": {
    "ExecuteTime": {
     "end_time": "2018-02-21T01:16:29.661320Z",
     "start_time": "2018-02-21T01:16:28.903891Z"
    }
   },
   "outputs": [
    {
     "data": {
      "text/plain": [
       "(0.0001, 1000.0)"
      ]
     },
     "execution_count": 7,
     "metadata": {},
     "output_type": "execute_result"
    },
    {
     "data": {
      "image/png": "[encoded data removed]",
      "text/plain": [
       "<matplotlib.figure.Figure at 0x1189d8a58>"
      ]
     },
     "metadata": {},
     "output_type": "display_data"
    }
   ],
   "source": [
    "plt.semilogx(electronenergy, ys)\n",
    "plt.xlim(1e-4,1e3)"
   ]
  },
  {
   "cell_type": "code",
   "execution_count": 8,
   "metadata": {
    "ExecuteTime": {
     "end_time": "2018-02-21T01:16:34.909079Z",
     "start_time": "2018-02-21T01:16:34.902753Z"
    }
   },
   "outputs": [
    {
     "data": {
      "text/plain": [
       "[(1000000000000.0, 6.928181464679343e-06),\n",
       " (111100000000.0, 2.0785453090497418e-05),\n",
       " (10000000000.0, 6.927985578709009e-05),\n",
       " (1111000000.0, 0.00020783690017708346),\n",
       " (100000000.0, 0.00069260271067481084),\n",
       " (11110000.0, 0.0020766069769424505),\n",
       " (1000000.0, 0.00690648115017137),\n",
       " (111100.0, 0.020590910574523291),\n",
       " (40000.0, 0.034102282962173124),\n",
       " (20410.0, 0.047443611951461788),\n",
       " (10000.0, 0.067148405382002591),\n",
       " (4444.0, 0.099163708197269426),\n",
       " (2500.0, 0.13017182278281925),\n",
       " (1111.0, 0.18931386370372316),\n",
       " (400.0, 0.29674370557004848),\n",
       " (204.1, 0.39105257913286179),\n",
       " (100.0, 0.51110924261064361),\n",
       " (44.44, 0.66433873645601171),\n",
       " (25.0, 0.77269416741102259),\n",
       " (16.0, 0.8485465202995498),\n",
       " (11.11, 0.90103262034365117),\n",
       " (6.25, 0.9607893310491824),\n",
       " (4.0, 0.98626041255065855),\n",
       " (2.778, 0.99499864266609517),\n",
       " (2.041, 0.99584155639178107),\n",
       " (1.562, 0.99316608678270779),\n",
       " (1.235, 0.98914384445631853),\n",
       " (1.0, 0.98477070434743219),\n",
       " (0.6944, 0.97665550457099726),\n",
       " (0.4444, 0.96736214708283741),\n",
       " (0.25, 0.95798837771069101),\n",
       " (0.11111, 0.94986034170825562),\n",
       " (0.04, 0.94515921923449597),\n",
       " (0.02041, 0.94376440666525951),\n",
       " (0.01, 0.94305456392339804),\n",
       " (0.004444, 0.94262461759190186),\n",
       " (0.0025, 0.94248062353608997),\n",
       " (0.001111, 0.94240849878051713),\n",
       " (0.0001, 0.94233628872800435)]"
      ]
     },
     "execution_count": 8,
     "metadata": {},
     "output_type": "execute_result"
    }
   ],
   "source": [
    "list(zip(electronenergy, ys))"
   ]
  },
  {
   "cell_type": "code",
   "execution_count": 25,
   "metadata": {
    "ExecuteTime": {
     "end_time": "2018-02-21T01:20:47.434174Z",
     "start_time": "2018-02-21T01:20:47.429957Z"
    }
   },
   "outputs": [
    {
     "data": {
      "text/plain": [
       "0.93468314972725575"
      ]
     },
     "execution_count": 25,
     "metadata": {},
     "output_type": "execute_result"
    }
   ],
   "source": [
    "gaunt_bound_free(2,0,1e-20*Ry_in_erg, 1, .000025*Ry_in_erg)"
   ]
  },
  {
   "cell_type": "code",
   "execution_count": null,
   "metadata": {
    "collapsed": true
   },
   "outputs": [],
   "source": []
  }
 ],
 "metadata": {
  "anaconda-cloud": {},
  "kernelspec": {
   "display_name": "Python [Root]",
   "language": "python",
   "name": "Python [Root]"
  },
  "language_info": {
   "codemirror_mode": {
    "name": "ipython",
    "version": 3
   },
   "file_extension": ".py",
   "mimetype": "text/x-python",
   "name": "python",
   "nbconvert_exporter": "python",
   "pygments_lexer": "ipython3",
   "version": "3.5.2"
  }
 },
 "nbformat": 4,
 "nbformat_minor": 2
}
