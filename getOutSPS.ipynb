{
 "cells": [
  {
   "cell_type": "code",
   "execution_count": 43,
   "metadata": {
    "collapsed": true
   },
   "outputs": [],
   "source": [
    "import fsps\n",
    "import matplotlib.pyplot as plt\n",
    "import matplotlib\n",
    "import numpy as np\n",
    "import csv\n",
    "from scipy import interpolate, interp\n",
    "from collections import OrderedDict\n",
    "import GetOut\n",
    "import mpmath\n",
    "import scipy.integrate as integrate\n",
    "\n",
    "\n",
    "matplotlib.rc('text',usetex=True)\n",
    "font = {'family' : 'serif',\n",
    "        'weight' : 'bold',\n",
    "        'size'   : 16}\n",
    "\n",
    "matplotlib.rc('font', **font)\n"
   ]
  },
  {
   "cell_type": "code",
   "execution_count": 160,
   "metadata": {},
   "outputs": [],
   "source": [
    "sp = fsps.StellarPopulation(compute_vega_mags=False,zcontinuous=1,sfh=3,\n",
    "                            logzsol=0.0,dust_type=2,dust1=0.0,dust2=0.2,zred=3.0,add_igm_absorption=True)\n",
    "\n",
    "ages = np.linspace(0,1.0,10) # in Gyr\n",
    "sfr_ages = np.ones(len(ages))*50.0 # 50.0 Msol/age bin ... setting the constant sfr = 50 Msun/year\n",
    "\n",
    "sp.set_tabular_sfh(ages, sfr_ages)\n",
    "\n",
    "# Set a tabular SFH for use with the sfh=3 option. See the FSPS documentation for \n",
    "# information about tabular SFHs. This SFH will be piecewise linearly interpolated.\n",
    "\n",
    "# Parameters:\t\n",
    "# age – Age in Gyr. ndarray of shape (ntab,)\n",
    "# sfr – The SFR at each age, in Msun/yr. Must be an ndarray same length as age.\n",
    "# Z – (optional) The metallicity at each age. Currently this is ignored, and the value of zmet\n",
    "#   or logzsol is used for all ages. Thus setting this parameter will result in a NotImplementedError.\n",
    "\n",
    "\n",
    "h = 6.6260755e-27 #erg * s\n",
    "c = 2.99792458e10 #cm/s"
   ]
  },
  {
   "cell_type": "code",
   "execution_count": null,
   "metadata": {
    "collapsed": true
   },
   "outputs": [],
   "source": []
  },
  {
   "cell_type": "code",
   "execution_count": 178,
   "metadata": {},
   "outputs": [
    {
     "name": "stdout",
     "output_type": "stream",
     "text": [
      "900000.0\n"
     ]
    }
   ],
   "source": [
    "age = 0.0009 #Gyr\n",
    "print(age*10**9)\n",
    "z = 3 #redshift #### For now just testing with optical filters\n",
    "\n",
    "fsps_filters = []\n",
    "fsps_filters.append(fsps.get_filter('wfc_acs_f435w'))\n",
    "fsps_filters.append(fsps.get_filter('wfpc2_f606w'))\n",
    "fsps_filters.append(fsps.get_filter('wfc3_uvis_f775w'))\n",
    "fsps_filters.append(fsps.get_filter('wfc3_uvis_f850lp'))\n",
    "fsps_filters.append(fsps.get_filter('wfc3_ir_f105w'))\n",
    "fsps_filters.append(fsps.get_filter('wfc3_ir_f125w'))\n",
    "fsps_filters.append(fsps.get_filter('wfc3_ir_f160w'))\n",
    "fsps_filters.append(fsps.get_filter('jwst_f200w'))\n",
    "fsps_filters.append(fsps.get_filter('jwst_f277w'))\n",
    "fsps_filters.append(fsps.get_filter('jwst_f356w'))\n",
    "fsps_filters.append(fsps.get_filter('jwst_f444w'))\n",
    "\n",
    "wave, spec = sp.get_spectrum(tage=age, peraa=True)"
   ]
  },
  {
   "cell_type": "code",
   "execution_count": null,
   "metadata": {
    "collapsed": true
   },
   "outputs": [],
   "source": []
  },
  {
   "cell_type": "code",
   "execution_count": 179,
   "metadata": {},
   "outputs": [
    {
     "name": "stdout",
     "output_type": "stream",
     "text": [
      "D_L: 7.86580192794533e+28 [cm]\n"
     ]
    }
   ],
   "source": [
    "## Compute luminosity distance\n",
    "omega_M = 0.27\n",
    "omega_lambda = 0.73\n",
    "h_0 = (72.0/3.086e+19) # per sec\n",
    "hubble_d = (c/h_0) # in cm\n",
    "\n",
    "def recip_E(z):\n",
    "    return 1.0/np.sqrt(omega_M*(1+z)**3 + omega_lambda)\n",
    "\n",
    "factor = integrate.quad(recip_E, 0, 3.0)\n",
    "co_moving_dist = (factor[0] * hubble_d)\n",
    "lum_dist = (1.0 + z)*co_moving_dist\n",
    "print(\"D_L: %s [cm]\" % lum_dist)"
   ]
  },
  {
   "cell_type": "code",
   "execution_count": 180,
   "metadata": {},
   "outputs": [],
   "source": [
    "# via Ned Wright's cosmology calculator: http://www.astro.ucla.edu/~wright/CosmoCalc.html\n",
    "# z=3 => 25924.2 Mpc => 25924.2e+6 pc => ~ 8e+28 cm\n",
    "erg_per_L_sol = 3.828e+33 # erg * s^-1\n",
    "flux_factor = erg_per_L_sol/(4*np.pi*lum_dist**2)\n",
    "\n",
    "# Window the spectra\n",
    "indices = np.where((wave >= 0) & (wave <= 60000))[0]\n",
    "useWave, useSpec = wave[indices], spec[indices]\n",
    "\n",
    "fluxSpec = useSpec * flux_factor\n",
    "cgsSpec = useSpec * erg_per_L_sol\n",
    "\n",
    "colors = [\"purple\",\"blue\",\"cyan\",\"green\", \"red\", \"brown\", \"black\", \"red\", \"green\", \"cyan\", \"blue\"]"
   ]
  },
  {
   "cell_type": "code",
   "execution_count": null,
   "metadata": {
    "collapsed": true
   },
   "outputs": [],
   "source": []
  },
  {
   "cell_type": "code",
   "execution_count": 181,
   "metadata": {},
   "outputs": [
    {
     "name": "stdout",
     "output_type": "stream",
     "text": [
      "Lyman photon rate: 4.916472935242811e+62\n"
     ]
    }
   ],
   "source": [
    "#integrate bluewards of 912nm (Lyman break)\n",
    "#eg/ integrate cgsSpec/(h*c/lambda) from 0 to 912nm\n",
    "\n",
    "#cgsSpec in [erg * s^-1 * \\AA^-1] so integrating flux/energy over wavelength gives [photons*s^-1] as desired\n",
    "\n",
    "intInds = np.where(useWave<9120)[0]\n",
    "\n",
    "#the Lyman photon rate\n",
    "lyPhotonRate = np.trapz(cgsSpec[intInds]*useWave[intInds]/float(h*c),x=useWave[intInds])\n",
    "print('Lyman photon rate:',lyPhotonRate)"
   ]
  },
  {
   "cell_type": "code",
   "execution_count": null,
   "metadata": {},
   "outputs": [],
   "source": [
    "#Generate the spectrum derived from parts 2-5 of the project\n",
    "#THIS STEP IS VERY SLOW! ONLY RERUN WHEN ABSOLUTELY NECESSARY\n",
    "\n",
    "n=10\n",
    "Z=1\n",
    "T=10000\n",
    "n_i=10**4\n",
    "n_e=10**2\n",
    "f_esc=0.\n",
    "N_LyC=lyPhotonRate\n",
    "waves=np.linspace(0.122,2.4,num=1000)\n",
    "\n",
    "otherWave,otherSpec = GetOut.get_spectrum(n, Z, T, n_i, n_e, f_esc, N_LyC, waves) #in [erg * s^-1 * \\Hz^-1]\n",
    "otherWave *= 10**4 #to put in \\AA\n"
   ]
  },
  {
   "cell_type": "code",
   "execution_count": null,
   "metadata": {},
   "outputs": [],
   "source": [
    "otherSpecLam = otherSpec*c/otherWave**2 #otherSpec to match cgsSpec in [erg * s^-1 * \\AA^-1] units\n",
    "\n",
    "specFunc = interp(otherWave,useWave, cgsSpec)\n",
    "\n",
    "# Convert wavelength to z=3\n",
    "z3_wave = otherWave * (z+1)\n",
    "\n",
    "# Sum z=0 spectra then dim from redshift\n",
    "fullSpec = (specFunc + otherSpecLam) / (4*np.pi*lum_dist**2)\n",
    "\n",
    "#convert to Janskys\n",
    "# See: https://en.wikipedia.org/wiki/AB_magnitude#Expression_in_terms_of_f%CE%BB\n",
    "\n",
    "flux_janskySP = 3.34e+04*(z3_wave**2)*specFunc/ (4*np.pi*lum_dist**2)\n",
    "flux_janskyOther = 3.34e+04*(z3_wave**2)*otherSpecLam/ (4*np.pi*lum_dist**2)\n",
    "flux_janskys = flux_janskySP + flux_janskyOther\n",
    "# for i,lam in enumerate(z3_wave):\n",
    "#     f_v = 3.34e+04*(lam**2)*fullSpec[i]\n",
    "#     flux_janskys.append(f_v)\n",
    "    \n",
    "# Convert jansky to microjansky\n",
    "flux_microjanskys = np.asarray(flux_janskys)*1e+6\n",
    "\n",
    "fig = plt.figure(figsize=(10, 4)) \n",
    "plt.plot(z3_wave,flux_janskySP*1e+6,label='Parts 2-5 Spec')\n",
    "plt.plot(z3_wave,flux_janskyOther*1e+6,label='SP Spec')\n",
    "plt.plot(z3_wave,flux_microjanskys,label='Sum')\n",
    "plt.title(\"Galaxy\")\n",
    "plt.xlabel(r\"$\\AA$\")\n",
    "plt.ylabel(r\"$F_{\\nu}$  [$\\mu$Jy]\")\n",
    "plt.legend(bbox_to_anchor=(1.01, 1.04),loc=2)\n",
    "plt.tight_layout()    \n",
    "plt.show()"
   ]
  },
  {
   "cell_type": "code",
   "execution_count": null,
   "metadata": {},
   "outputs": [],
   "source": [
    "z3_bandpass_fluxes = OrderedDict()\n",
    "filter_funcs = []\n",
    "for f in fsps_filters:\n",
    "    filter_func = interp(z3_wave, f.transmission[0], f.transmission[1])\n",
    "    filter_funcs.append(filter_func)\n",
    "    z3_bandpass_fluxes[f.name] = filter_func*flux_microjanskys\n",
    "    \n",
    "fig = plt.figure(figsize=(8, 4)) \n",
    "\n",
    "# Plot Spectra\n",
    "plt.plot(z3_wave,flux_microjanskys,color='k',alpha=0.3)\n",
    "plt.xlim([0,60000])\n",
    "# plt.ylim([0,2.0])\n",
    "\n",
    "# Overplot flux through each bandpass\n",
    "i = 0\n",
    "for name,value in z3_bandpass_fluxes.items():\n",
    "    plt.plot(z3_wave,value,color=colors[i],label=name.replace('_','').upper(),alpha=0.75)    \n",
    "    i+=1\n",
    "    \n",
    "plt.title(\"Galaxy Transmission per Bandpass (z=3)\")\n",
    "plt.xlabel(r\"$\\AA$\")\n",
    "plt.ylabel(r\"$I_{\\lambda}$  [$\\mu$Jy]\")\n",
    "plt.legend(bbox_to_anchor=(1.01, 1.04),loc=2,fontsize=11)\n",
    "plt.xlim([0,60000])\n",
    "plt.show()"
   ]
  },
  {
   "cell_type": "code",
   "execution_count": null,
   "metadata": {},
   "outputs": [],
   "source": [
    "# Compute our own photometry\n",
    "\n",
    "def AB(fluxes, wavelengths, transmission_spectrum):\n",
    "    scaled_fluxes = np.asarray(fluxes)/(1.0 + z) # <- Not sure if this is correct, but gives the \"right\" answer\n",
    "    top = np.trapz(scaled_fluxes * transmission_spectrum / wavelengths, x=wavelengths)\n",
    "    bottom = np.trapz(3631 * transmission_spectrum / wavelengths, x=(wavelengths))\n",
    "    return -2.5*mpmath.log(top/bottom, 10)\n",
    "\n",
    "def ABmagnitude(wave,flux):\n",
    "    bandpass_mag = []\n",
    "\n",
    "    for f in filter_funcs:\n",
    "        bandpass_mag.append(AB(flux,wave,f)  )\n",
    "        \n",
    "    return bandpass_mag\n",
    "\n",
    "\n",
    "part1Data = {'filter':[],'lambda':[],'mag':[]}\n",
    "\n",
    "f = open('part1_magData.txt','r')\n",
    "data = f.readlines()\n",
    "f.close()\n",
    "\n",
    "for line in data:\n",
    "    line = line.split()\n",
    "    part1Data['filter'].append(line[0])\n",
    "    part1Data['lambda'].append(float(line[1]))\n",
    "    part1Data['mag'].append(float(line[2]))\n",
    "    \n",
    "fig = plt.figure(figsize=(8, 4)) \n",
    "plt.title(\"Photometry (Squares = Part 1, Triangles = New SP)\")\n",
    "plt.xlabel(r\"$\\AA$\")\n",
    "plt.ylabel(r\"m_{AB}\")\n",
    "plt.xlim([0,60000])\n",
    "plt.gca().invert_yaxis()\n",
    "\n",
    "for i in range(len(part1Data['filter'])):\n",
    "    x,y = part1Data['lambda'][i],part1Data['mag'][i]\n",
    "    plt.plot(x,y,'s',markersize=10,color=colors[i], label=part1Data['filter'][i].replace('_',' '))\n",
    "\n",
    "bpm = ABmagnitude(z3_wave,flux_janskys)\n",
    "for i,m in enumerate(bpm):\n",
    "    plt.plot(fsps_filters[i].lambda_eff,m,'^',markersize=10,color=colors[i])#, label=fsps_filters[i].name.replace('_',' ').upper())\n",
    "\n",
    "plt.legend(bbox_to_anchor=(1.01, 1.04),loc=2,fontsize=11,numpoints=1)\n",
    "plt.show()\n"
   ]
  },
  {
   "cell_type": "code",
   "execution_count": null,
   "metadata": {
    "collapsed": true
   },
   "outputs": [],
   "source": []
  },
  {
   "cell_type": "code",
   "execution_count": null,
   "metadata": {
    "collapsed": true
   },
   "outputs": [],
   "source": []
  },
  {
   "cell_type": "code",
   "execution_count": null,
   "metadata": {
    "collapsed": true
   },
   "outputs": [],
   "source": []
  }
 ],
 "metadata": {
  "kernelspec": {
   "display_name": "Python 3",
   "language": "python",
   "name": "python3"
  },
  "language_info": {
   "codemirror_mode": {
    "name": "ipython",
    "version": 3
   },
   "file_extension": ".py",
   "mimetype": "text/x-python",
   "name": "python",
   "nbconvert_exporter": "python",
   "pygments_lexer": "ipython3",
   "version": "3.5.0"
  }
 },
 "nbformat": 4,
 "nbformat_minor": 2
}
