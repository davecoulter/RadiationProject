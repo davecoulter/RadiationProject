{
 "cells": [
  {
   "cell_type": "code",
   "execution_count": 54,
   "metadata": {},
   "outputs": [],
   "source": [
    "import fsps\n",
    "import matplotlib.pyplot as plt\n",
    "import matplotlib\n",
    "import numpy as np\n",
    "import csv\n",
    "from scipy import interpolate, interp\n",
    "from collections import OrderedDict\n",
    "import GetOut\n",
    "\n",
    "matplotlib.rc('text',usetex=True)\n",
    "font = {'family' : 'serif',\n",
    "        'weight' : 'bold',\n",
    "        'size'   : 16}\n",
    "\n",
    "matplotlib.rc('font', **font)\n"
   ]
  },
  {
   "cell_type": "code",
   "execution_count": 55,
   "metadata": {},
   "outputs": [
    {
     "name": "stdout",
     "output_type": "stream",
     "text": [
      "[0.         0.11111111 0.22222222 0.33333333 0.44444444 0.55555556\n",
      " 0.66666667 0.77777778 0.88888889 1.        ]\n",
      "[100. 100. 100. 100. 100. 100. 100. 100. 100. 100.]\n"
     ]
    }
   ],
   "source": [
    "# These params are still wrong... need to figure out the correct ones\n",
    "sp = fsps.StellarPopulation(compute_vega_mags=False,zcontinuous=1,sfh=3,\n",
    "                            logzsol=0.0,dust_type=2,dust1=0.0,dust2=0.2,zred=3.0,add_igm_absorption=True)\n",
    "\n",
    "# set_tabular_sfh(age, sfr, Z=None)\n",
    "# Set a tabular SFH for use with the sfh=3 option. See the FSPS documentation for \n",
    "# information about tabular SFHs. This SFH will be piecewise linearly interpolated.\n",
    "\n",
    "# Parameters:\t\n",
    "# age – Age in Gyr. ndarray of shape (ntab,)\n",
    "# sfr – The SFR at each age, in Msun/yr. Must be an ndarray same length as age.\n",
    "# Z – (optional) The metallicity at each age. Currently this is ignored, and the value of zmet\n",
    "#   or logzsol is used for all ages. Thus setting this parameter will result in a NotImplementedError.\n",
    "\n",
    "\n",
    "ages = np.linspace(0,1.0,10) # in Gyr\n",
    "sfr_ages = np.ones(len(ages))*100.0 # 5 Msol/age bin ... setting the constant sfr = 5 Msun/year\n",
    "\n",
    "h = 6.6260755e-27 #erg * s\n",
    "c = 2.99792458e10 #cm/s\n",
    "\n",
    "print(ages)\n",
    "print(sfr_ages)\n",
    "\n",
    "sp.set_tabular_sfh(ages, sfr_ages)"
   ]
  },
  {
   "cell_type": "code",
   "execution_count": null,
   "metadata": {
    "collapsed": true
   },
   "outputs": [],
   "source": []
  },
  {
   "cell_type": "code",
   "execution_count": 56,
   "metadata": {},
   "outputs": [],
   "source": [
    "age = 0.005 #Gyr\n",
    "\n",
    "z = 3 #redshift #### For now just testing with optical filters\n",
    "\n",
    "fsps_filters = []\n",
    "fsps_filters.append(fsps.get_filter('wfc_acs_f435w'))\n",
    "fsps_filters.append(fsps.get_filter('wfpc2_f606w'))\n",
    "fsps_filters.append(fsps.get_filter('wfc3_uvis_f775w'))\n",
    "fsps_filters.append(fsps.get_filter('wfc3_uvis_f850lp'))\n",
    "fsps_filters.append(fsps.get_filter('wfc3_ir_f105w'))\n",
    "fsps_filters.append(fsps.get_filter('wfc3_ir_f125w'))\n",
    "fsps_filters.append(fsps.get_filter('wfc3_ir_f160w'))\n",
    "fsps_filters.append(fsps.get_filter('jwst_f200w'))\n",
    "fsps_filters.append(fsps.get_filter('jwst_f277w'))\n",
    "fsps_filters.append(fsps.get_filter('jwst_f356w'))\n",
    "fsps_filters.append(fsps.get_filter('jwst_f444w'))\n",
    "\n",
    "wave, spec = sp.get_spectrum(tage=age)"
   ]
  },
  {
   "cell_type": "code",
   "execution_count": 57,
   "metadata": {},
   "outputs": [],
   "source": [
    "# via Ned Wright's cosmology calculator: http://www.astro.ucla.edu/~wright/CosmoCalc.html\n",
    "# z=3 => 25924.2 Mpc => 25924.2e+6 pc => ~ 8e+28 cm\n",
    "D = 8e+28 # cm\n",
    "L_sol = 3.828e+33 # erg * s^-1\n",
    "flux_factor = L_sol/(4*np.pi*D**2)\n",
    "jansky = 1e-23 # erg * s^-1 * cm^-2 * Hz\n",
    "\n",
    "# Window the spectra\n",
    "indices = np.where((wave >= 0) & (wave <= 20000))[0]\n",
    "useWave, useSpec = wave[indices], spec[indices]\n",
    "\n",
    "# Convert to Jansky\n",
    "cgsSpec = useSpec*L_sol\n",
    "useSpec = useSpec*(flux_factor/jansky)*1e+6 # micro-Janskys\n",
    "z3_wave = useWave * (z+1)\n",
    "\n",
    "colors = [\"purple\",\"blue\",\"cyan\",\"green\", \"red\", \"brown\", \"black\", \"red\", \"green\", \"cyan\", \"blue\"]\n"
   ]
  },
  {
   "cell_type": "code",
   "execution_count": null,
   "metadata": {
    "collapsed": true
   },
   "outputs": [],
   "source": []
  },
  {
   "cell_type": "code",
   "execution_count": 58,
   "metadata": {},
   "outputs": [
    {
     "name": "stdout",
     "output_type": "stream",
     "text": [
      "Lyman photon rate: 2.6552407895593224e+52\n"
     ]
    }
   ],
   "source": [
    "#integrate bluewards of 912nm (Lyman break)\n",
    "#eg/ integrate flux/(h*nu) from 0 to 912nm\n",
    "\n",
    "#flux in [erg * s^-1 * \\AA^-1] so integrating flux/energy over wavelength gives [photons*s^-1] as desired\n",
    "\n",
    "intInds = np.where(useWave<9120)[0]\n",
    "\n",
    "#the Lyman photon rate per area\n",
    "lyPhotonRate = np.trapz(cgsSpec[intInds]*useWave[intInds]/float(h*c),x=useWave[intInds])\n",
    "print('Lyman photon rate:',lyPhotonRate)"
   ]
  },
  {
   "cell_type": "code",
   "execution_count": null,
   "metadata": {},
   "outputs": [],
   "source": [
    "n=10\n",
    "Z=1\n",
    "T=10000\n",
    "n_i=10**4\n",
    "n_e=10**2\n",
    "f_esc=0.\n",
    "N_LyC=lyPhotonRate\n",
    "waves=np.linspace(0.13,2.4,num=1000)\n",
    "\n",
    "otherWave,otherSpec = GetOut.get_spectrum(n, Z, T, n_i, n_e, f_esc, N_LyC, waves)\n",
    "otherWave *= 10**4\n"
   ]
  },
  {
   "cell_type": "code",
   "execution_count": null,
   "metadata": {},
   "outputs": [],
   "source": [
    "specFunc = interp(otherWave,useWave, cgsSpec)\n",
    "print(specFunc)\n",
    "print(otherSpec)\n",
    "\n",
    "plt.figure(figsize=[8,4])\n",
    "plt.plot(otherWave,otherSpec,label='New Spec')\n",
    "plt.plot(useWave,cgsSpec,label='FSPS Stuff')\n",
    "plt.legend(loc='best')\n",
    "plt.show()\n",
    "\n",
    "fullSpec = specFunc + otherSpec\n",
    "z3_wave = otherWave*(z+1)\n",
    "\n",
    "fig = plt.figure(figsize=(10, 4)) \n",
    "plt.plot(z3_wave,fullSpec)\n"
   ]
  },
  {
   "cell_type": "code",
   "execution_count": null,
   "metadata": {
    "collapsed": true
   },
   "outputs": [],
   "source": [
    "def AB(fluxes, wavelengths, transmission_spectrum):\n",
    "    top = np.trapz(fluxes * transmission_spectrum / wavelengths, x=wavelengths)\n",
    "    bottom = np.trapz(transmission_spectrum / wavelengths, x=wavelengths)\n",
    "    return -2.5*np.log10( top / bottom ) - 48.60\n",
    "\n",
    "\n",
    "def ABmagnitude(wave,f_nu):\n",
    "    c = 2.99792458e18 #\\AA/s\n",
    "    distFactor = 4*np.pi*D**2\n",
    "    f_nu /= distFactor\n",
    "    bandpass_mag = OrderedDict()\n",
    "    for f in fsps_filters:\n",
    "        filter_func = interp(wave,f.transmission[0], f.transmission[1])        \n",
    "        bandpass_mag[f.name] = AB(f_nu,wave,filter_func)  \n",
    "    return bandpass_mag\n",
    "\n",
    "print(ABmagnitude(z3_wave,fullSpec))\n"
   ]
  },
  {
   "cell_type": "code",
   "execution_count": null,
   "metadata": {
    "collapsed": true
   },
   "outputs": [],
   "source": []
  }
 ],
 "metadata": {
  "kernelspec": {
   "display_name": "Python 3",
   "language": "python",
   "name": "python3"
  },
  "language_info": {
   "codemirror_mode": {
    "name": "ipython",
    "version": 3
   },
   "file_extension": ".py",
   "mimetype": "text/x-python",
   "name": "python",
   "nbconvert_exporter": "python",
   "pygments_lexer": "ipython3",
   "version": "3.5.0"
  }
 },
 "nbformat": 4,
 "nbformat_minor": 2
}
