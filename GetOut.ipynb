{
 "cells": [
  {
   "cell_type": "code",
   "execution_count": 1,
   "metadata": {
    "ExecuteTime": {
     "end_time": "2018-03-16T06:11:35.736798Z",
     "start_time": "2018-03-16T06:11:34.905592Z"
    },
    "collapsed": true
   },
   "outputs": [],
   "source": [
    "import numpy as np\n",
    "from scipy import constants\n",
    "import scipy.integrate\n",
    "import matplotlib.pyplot as plt\n",
    "%matplotlib inline\n",
    "plt.rc('text', usetex=True)\n",
    "from mpmath import hyp2f1, factorial, gamma\n",
    "import functools\n",
    "fsc = constants.alpha\n",
    "aB_in_cm = constants.value('Bohr radius') * 1e2\n",
    "Ry_in_erg = constants.value('Rydberg constant times hc in J') * 1.e7  # in ergs\n",
    "kb = constants.k * 1e7\n",
    "h = constants.value('Planck constant') * 1e7  # in ergs s\n",
    "c = constants.c * 1.e2  # in cm/s\n",
    "e_e = 4.80320451e-10  # in statcoulomb\n",
    "m_e = constants.electron_mass * 1e3  # in g"
   ]
  },
  {
   "cell_type": "code",
   "execution_count": 2,
   "metadata": {
    "ExecuteTime": {
     "end_time": "2018-03-16T06:11:35.758122Z",
     "start_time": "2018-03-16T06:11:35.738652Z"
    },
    "collapsed": true
   },
   "outputs": [],
   "source": [
    "def I(eta_i, eta_f, k_i, k_f, l):\n",
    "    \"\"\"something dumb (radial-dipole integral)\n",
    "\n",
    "    Arguments:\n",
    "    eta_i  : modified quantum number associated with initial energy\n",
    "    eta_f  : modified quantum number associated with final energy\n",
    "    k_i    : wavenumber associated with initial energy\n",
    "    k_f    : wavenumber associated with final energy\n",
    "    l      : azimuthal quantum number\n",
    "\n",
    "    Returns:\n",
    "    I_l    : some number.\n",
    "    \"\"\"\n",
    "    temp1 = 1 / 4 * (4. * k_i * k_f / (k_i - k_f)**2)**(l + 1)\n",
    "    temp2 = np.exp(np.pi / 2 * abs(eta_i - eta_f))\n",
    "    temp3 = abs(gamma(l + 1 + 1j * eta_i) *\n",
    "                gamma(l + 1 + 1j * eta_f)) / gamma(2. * l + 2)\n",
    "    return temp1 * temp2 * temp3 * G(eta_i, eta_f, k_i, k_f, l)\n",
    "\n",
    "\n",
    "def G(eta_i, eta_f, k_i, k_f, l):\n",
    "    \"\"\"something dumb helper\"\"\"\n",
    "    temp1 = abs((k_f - k_i) / (k_f + k_i))**(1j * eta_i + 1j * eta_f)\n",
    "    temp2 = hyp2f1(l + 1 - 1j * eta_f,\n",
    "                   l + 1 - 1j * eta_i,\n",
    "                   2. * l + 2,\n",
    "                   -4. * k_i * k_f / (k_i - k_f)**2)\n",
    "\n",
    "    return (temp1 * temp2).real"
   ]
  },
  {
   "cell_type": "code",
   "execution_count": 3,
   "metadata": {
    "ExecuteTime": {
     "end_time": "2018-03-16T06:11:35.775186Z",
     "start_time": "2018-03-16T06:11:35.760045Z"
    },
    "collapsed": true
   },
   "outputs": [],
   "source": [
    "def gaunt_free_free(Z, beta, E):\n",
    "    \"\"\"calculate the Gaunt factor for free-free emission\n",
    "\n",
    "    Arguments:\n",
    "    Z    : ion charge, int\n",
    "    beta : velocity of incident electron in units of c, float or array\n",
    "    E    : energy of photon in units of Ha, float or array\n",
    "\n",
    "    Returns:\n",
    "    g_ff : gaunt factor for free-free emission\"\"\"\n",
    "\n",
    "    eta_i = Z * fsc / beta\n",
    "    k_i = Z / eta_i / aB_in_cm\n",
    "    eta_f = Z * fsc / (beta**2 + 2 * E * fsc**2)**.5\n",
    "    k_f = Z / eta_f / aB_in_cm\n",
    "\n",
    "    I0 = I(eta_i, eta_f, k_i, k_f, 0)\n",
    "    I1 = I(eta_i, eta_f, k_i, k_f, 1)\n",
    "\n",
    "    out = 2 * 3**.5 / np.pi / eta_i / eta_f * I0\n",
    "    out *= ((eta_i**2 + eta_f**2 + 2 * eta_i**2 * eta_f**2) * I0 - 2 *\n",
    "            eta_i * eta_f * (1 + eta_i**2)**.5 * (1 + eta_f**2)**.5 * I1)\n",
    "\n",
    "    return out.real"
   ]
  },
  {
   "cell_type": "code",
   "execution_count": 4,
   "metadata": {
    "ExecuteTime": {
     "end_time": "2018-03-16T06:11:35.782614Z",
     "start_time": "2018-03-16T06:11:35.776655Z"
    },
    "collapsed": true
   },
   "outputs": [],
   "source": [
    "def free_free_emission_spectrum(Z, hnu, E):\n",
    "    \"\"\"calculate free-free spectrum\n",
    "\n",
    "    Arguments:\n",
    "    Z    : ion charge, int\n",
    "    hnu  : energy of emitted photon, in Ha\n",
    "    E    : electron final energy, in Ha\"\"\"\n",
    "    if hnu >= E:\n",
    "        return 0.\n",
    "    g_ff = gaunt_free_free(Z, fsc * (2 * (E - hnu))**.5, hnu)\n",
    "    return 64 * np.pi**2 / 3 / 3**.5 * Z**2 * fsc**3 / (2 * E)**.5 * g_ff"
   ]
  },
  {
   "cell_type": "code",
   "execution_count": 5,
   "metadata": {
    "ExecuteTime": {
     "end_time": "2018-03-16T06:11:35.791718Z",
     "start_time": "2018-03-16T06:11:35.784559Z"
    },
    "collapsed": true
   },
   "outputs": [],
   "source": [
    "def free_free_thermal_spectrum(Z, T, E):\n",
    "    \"\"\"calculate free-free spectrum\n",
    "    from an ensemble of electrons following a Maxwellian\n",
    "\n",
    "    Arguments:\n",
    "    Z    : ion charge, int\n",
    "    T    : temperature of electrons, in Ha\n",
    "    E    : energies of emitted photons, in Ha\n",
    "    \"\"\"\n",
    "    out = np.zeros_like(E)\n",
    "    for i, hnu in enumerate(E):\n",
    "        out[i] = scipy.integrate.quad(\n",
    "            lambda x: x**.5 * np.exp(-x / T) * free_free_emission_spectrum(Z, hnu, x), hnu, np.inf)[0]\n",
    "        out[i] /= scipy.integrate.quad(lambda x: x**.5 *\n",
    "                                       np.exp(-x / T), 0, np.inf)[0]\n",
    "    return out"
   ]
  },
  {
   "cell_type": "code",
   "execution_count": 6,
   "metadata": {
    "ExecuteTime": {
     "end_time": "2018-03-16T06:11:35.808218Z",
     "start_time": "2018-03-16T06:11:35.793875Z"
    },
    "collapsed": true
   },
   "outputs": [],
   "source": [
    "def emissivity_free_free(Z, Ni, Ne, T, nu):\n",
    "    \"\"\"calculate emissivity of free free emission\n",
    "\n",
    "    Arguments:\n",
    "    Z    : ion charge, int\n",
    "    Ni   : ion density, in cm^-3\n",
    "    Ne   : electron density, in cm^-3\n",
    "    T    : temperature of electrons, in K\n",
    "    nu   : frequency, in Hz\n",
    "    \"\"\"\n",
    "    T_Ha = T * 3.16680853419133e-6\n",
    "    hnu_Ha = nu * 1.519828500715e-16\n",
    "\n",
    "    term = scipy.integrate.quad(lambda x: np.exp(-x / T_Ha) * gaunt_free_free(\n",
    "        Z, fsc * (2 * (x - hnu_Ha))**.5, hnu_Ha), hnu_Ha, np.inf)[0]\n",
    "    term /= scipy.integrate.quad(lambda x: x**.5 *\n",
    "                                 np.exp(-x / T_Ha), 0, np.inf)[0]\n",
    "    # the exponential is folded into the numerator\n",
    "\n",
    "    prefactor = 2**5 * np.pi * Z**2 * e_e**6 / 3 / m_e / c**3\n",
    "    temp2 = (2 * np.pi / 3 / kb / m_e / T)**.5\n",
    "    return prefactor * temp2 * term"
   ]
  },
  {
   "cell_type": "code",
   "execution_count": 7,
   "metadata": {
    "ExecuteTime": {
     "end_time": "2018-03-16T06:11:35.828273Z",
     "start_time": "2018-03-16T06:11:35.809971Z"
    },
    "collapsed": true,
    "scrolled": false
   },
   "outputs": [],
   "source": [
    "def G_l(l, m, eta, rho):\n",
    "    \"\"\"G matrix element, radial-dipole integral\"\"\"\n",
    "    gl = 0\n",
    "    for i in range(2 * m + 1):\n",
    "        gl += b_s(i, l, m, eta, rho) * rho**i\n",
    "    return gl\n",
    "\n",
    "\n",
    "@functools.lru_cache(maxsize=1024)\n",
    "def b_s(s, l, m, eta, rho):\n",
    "    \"\"\"polynomial solution to matrix element G_l\"\"\"\n",
    "    if s == 0:\n",
    "        return 1\n",
    "    if s == 1:\n",
    "        return 2 * m * eta / l\n",
    "\n",
    "    bsminus1 = b_s(s - 1, l, m, eta, rho)\n",
    "    bsminus2 = b_s(s - 2, l, m, eta, rho)\n",
    "    bs = -(1 / (s * (s + 2 * l - 1))) * (4 * eta * (s - 1 - m) *\n",
    "                                         bsminus1 + (2 * m + 2. - s) * (2 * m + 2 * l + 1 - s) * bsminus2)\n",
    "    return bs"
   ]
  },
  {
   "cell_type": "code",
   "execution_count": 8,
   "metadata": {
    "ExecuteTime": {
     "end_time": "2018-03-16T06:11:35.914424Z",
     "start_time": "2018-03-16T06:11:35.829734Z"
    },
    "collapsed": true,
    "scrolled": true
   },
   "outputs": [],
   "source": [
    "def sigma_minus(n, l, E, Z):\n",
    "    \"\"\"Cross section for bound-free absorption from (n, l) through\n",
    "    dipole transition to E with angular momentum l-1\"\"\"\n",
    "    eta = (Z**2 * Ry_in_erg / E)**.5\n",
    "    nu = E / h\n",
    "    if l == 0:\n",
    "        return 0\n",
    "\n",
    "    rho = eta / n\n",
    "    GlA = G_l(l, -(l + 1 - n), eta, rho)\n",
    "    GlB = G_l(l, -(l - 1 - n), eta, rho)\n",
    "\n",
    "    prefactor = 2**(4 * l) / 3 * np.pi * e_e**2 / m_e / c / nu\n",
    "\n",
    "    A = 1\n",
    "    for l_i in range(1, l):\n",
    "        A *= (l_i**2 + eta**2)\n",
    "    B = l**2 * factorial(n + l) / factorial(2 * l + 1) / \\\n",
    "        factorial(2 * l - 1) / factorial(n - l - 1)\n",
    "    C = np.exp(-4 * eta * np.arctan2(1, rho)) / (1 - np.exp(-2 * np.pi * eta))\n",
    "    D = rho**(2 * l + 2) / (1 + rho**2)**(2 * n - 2)\n",
    "    E = (GlA - (1 + rho**2)**(-2) * GlB)**2\n",
    "    return prefactor * A * B * C * D * E\n",
    "\n",
    "\n",
    "def sigma_plus(n, l, E, Z):\n",
    "    \"\"\"Cross section for bound-free absorption from (n, l) through\n",
    "    dipole transition to E with angular momentum l+1\"\"\"\n",
    "    eta = (Z**2 * Ry_in_erg / E)**.5\n",
    "    rho = eta / n\n",
    "    nu = E / h\n",
    "    GlA = G_l(l + 1, -(l + 1 - n), eta, rho)\n",
    "    GlB = G_l(l + 1, -(l - n), eta, rho)\n",
    "\n",
    "    prefactor = 2**(4 * l + 6) / 3 * np.pi * e_e**2 / m_e / c / nu\n",
    "\n",
    "    A = 1\n",
    "    for l_i in range(l + 1):\n",
    "        A *= ((l_i + 1)**2 + eta**2)\n",
    "    B = (l + 1)**2 * factorial(n + l) / (2 * l + 1) / factorial(2 * l + 1) / \\\n",
    "        factorial(2 * l + 2) / factorial(n - l - 1) / ((l + 1)**2 + eta**2)**2\n",
    "\n",
    "    C = np.exp(-4 * eta * np.arctan2(1, rho)) / (1 - np.exp(-2 * np.pi * eta))\n",
    "    D = rho**(2 * l + 4) * eta**2 / (1 + rho**2)**(2 * n)\n",
    "    E = ((l + 1 - n) * GlA + (l + 1 + n) / (1 + rho**2) * GlB)**2\n",
    "    return prefactor * A * B * C * D * E"
   ]
  },
  {
   "cell_type": "code",
   "execution_count": 9,
   "metadata": {
    "ExecuteTime": {
     "end_time": "2018-03-16T06:11:35.932663Z",
     "start_time": "2018-03-16T06:11:35.916411Z"
    },
    "collapsed": true
   },
   "outputs": [],
   "source": [
    "@functools.lru_cache(maxsize=2048)\n",
    "def sigma_bf_nl(n, l, nu, Z):\n",
    "    \"\"\"Bound-free cross section for absorption from (n, l) through\n",
    "    dipole transition to E with angular momenta l+-1\"\"\"\n",
    "    if h * nu < Z**2 * Ry_in_erg / n**2:\n",
    "        return 0.\n",
    "    return sigma_plus(n, l, h * nu, Z) + sigma_minus(n, l, h * nu, Z)\n",
    "\n",
    "\n",
    "@functools.lru_cache(maxsize=2048)\n",
    "def sigma_bf_n(n, Z, nu):\n",
    "    \"\"\"angular momentum-average Bound-free cross section from \n",
    "    n through dipole transition to E with \"\"\"\n",
    "    if h * nu < Z**2 * Ry_in_erg / n**2:\n",
    "        return 0.\n",
    "    sbf = 0\n",
    "    for l in range(n):\n",
    "        sbf += (2 * l + 1) * sigma_bf_nl(n, l, nu, Z)\n",
    "\n",
    "    return sbf / n**2"
   ]
  },
  {
   "cell_type": "code",
   "execution_count": 10,
   "metadata": {
    "ExecuteTime": {
     "end_time": "2018-03-16T06:11:35.965504Z",
     "start_time": "2018-03-16T06:11:35.934219Z"
    },
    "collapsed": true
   },
   "outputs": [],
   "source": [
    "def gaunt_bound_free_nl(nu, n, l, Z):\n",
    "    \"\"\"ratio of the cross section for bound-free absorption from \n",
    "    a bound state (n, l) to a free (continuum) state E with \n",
    "    unpolarized photon E_ph and the Kramers' semi-classical \n",
    "    bound-free cross section\n",
    "\n",
    "    Arguments:\n",
    "    n    : Principal quantum number\n",
    "    l    : Azimuthal quantum number\n",
    "    nu   : frequency of unpolarized photon\n",
    "    Z    : ionization state\n",
    "\n",
    "    Returns:\n",
    "    g_bf : (n,l,nu) Gaunt factor for bound-free transitions\n",
    "    \"\"\"\n",
    "    if h * nu < Z**2 * Ry_in_erg / n**2:\n",
    "        return 0.\n",
    "    sp = sigma_plus(n, l, h * nu, Z)\n",
    "    sm = sigma_minus(n, l, h * nu, Z)\n",
    "    sK = sigma_K(n, h * nu, Z)\n",
    "    return (sp + sm) / sK\n",
    "\n",
    "def sigma_K(n, E, Z):\n",
    "    \"\"\"Kramers' semi-classical bound-free cross section\"\"\"\n",
    "    eta = (Z**2 * Ry_in_erg / E)**.5\n",
    "    rho = eta / n\n",
    "    nu = E / h\n",
    "    return 2.**4 / 3. / 3.**.5 * (e_e**2 / m_e / c / nu) / n * (rho**2 / (1 + rho**2))**2\n",
    "\n",
    "def gaunt_bound_free_n(nu, n, Z):\n",
    "    \"\"\"ratio of the cross section for bound-free absorption from \n",
    "    a l-averaged bound states n to a free (continuum) state E with \n",
    "    unpolarized photon E_ph and the Kramers' semi-classical \n",
    "    bound-free cross section\n",
    "\n",
    "    Arguments:\n",
    "    n    : Principal quantum number\n",
    "    nu   : frequency of unpolarized photon\n",
    "    Z    : ionization state\n",
    "\n",
    "    Returns:\n",
    "    g_bf : (n, nu) Gaunt factor for bound-free transitions\n",
    "    \"\"\"\n",
    "    if h * nu < Z**2 * Ry_in_erg / n**2:\n",
    "        return 0.\n",
    "    gbf = 0\n",
    "    for l in range(n):\n",
    "        gbf += (2 * l + 1) * gaunt_bound_free_nl(nu, n, l, Z)\n",
    "\n",
    "    return gbf / n**2"
   ]
  },
  {
   "cell_type": "code",
   "execution_count": 11,
   "metadata": {
    "ExecuteTime": {
     "end_time": "2018-03-16T06:11:35.985827Z",
     "start_time": "2018-03-16T06:11:35.967157Z"
    },
    "collapsed": true
   },
   "outputs": [],
   "source": [
    "def gamma_fb_n(n, Z, nu, T):\n",
    "    \"\"\"emission coefficient of single-shell bound-free transition for\n",
    "    an ensemble of electrons at temperature T\"\"\"\n",
    "    I_n = Z**2 * Ry_in_erg / n**2\n",
    "    E = h*nu\n",
    "    if E < I_n:\n",
    "        return 0\n",
    "    else:\n",
    "        epsilon = h * nu / Z**2 / Ry_in_erg - 1/n**2\n",
    "        pre = 7.907e-18 * (n / Z**2) * (1 + n**2 * epsilon)**(-3)\n",
    "        g = gaunt_bound_free_n(nu, n, Z)\n",
    "        \n",
    "    A = (2 / np.pi)**.5\n",
    "    B = np.exp(I_n / kb / T) / \\\n",
    "        c**2 / (m_e * kb * T)**(3 / 2)\n",
    "    C = 2 * n**2 * h * (h * nu)**3\n",
    "\n",
    "    E = np.exp(-h * nu / kb / T)\n",
    "\n",
    "    return A * B * C * pre*g * E"
   ]
  },
  {
   "cell_type": "code",
   "execution_count": 12,
   "metadata": {
    "ExecuteTime": {
     "end_time": "2018-03-16T06:11:35.990653Z",
     "start_time": "2018-03-16T06:11:35.987285Z"
    },
    "collapsed": true
   },
   "outputs": [],
   "source": [
    "def j_nu_fb(n, Z, nu, T, n_i, n_e):\n",
    "    \"\"\"emission coefficient of shell-sum bound-free transition\"\"\"\n",
    "    return sum([gamma_fb_n(i, Z, nu, T) for i in range(1, n)])"
   ]
  },
  {
   "cell_type": "code",
   "execution_count": 13,
   "metadata": {
    "ExecuteTime": {
     "end_time": "2018-03-16T06:13:57.762163Z",
     "start_time": "2018-03-16T06:11:35.992414Z"
    }
   },
   "outputs": [],
   "source": [
    "test2 = []\n",
    "test3 = []\n",
    "for nu in np.logspace(np.log10(3e13), np.log10(3e15), 400):\n",
    "    test2.append(nu * 1 / 2 / np.pi * emissivity_free_free(1, 1, 1, 10000, nu))\n",
    "    test3.append(nu * j_nu_fb(20, 1, nu, 10000, 1e4, 1e4))"
   ]
  },
  {
   "cell_type": "code",
   "execution_count": 27,
   "metadata": {
    "ExecuteTime": {
     "end_time": "2018-03-16T06:14:22.752608Z",
     "start_time": "2018-03-16T06:14:22.388792Z"
    },
    "scrolled": true
   },
   "outputs": [
    {
     "data": {
      "text/plain": [
       "<matplotlib.text.Text at 0x11c2f6fd0>"
      ]
     },
     "execution_count": 27,
     "metadata": {},
     "output_type": "execute_result"
    },
    {
     "data": {
      "image/png": "[encoded data removed]",
      "text/plain": [
       "<matplotlib.figure.Figure at 0x11c2ae438>"
      ]
     },
     "metadata": {},
     "output_type": "display_data"
    }
   ],
   "source": [
    "plt.loglog(3e14 / np.logspace(np.log10(3e13), np.log10(3e15), 400),\n",
    "           np.array(test2), alpha=.5)\n",
    "plt.loglog(3e14 / np.logspace(np.log10(3e13), np.log10(3e15), 400),\n",
    "           np.array(test3), alpha=.5)\n",
    "plt.loglog(3e14 / np.logspace(np.log10(3e13), np.log10(3e15), 400),\n",
    "           np.array(test2) + np.array(test3))\n",
    "\n",
    "plt.ylim(1e-26, 1e-23)\n",
    "plt.ylabel(r'\\nu \\gamma_{\\nu} (ergs \\, cm^{-3}s^{-1})')\n",
    "plt.xlabel('Wavelength (micron)')"
   ]
  },
  {
   "cell_type": "code",
   "execution_count": 28,
   "metadata": {
    "ExecuteTime": {
     "end_time": "2018-03-16T06:15:06.267408Z",
     "start_time": "2018-03-16T06:15:06.259717Z"
    },
    "collapsed": true
   },
   "outputs": [],
   "source": [
    "import scipy.interpolate\n",
    "nu_table=(10**14)*np.array([1E-26,1.23,2.47,3.70,4.93,6.17,7.40,8.64,9.87,11.10,12.34]) #10^14 Hz\n",
    "nug_nu=(10**-12)*np.array([0,0.0373,0.242,0.679,1.37,2.33,3.55,5.01,6.69,8.59,10.6])\n",
    "\n",
    "g_nu=nug_nu/nu_table\n",
    "#Interpolate points on table.\n",
    "gnu_interp=scipy.interpolate.interp1d(nu_table,g_nu,kind='cubic')"
   ]
  },
  {
   "cell_type": "code",
   "execution_count": 29,
   "metadata": {
    "ExecuteTime": {
     "end_time": "2018-03-16T06:15:06.517932Z",
     "start_time": "2018-03-16T06:15:06.514401Z"
    },
    "collapsed": true
   },
   "outputs": [],
   "source": [
    "alpha_eff=0.838E-13 #cm^3 * s^-1\n",
    "A_2= 8.23 #s^-1\n",
    "q_p=2.51E-4 + 2.23E-4 #cm^3 * s^-1\n",
    "q_e=0.22E-4 + 0.35E-4 #cm^3 * s^-1\n",
    "nu_12=2*1.234E15"
   ]
  },
  {
   "cell_type": "code",
   "execution_count": 30,
   "metadata": {
    "ExecuteTime": {
     "end_time": "2018-03-16T06:15:06.742688Z",
     "start_time": "2018-03-16T06:15:06.730386Z"
    },
    "collapsed": true
   },
   "outputs": [],
   "source": [
    "def gamma_nu(nu_arr, n_p, n_e):\n",
    "    \"\"\"equation 4.29 in Osterbrock and Ferland 2nd edition\"\"\"\n",
    "    gammas=[]\n",
    "    denom=1+((n_p*q_p+n_e*q_p)/A_2)\n",
    "    for nu in nu_arr: \n",
    "        if nu <= nu_12/2:\n",
    "            g_nu=gnu_interp(nu)\n",
    "            gammas.append((alpha_eff)*g_nu/denom)\n",
    "        elif nu > nu_12/2:\n",
    "            if nu_12-nu < (10**14*1E-26):\n",
    "                gammas.append(0)\n",
    "            else:\n",
    "                g_nu2=(nu/(nu_12-nu))*gnu_interp(nu_12-nu)\n",
    "                gammas.append((alpha_eff)*g_nu2/denom)\n",
    "    return gammas"
   ]
  },
  {
   "cell_type": "code",
   "execution_count": 31,
   "metadata": {
    "ExecuteTime": {
     "end_time": "2018-03-16T06:15:06.977104Z",
     "start_time": "2018-03-16T06:15:06.962323Z"
    },
    "collapsed": true
   },
   "outputs": [],
   "source": [
    "nu_arr=np.logspace(np.log10(1.23E14),np.log10(2.467e15),200)\n",
    "gamma_nu_arr=gamma_nu(nu_arr,0,0)"
   ]
  },
  {
   "cell_type": "code",
   "execution_count": 32,
   "metadata": {
    "ExecuteTime": {
     "end_time": "2018-03-16T06:15:09.112474Z",
     "start_time": "2018-03-16T06:15:08.748160Z"
    }
   },
   "outputs": [
    {
     "data": {
      "text/plain": [
       "<matplotlib.text.Text at 0x11c27b208>"
      ]
     },
     "execution_count": 32,
     "metadata": {},
     "output_type": "execute_result"
    },
    {
     "data": {
      "image/png": "[encoded data removed]",
      "text/plain": [
       "<matplotlib.figure.Figure at 0x11ca8de48>"
      ]
     },
     "metadata": {},
     "output_type": "display_data"
    }
   ],
   "source": [
    "plt.loglog(3E14/np.logspace(np.log10(1.23e14),np.log10(2.467e15),200), nu_arr*gamma_nu_arr)\n",
    "plt.ylabel(r'$\\nu \\gamma_{\\nu} (erg cm^{-3}s^{-1})$')\n",
    "plt.ylim(1e-26,1e-23)\n",
    "plt.xlim(0.1,10)\n",
    "plt.xlabel('Wavelength (micron)')"
   ]
  },
  {
   "cell_type": "code",
   "execution_count": 33,
   "metadata": {
    "ExecuteTime": {
     "end_time": "2018-03-16T06:15:09.720315Z",
     "start_time": "2018-03-16T06:15:09.717188Z"
    },
    "collapsed": true
   },
   "outputs": [],
   "source": [
    "alpha_B = 2.6e-13 #cm^3 s^-1 for 10^4K only!"
   ]
  },
  {
   "cell_type": "code",
   "execution_count": 34,
   "metadata": {
    "ExecuteTime": {
     "end_time": "2018-03-16T06:15:10.683019Z",
     "start_time": "2018-03-16T06:15:10.676678Z"
    },
    "collapsed": true
   },
   "outputs": [],
   "source": [
    "def nebular_continuum_emission(n, Z, nu, T, n_i, n_e, f_esc, N_LyC):\n",
    "    \"\"\"equation 3 in Ono 2010\"\"\"\n",
    "    j_fb = np.pi*j_nu_fb(n, Z, nu, T, n_i, n_e)\n",
    "    j_ff = 1/2/np.pi*emissivity_free_free(Z, n_i, n_e, T, nu)\n",
    "    j_2q = gamma_nu([nu], n_i, n_e)[0]\n",
    "    return (j_fb + j_ff + j_2q) / alpha_B * (1 - f_esc) * N_LyC"
   ]
  },
  {
   "cell_type": "code",
   "execution_count": 35,
   "metadata": {
    "ExecuteTime": {
     "end_time": "2018-03-16T06:15:15.518079Z",
     "start_time": "2018-03-16T06:15:15.155987Z"
    }
   },
   "outputs": [
    {
     "data": {
      "text/plain": [
       "<matplotlib.text.Text at 0x11ccd7e10>"
      ]
     },
     "execution_count": 35,
     "metadata": {},
     "output_type": "execute_result"
    },
    {
     "data": {
      "image/png": "[encoded data removed]",
      "text/plain": [
       "<matplotlib.figure.Figure at 0x11ca95cc0>"
      ]
     },
     "metadata": {},
     "output_type": "display_data"
    }
   ],
   "source": [
    "plt.loglog(3e14 / np.logspace(np.log10(3e13), np.log10(3e15), 400),\n",
    "           np.array(test2) + np.array(test3), 'k')\n",
    "plt.loglog(3E14/np.logspace(np.log10(1.23e14),np.log10(2.467e15),200), nu_arr*gamma_nu_arr, 'k',alpha=.3)\n",
    "plt.ylim(1e-26, 1e-23)\n",
    "plt.ylabel(r'\\nu \\gamma_{\\nu} (ergs \\, cm^{-3}s^{-1})')\n",
    "plt.xlabel('Wavelength (micron)')\n"
   ]
  },
  {
   "cell_type": "code",
   "execution_count": 36,
   "metadata": {
    "ExecuteTime": {
     "end_time": "2018-03-16T06:15:19.278012Z",
     "start_time": "2018-03-16T06:15:19.267762Z"
    },
    "collapsed": true
   },
   "outputs": [],
   "source": [
    "def hbeta_line_luminosity(fesc, N_LyC):\n",
    "    \"\"\"equation 2 from Ono 2010\"\"\"\n",
    "    return 4.78e-13 * (1-fesc) * N_LyC\n",
    "\n",
    "def compute(fluxhbeta): \n",
    "    \"\"\"calculate fluxes of Hydrogen line emission\"\"\"\n",
    "    ratios=np.genfromtxt(\"ratios_10.dat\")\n",
    "    waves0, intensities, references=ratios[:,0], ratios[:,1], ratios[:,2]\n",
    "    nu0 = 3e18 / waves0\n",
    "    intensities *= references\n",
    "    intensities *= fluxhbeta\n",
    "    \n",
    "    return waves0 / 10000, intensities / nu0"
   ]
  },
  {
   "cell_type": "code",
   "execution_count": 37,
   "metadata": {
    "ExecuteTime": {
     "end_time": "2018-03-16T06:15:19.775727Z",
     "start_time": "2018-03-16T06:15:19.771680Z"
    },
    "collapsed": true
   },
   "outputs": [],
   "source": [
    "nus = np.concatenate(([3e14 / compute(hbeta_line_luminosity(0,1e52))[0],np.logspace(np.log10(1.23e14),np.log10(2.467e15),400)]))"
   ]
  },
  {
   "cell_type": "code",
   "execution_count": 38,
   "metadata": {
    "ExecuteTime": {
     "end_time": "2018-03-16T06:15:21.537174Z",
     "start_time": "2018-03-16T06:15:21.523463Z"
    },
    "collapsed": true
   },
   "outputs": [],
   "source": [
    "def get_spectrum(n, Z, T, n_i, n_e, f_esc, N_LyC, waves):\n",
    "    \"\"\"\n",
    "    Arguments:\n",
    "    n    :   Maximum principal quantum number, int\n",
    "    Z    :   ion charge, int\n",
    "    T    :   temperature, K\n",
    "    n_i  :   ion number density, cm^-3\n",
    "    n_e  :   electron number density, cm^-3\n",
    "    f_esc:   escape fraction, float\n",
    "    N_LyC:   rate of Lyman Continuum photons, float\n",
    "    waves:   wavelength array, in microns\"\"\"\n",
    "    fluxhbeta = hbeta_line_luminosity(f_esc, N_LyC)\n",
    "    wave0, lnu0 = compute(fluxhbeta)\n",
    "    lnu0 = np.concatenate([lnu0, np.zeros(len(waves))])\n",
    "    wavelengths = np.concatenate([wave0, waves])\n",
    "    \n",
    "    spec = [nebular_continuum_emission(n, Z, nu, T, n_i, n_e, f_esc, N_LyC) for nu in 3e14 / wavelengths]\n",
    "    idx = np.argsort(wavelengths)\n",
    "    out = (spec + lnu0)[idx]\n",
    "    outwave = wavelengths[idx]\n",
    "    return outwave, out"
   ]
  },
  {
   "cell_type": "code",
   "execution_count": null,
   "metadata": {
    "ExecuteTime": {
     "start_time": "2018-03-16T06:15:25.039Z"
    }
   },
   "outputs": [],
   "source": [
    "waves, specs = get_spectrum(20, 1, 10000, 1e4, 1e2, 0, 1e52, np.linspace(.1, 2.4, 1000))"
   ]
  },
  {
   "cell_type": "code",
   "execution_count": null,
   "metadata": {
    "ExecuteTime": {
     "end_time": "2018-03-16T06:14:11.257344Z",
     "start_time": "2018-03-16T06:11:34.924Z"
    }
   },
   "outputs": [],
   "source": [
    "plt.plot(waves, specs)\n",
    "plt.ylabel(r'L_{\\nu}\\, [erg\\,s^{-1} \\,Hz^{-1}]')\n",
    "plt.xlabel('Wavelength (microns)')"
   ]
  },
  {
   "cell_type": "code",
   "execution_count": null,
   "metadata": {
    "ExecuteTime": {
     "end_time": "2018-03-16T06:14:11.258010Z",
     "start_time": "2018-03-16T06:11:34.925Z"
    },
    "collapsed": true
   },
   "outputs": [],
   "source": [
    "np.savetxt('plot.txt', np.array([waves, specs]).T)"
   ]
  },
  {
   "cell_type": "code",
   "execution_count": null,
   "metadata": {
    "collapsed": true
   },
   "outputs": [],
   "source": []
  }
 ],
 "metadata": {
  "anaconda-cloud": {},
  "kernelspec": {
   "display_name": "Python [Root]",
   "language": "python",
   "name": "Python [Root]"
  },
  "language_info": {
   "codemirror_mode": {
    "name": "ipython",
    "version": 3
   },
   "file_extension": ".py",
   "mimetype": "text/x-python",
   "name": "python",
   "nbconvert_exporter": "python",
   "pygments_lexer": "ipython3",
   "version": "3.5.2"
  }
 },
 "nbformat": 4,
 "nbformat_minor": 2
}
