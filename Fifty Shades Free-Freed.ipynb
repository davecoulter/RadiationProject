{
 "cells": [
  {
   "cell_type": "markdown",
   "metadata": {},
   "source": [
    "For $N_i$ fixed ions of charge $+Ze$ and $N_e$ electrons of charge $-e$ travelling in random directions at speed $v$, accelerating electrons emit isotropically.\n",
    "$$\\frac{\\epsilon_{\\nu}}{4\\pi} = \\frac{8 Z^2 e^6}{3m^2 v c^3}N_i N_e \\frac{\\pi}{\\sqrt{3}}g_{ff}$$"
   ]
  },
  {
   "cell_type": "markdown",
   "metadata": {},
   "source": [
    "Since unbound, use an analogous quantum number $\\eta$ such that the initial state $E_i = Z^2 I_0 / \\eta^2$ and the final energy state is $E_f = Z^2 I_0 / \\eta'^2$, for $I_0 = m e^4 / (2\\hbar)^2$. With manipulation, $\\eta = Z \\alpha / \\beta$ and $\\eta' = Z \\alpha / \\sqrt{\\beta^2 + 2 \\alpha^2 E_f}$ with corresponding wavenumbers."
   ]
  },
  {
   "cell_type": "markdown",
   "metadata": {},
   "source": [
    "Quantum Woo $\\rightarrow$ analytical continuation garbage that doesn't really matter understand $g_{ff}$, which is a ratio of the QM cross-section and the semi-classical derived cross-section."
   ]
  },
  {
   "cell_type": "markdown",
   "metadata": {},
   "source": [
    "$$g_{ff} =\\frac{2\\sqrt{3}}{\\pi \\eta_i \\eta_f}[(\\eta_i^2 + \\eta_f^2 + 2\\eta_i^2\\eta_f^2)I_0 - 2\\eta_i\\eta_f(1+\\eta_i^2)^{1/2}(1+\\eta_f^2)^{1/2}I_1]I_0$$\n",
    "Where $I_l$ has some functional form."
   ]
  },
  {
   "cell_type": "code",
   "execution_count": 229,
   "metadata": {
    "ExecuteTime": {
     "end_time": "2018-02-27T09:02:19.144283Z",
     "start_time": "2018-02-27T09:02:19.133334Z"
    },
    "collapsed": true
   },
   "outputs": [],
   "source": [
    "import numpy as np\n",
    "from scipy import constants\n",
    "import scipy.integrate\n",
    "import matplotlib.pyplot as plt\n",
    "%matplotlib inline\n",
    "plt.rc('text', usetex=True)\n",
    "from mpmath import hyp2f1, factorial, gamma\n",
    "fsc = constants.alpha   \n",
    "aB_in_cm = constants.value('Bohr radius') * 1e2\n",
    "c = constants.c * 1.e2\n",
    "e_e = 4.80320451e-10\n",
    "m_e = constants.electron_mass * 1e3\n",
    "k = 1.380648780669e-16"
   ]
  },
  {
   "cell_type": "code",
   "execution_count": 230,
   "metadata": {
    "ExecuteTime": {
     "end_time": "2018-02-27T09:02:19.361094Z",
     "start_time": "2018-02-27T09:02:19.343397Z"
    },
    "collapsed": true
   },
   "outputs": [],
   "source": [
    "def I(eta_i, eta_f, k_i, k_f, l):\n",
    "    \"\"\"something dumb (radial-dipole integral)\n",
    "    \n",
    "    Arguments:\n",
    "    eta_i  : modified quantum number associated with initial energy\n",
    "    eta_f  : modified quantum number associated with final energy\n",
    "    k_i    : wavenumber associated with initial energy\n",
    "    k_f    : wavenumber associated with final energy\n",
    "    l      : azimuthal quantum number\n",
    "    \n",
    "    Returns:\n",
    "    I_l    : some number.\n",
    "    \"\"\"\n",
    "    temp1 = 1/4*(4.* k_i * k_f / (k_i - k_f)**2)**(l+1) \n",
    "    temp2 = np.exp(np.pi/2*abs(eta_i - eta_f))\n",
    "    temp3 = abs(gamma(l+1+1j*eta_i) * gamma(l+1+1j*eta_f)) / gamma(2.*l + 2)\n",
    "    return temp1 * temp2 * temp3 *G(eta_i, eta_f, k_i, k_f, l)\n",
    "\n",
    "def G(eta_i, eta_f, k_i, k_f, l):\n",
    "    \"\"\"something dumb helper\"\"\"\n",
    "    temp1 = abs((k_f - k_i) / (k_f + k_i))**(1j*eta_i + 1j*eta_f)\n",
    "    temp2 = hyp2f1(l+1-1j*eta_f, \n",
    "                   l+1-1j*eta_i, \n",
    "                   2.*l+2, \n",
    "                   -4.*k_i*k_f/(k_i-k_f)**2)\n",
    "\n",
    "    return (temp1 * temp2).real"
   ]
  },
  {
   "cell_type": "code",
   "execution_count": 231,
   "metadata": {
    "ExecuteTime": {
     "end_time": "2018-02-27T09:02:19.546219Z",
     "start_time": "2018-02-27T09:02:19.531215Z"
    },
    "collapsed": true
   },
   "outputs": [],
   "source": [
    "def gaunt_free_free(Z, beta, E):\n",
    "    \"\"\"calculate the Gaunt factor for free-free emission\n",
    "    \n",
    "    Arguments:\n",
    "    Z    : ion charge, int\n",
    "    beta : velocity of incident electron in units of c, float or array\n",
    "    E    : energy of photon in units of Ha, float or array\n",
    "    \n",
    "    Returns:\n",
    "    g_ff : gaunt factor for free-free emission\"\"\"\n",
    "    \n",
    "    eta_i = Z * fsc / beta\n",
    "    k_i = Z / eta_i / aB_in_cm\n",
    "    eta_f = Z * fsc / (beta**2 + 2*E*fsc**2)**.5\n",
    "    k_f = Z / eta_f / aB_in_cm\n",
    "\n",
    "    I0 = I(eta_i, eta_f, k_i, k_f, 0)\n",
    "    I1 = I(eta_i, eta_f, k_i, k_f, 1)\n",
    "    \n",
    "    out = 2*3**.5/np.pi/eta_i/eta_f * I0\n",
    "    out *=((eta_i**2 + eta_f**2 + 2*eta_i**2*eta_f**2)*I0 - 2 * eta_i * eta_f * (1 + eta_i**2)**.5*(1+eta_f**2)**.5*I1)\n",
    "\n",
    "    return out.real"
   ]
  },
  {
   "cell_type": "code",
   "execution_count": 232,
   "metadata": {
    "ExecuteTime": {
     "end_time": "2018-02-27T09:02:20.079368Z",
     "start_time": "2018-02-27T09:02:20.074558Z"
    },
    "collapsed": true
   },
   "outputs": [],
   "source": [
    "def free_free_emission_spectrum(Z, hnu, E):\n",
    "    \"\"\"calculate free-free spectrum\n",
    "    \n",
    "    Arguments:\n",
    "    Z    : ion charge, int\n",
    "    hnu  : energy of emitted photon, in Ha\n",
    "    E    : electron final energy, in Ha\"\"\"\n",
    "    if hnu >= E:\n",
    "        return 0.\n",
    "    g_ff = gaunt_free_free(Z, fsc * (2*(E - hnu))**.5, hnu)\n",
    "    return 64 * np.pi**2 / 3 / 3**.5 * Z**2 * fsc**3 / (2*E)**.5 * g_ff"
   ]
  },
  {
   "cell_type": "markdown",
   "metadata": {},
   "source": [
    "The free-free emission per unit volume of a thermal gas is obtained averaging over a Maxwellian distribution, $f(E) \\propto \\sqrt{E} exp(-E/T)$"
   ]
  },
  {
   "cell_type": "code",
   "execution_count": 233,
   "metadata": {
    "ExecuteTime": {
     "end_time": "2018-02-27T09:02:22.483328Z",
     "start_time": "2018-02-27T09:02:22.476134Z"
    },
    "collapsed": true
   },
   "outputs": [],
   "source": [
    "def free_free_thermal_spectrum(Z, T, E):\n",
    "    \"\"\"calculate free-free spectrum\n",
    "    from an ensemble of electrons following a Maxwellian\n",
    "    \n",
    "    Arguments:\n",
    "    Z    : ion charge, int\n",
    "    T    : temperature of electrons, in Ha\n",
    "    E    : energies of emitted photons, in Ha\n",
    "    \"\"\"\n",
    "    out = np.zeros_like(E)\n",
    "    for i, hnu in enumerate(E):\n",
    "        out[i] = scipy.integrate.quad(lambda x: x**.5 * np.exp(-x / T) * free_free_emission_spectrum(Z, hnu, x), hnu, np.inf)[0]\n",
    "        out[i] /= scipy.integrate.quad(lambda x: x**.5 * np.exp(-x / T), 0, np.inf)[0]\n",
    "    return out"
   ]
  },
  {
   "cell_type": "markdown",
   "metadata": {},
   "source": [
    "Emissivity $\\epsilon_{\\nu}$ of free-free emission from an ensemble of electrons therefore is proportional to the velocitiy weighted Gaunt factor.\n",
    "$$\\epsilon_{\\nu,ff} = \\frac{1}{2\\pi}\\frac{2^5 Z^2 e^6}{3 \\sqrt{3} m^2 c^3}N_i N_e \\frac{\\int_{h\\nu}^{\\infty}g(E, \\nu) e^{-E / k T} dE}{\\int_{0}^{\\infty}\\sqrt{E} e^{-E / k T} dE} = \\frac{1}{2\\pi}\\frac{2^5 Z^2 e^6}{3 m c^3}N_i N_e \\bigg(\\frac{2\\pi}{3 k T m}\\bigg)^{1/2} e^{-h \\nu / k T} \\bar{g}_{ff}$$"
   ]
  },
  {
   "cell_type": "markdown",
   "metadata": {},
   "source": [
    "I am putting emissivity in cgs units."
   ]
  },
  {
   "cell_type": "code",
   "execution_count": 234,
   "metadata": {
    "ExecuteTime": {
     "end_time": "2018-02-27T09:02:23.760030Z",
     "start_time": "2018-02-27T09:02:23.745704Z"
    },
    "collapsed": true
   },
   "outputs": [],
   "source": [
    "def emissivity_free_free(Z, Ni, Ne, T, nu):\n",
    "    \"\"\"calculate emissivity of free free emission\n",
    "    \n",
    "    Arguments:\n",
    "    Z    : ion charge, int\n",
    "    Ni   : ion density, in cm^-3\n",
    "    Ne   : electron density, in cm^-3\n",
    "    T    : temperature of electrons, in K\n",
    "    nu   : frequency, in Hz\n",
    "    \"\"\"\n",
    "    T_Ha = T * 3.16680853419133e-6\n",
    "    hnu_Ha = nu * 1.519828500715e-16\n",
    "    \n",
    "    term = scipy.integrate.quad(lambda x:np.exp(-x/T_Ha) * gaunt_free_free(Z, fsc*(2*(x-hnu_Ha))**.5, hnu_Ha), hnu_Ha, np.inf)[0]\n",
    "    term /= scipy.integrate.quad(lambda x: x**.5 * np.exp(-x/T_Ha), 0, np.inf)[0]\n",
    "    # the exponential is folded into the numerator\n",
    "    \n",
    "    prefactor = 2**5 * np.pi * Z**2 * e_e**6 / 3 / m_e / c**3\n",
    "    temp2 = (2 * np.pi / 3 /k/m_e/T)**.5\n",
    "    return Ni*Ne*prefactor*temp2*term"
   ]
  },
  {
   "cell_type": "code",
   "execution_count": 235,
   "metadata": {
    "ExecuteTime": {
     "end_time": "2018-02-27T09:02:33.946952Z",
     "start_time": "2018-02-27T09:02:27.910932Z"
    }
   },
   "outputs": [],
   "source": [
    "test = []\n",
    "for nu in np.logspace(np.log10(3e13),np.log10(3e15),20):\n",
    "    test.append(nu * emissivity_free_free(1, 1, 1, 10000, nu))"
   ]
  },
  {
   "cell_type": "code",
   "execution_count": 237,
   "metadata": {
    "ExecuteTime": {
     "end_time": "2018-02-27T09:03:00.211717Z",
     "start_time": "2018-02-27T09:02:59.865453Z"
    }
   },
   "outputs": [
    {
     "data": {
      "text/plain": [
       "<matplotlib.text.Text at 0x11dac2f60>"
      ]
     },
     "execution_count": 237,
     "metadata": {},
     "output_type": "execute_result"
    },
    {
     "data": {
      "image/png": "[encoded data removed]",
      "text/plain": [
       "<matplotlib.figure.Figure at 0x11d626860>"
      ]
     },
     "metadata": {},
     "output_type": "display_data"
    }
   ],
   "source": [
    "plt.loglog(3e14/np.logspace(np.log10(3e13),np.log10(3e15),20), np.array(test))\n",
    "plt.ylim(1e-26,1e-23)\n",
    "plt.ylabel(r'\\nu \\gamma_{\\nu} (erg cm^{-3}s^{-1})')\n",
    "plt.xlabel('Wavelength (micron)')"
   ]
  },
  {
   "cell_type": "code",
   "execution_count": 216,
   "metadata": {
    "ExecuteTime": {
     "end_time": "2018-02-27T08:19:44.090632Z",
     "start_time": "2018-02-27T08:19:39.091350Z"
    },
    "scrolled": false
   },
   "outputs": [],
   "source": [
    "Z = 1.0\n",
    "energies = np.logspace(-5,8,101) # Ry\n",
    "velocities = np.sqrt(energies*fsc**2) # Ha\n",
    "photon_energies = np.logspace(-6,8, 15) # Ry\n",
    "\n",
    "gff1 = [[gaunt_free_free(Z, v, photon_energy) for v in velocities] for photon_energy in photon_energies]\n"
   ]
  },
  {
   "cell_type": "code",
   "execution_count": 217,
   "metadata": {
    "ExecuteTime": {
     "end_time": "2018-02-27T08:19:44.449531Z",
     "start_time": "2018-02-27T08:19:44.092257Z"
    },
    "scrolled": true
   },
   "outputs": [
    {
     "data": {
      "text/plain": [
       "(1e-05, 10000000.0)"
      ]
     },
     "execution_count": 217,
     "metadata": {},
     "output_type": "execute_result"
    },
    {
     "data": {
      "image/png": "[encoded data removed]",
      "text/plain": [
       "<matplotlib.figure.Figure at 0x11deb8d68>"
      ]
     },
     "metadata": {},
     "output_type": "display_data"
    }
   ],
   "source": [
    "[plt.loglog(energies, gff1[i],'k') for i in range(len(photon_energies))]\n",
    "plt.xlabel(r'log E_i/Z^2 Ry')\n",
    "plt.ylabel(r'g_{ff}')\n",
    "plt.ylim(1e-4,10)\n",
    "plt.xlim(1e-5,1e7)"
   ]
  },
  {
   "cell_type": "code",
   "execution_count": 218,
   "metadata": {
    "ExecuteTime": {
     "end_time": "2018-02-27T08:19:55.041609Z",
     "start_time": "2018-02-27T08:19:50.220727Z"
    },
    "collapsed": true
   },
   "outputs": [],
   "source": [
    "Z = 1.0\n",
    "energies = np.logspace(-5,8,14) # Ry\n",
    "velocities = np.sqrt(energies*fsc**2) # Ha\n",
    "photon_energies = np.logspace(-6,8, 101) # Ry\n",
    "\n",
    "gff2 = [[gaunt_free_free(Z, v, photon_energy/2.) for photon_energy in photon_energies] for v in velocities]"
   ]
  },
  {
   "cell_type": "code",
   "execution_count": 219,
   "metadata": {
    "ExecuteTime": {
     "end_time": "2018-02-27T08:19:55.410495Z",
     "start_time": "2018-02-27T08:19:55.043323Z"
    }
   },
   "outputs": [
    {
     "data": {
      "text/plain": [
       "(1e-05, 100000000.0)"
      ]
     },
     "execution_count": 219,
     "metadata": {},
     "output_type": "execute_result"
    },
    {
     "data": {
      "image/png": "[encoded data removed]",
      "text/plain": [
       "<matplotlib.figure.Figure at 0x11d5515c0>"
      ]
     },
     "metadata": {},
     "output_type": "display_data"
    }
   ],
   "source": [
    "[plt.loglog(photon_energies, gff2[i],'k') for i in range(len(velocities))]\n",
    "plt.xlabel(r'log h \\nu / Z^2 Ry')\n",
    "plt.ylabel(r'g_{ff}')\n",
    "plt.ylim(1e-4,9)\n",
    "plt.xlim(1e-5,1e8)"
   ]
  },
  {
   "cell_type": "code",
   "execution_count": 227,
   "metadata": {
    "ExecuteTime": {
     "end_time": "2018-02-27T08:22:24.424503Z",
     "start_time": "2018-02-27T08:22:24.300170Z"
    }
   },
   "outputs": [
    {
     "data": {
      "text/plain": [
       "<matplotlib.image.AxesImage at 0x11db248d0>"
      ]
     },
     "execution_count": 227,
     "metadata": {},
     "output_type": "execute_result"
    },
    {
     "data": {
      "image/png": "[encoded data removed]",
      "text/plain": [
       "<matplotlib.figure.Figure at 0x11dac0550>"
      ]
     },
     "metadata": {},
     "output_type": "display_data"
    }
   ],
   "source": [
    "plt.imshow(np.log10(np.asarray(gff2, dtype=float)))"
   ]
  },
  {
   "cell_type": "code",
   "execution_count": 32,
   "metadata": {
    "ExecuteTime": {
     "end_time": "2018-02-22T04:40:25.120259Z",
     "start_time": "2018-02-22T04:36:18.257649Z"
    }
   },
   "outputs": [
    {
     "name": "stderr",
     "output_type": "stream",
     "text": [
      "/Users/Briesemeister/anaconda3/lib/python3.5/site-packages/scipy/integrate/quadpack.py:364: IntegrationWarning: The integral is probably divergent, or slowly convergent.\n",
      "  warnings.warn(msg, IntegrationWarning)\n"
     ]
    }
   ],
   "source": [
    "l_nm = np.logspace(-4,2,100)\n",
    "\n",
    "# Determine energy range.\n",
    "energies_eV = 1239.8/l_nm\n",
    "energies_Ha = energies_eV/27.2\n",
    "\n",
    "Ha_to_eV = 27.2\n",
    "T = np.logspace(1,5,5)\n",
    "spectra_eV = [free_free_thermal_spectrum(1.0, t/Ha_to_eV, energies_Ha) for t in T]\n",
    "\n",
    "### Convert to wavelength spectrum.\n",
    "spectra_nm = [spectrum_eV / l_nm**2 for spectrum_eV in spectra_eV]\n",
    "outdata = spectra_nm\n"
   ]
  },
  {
   "cell_type": "code",
   "execution_count": 33,
   "metadata": {
    "ExecuteTime": {
     "end_time": "2018-02-22T04:43:17.678485Z",
     "start_time": "2018-02-22T04:43:17.244917Z"
    }
   },
   "outputs": [
    {
     "data": {
      "image/png": "[encoded data removed]",
      "text/plain": [
       "<matplotlib.figure.Figure at 0x11ced2198>"
      ]
     },
     "metadata": {},
     "output_type": "display_data"
    }
   ],
   "source": [
    "[plt.semilogx(l_nm,spectra_nm[i] ) for i in range(len(spectra_nm))];"
   ]
  },
  {
   "cell_type": "code",
   "execution_count": 34,
   "metadata": {
    "ExecuteTime": {
     "end_time": "2018-02-22T04:43:19.476659Z",
     "start_time": "2018-02-22T04:43:19.147541Z"
    }
   },
   "outputs": [
    {
     "data": {
      "image/png": "[encoded data removed]",
      "text/plain": [
       "<matplotlib.figure.Figure at 0x11d092cc0>"
      ]
     },
     "metadata": {},
     "output_type": "display_data"
    }
   ],
   "source": [
    "[plt.semilogx(energies_eV,spectra_nm[i]/spectra_nm[i].max() ) for i in range(len(spectra_nm))];"
   ]
  },
  {
   "cell_type": "code",
   "execution_count": 175,
   "metadata": {
    "ExecuteTime": {
     "end_time": "2018-02-23T06:27:33.147645Z",
     "start_time": "2018-02-23T06:24:41.315247Z"
    }
   },
   "outputs": [
    {
     "name": "stderr",
     "output_type": "stream",
     "text": [
      "/Users/Briesemeister/anaconda3/lib/python3.5/site-packages/scipy/integrate/quadpack.py:364: IntegrationWarning: The integral is probably divergent, or slowly convergent.\n",
      "  warnings.warn(msg, IntegrationWarning)\n"
     ]
    }
   ],
   "source": [
    "import numpy as np\n",
    "l_nm1 = np.logspace(-4,2,100)\n",
    "\n",
    "# Determine energy range.\n",
    "energies_eV1 = 1239.8/l_nm1\n",
    "energies_Ha1 = energies_eV1/27.2\n",
    "\n",
    "Ha_to_eV1 = 27.2\n",
    "T1 = [4e5]#np.linspace(10,50,41)\n",
    "spectra_eV1 = [free_free_thermal_spectrum(1.0, t/Ha_to_eV1, energies_Ha1) for t in T1]\n",
    "\n",
    "### Convert to wavelength spectrum.\n",
    "spectra_nm1 = [spectrum_eV / l_nm1**2 for spectrum_eV in spectra_eV1]\n",
    "outdata1 = spectra_nm1\n"
   ]
  },
  {
   "cell_type": "code",
   "execution_count": 178,
   "metadata": {
    "ExecuteTime": {
     "end_time": "2018-02-23T06:28:12.254554Z",
     "start_time": "2018-02-23T06:28:11.859895Z"
    }
   },
   "outputs": [
    {
     "data": {
      "text/plain": [
       "[[<matplotlib.lines.Line2D at 0x11d6b8940>]]"
      ]
     },
     "execution_count": 178,
     "metadata": {},
     "output_type": "execute_result"
    },
    {
     "data": {
      "image/png": "[encoded data removed]",
      "text/plain": [
       "<matplotlib.figure.Figure at 0x11d6019e8>"
      ]
     },
     "metadata": {},
     "output_type": "display_data"
    }
   ],
   "source": [
    "[plt.loglog(energies_eV1/1000,spectra_nm1[i]) for i in range(len(spectra_nm1))]"
   ]
  },
  {
   "cell_type": "code",
   "execution_count": null,
   "metadata": {
    "collapsed": true
   },
   "outputs": [],
   "source": []
  },
  {
   "cell_type": "code",
   "execution_count": 183,
   "metadata": {
    "ExecuteTime": {
     "end_time": "2018-02-22T08:46:58.652628Z",
     "start_time": "2018-02-22T08:46:58.648313Z"
    },
    "collapsed": true
   },
   "outputs": [],
   "source": [
    "import functools"
   ]
  },
  {
   "cell_type": "code",
   "execution_count": 202,
   "metadata": {
    "ExecuteTime": {
     "end_time": "2018-02-22T19:01:39.096100Z",
     "start_time": "2018-02-22T19:01:38.939384Z"
    },
    "collapsed": true
   },
   "outputs": [],
   "source": [
    "def G_l(eta_i, eta_f, k_i, k_f, l, cut=10):\n",
    "    x = -4.*eta_i*eta_f/(eta_i-eta_f)**2\n",
    "    if abs(x)< 1:\n",
    "        g = 0\n",
    "        for i in range(cut):\n",
    "            g += a_reg(eta_i, eta_f, l, i) * x ** i\n",
    "        return g\n",
    "    else:\n",
    "        y = -1/x\n",
    "        A = 0\n",
    "        B = 0\n",
    "        lam = (eta_i - eta_f) / 2\n",
    "        for i in range(cut):\n",
    "            a,b = continued(eta_i, eta_f, l, i, lam)\n",
    "            A += a * y ** i \n",
    "            B += b * y ** i\n",
    "        out = y **(l+1) * (np.cos(lam * np.log(y)) * A + np.sin(lam * np.log(y))*B)\n",
    "        return out\n",
    "@functools.lru_cache(maxsize=128)    \n",
    "def a_reg(eta_i, eta_f, l, n):\n",
    "    if n < 0:\n",
    "        return 0\n",
    "    if n == 0:\n",
    "        return 1\n",
    "    if n == 1:\n",
    "        return ((l+1)**2 - eta_i*eta_f)/(2*l + 2)\n",
    "\n",
    "    aregnminus1 = a_reg(eta_i, eta_f, l, n-1)\n",
    "    aregnminus2 = a_reg(eta_i, eta_f, l, n-2)\n",
    "    temp1 = 1/n/(2*l + 1 + n)\n",
    "    temp2 = aregnminus1*((n-1)*(2*n + 4*l + 1) + (l+1)**2 - eta_i*eta_f)\n",
    "    temp3 = aregnminus2*((n-2)*(n + 2*l) + (l+1)**2 + eta_i*eta_f/2)**2\n",
    "    return temp1 * (temp2 - temp3)\n",
    "@functools.lru_cache(maxsize=128)\n",
    "def continued(eta_i, eta_f, l, n, lam):\n",
    "    if n < 0:\n",
    "        return 0, 0\n",
    "    if n == 0:\n",
    "        new = gamma(2*l + 2) * gamma(1j*eta_f - 1j*eta_i) / gamma(l+1-1j*eta_i)/gamma(l + 1 + 1j*eta_f)\n",
    "        return 2 * new.real, -2*new.imag\n",
    "    else:\n",
    "        anminus1, bnminus1 = continued(eta_i, eta_f, l, n-1, lam)\n",
    "        anminus2, bnminus2 = continued(eta_i, eta_f, l, n-2, lam)\n",
    "        alpha = l*(l+1) + 2*lam**2 + eta_i*eta_f\n",
    "        beta = l*(l+1) + lam**2\n",
    "        \n",
    "        prefactor = 1 / n/(4*lam**2 + n**2)\n",
    "        \n",
    "        tempa = - lam * (3 * n -2+2*alpha)*bnminus1 - lam*(3*n-4+2*beta)*bnminus2\n",
    "        tempa += (n*alpha - n*(n-1)*(2*n-1) - 2*lam**2*(4*n-3))*anminus1\n",
    "        tempa += (n*beta - n*(n-1)*(n-2) - 2*lam**2*(2*n-3))*anminus2\n",
    "        \n",
    "        tempb = lam * (3 * n -2+2*alpha)*anminus1 + lam*(3*n-4+2*beta)*anminus2\n",
    "        tempb += (n*alpha - n*(n-1)*(2*n-1) - 2*lam**2*(4*n-3))*bnminus1\n",
    "        tempb += (n*beta - n*(n-1)*(n-2) - 2*lam**2*(2*n-3))*bnminus2 \n",
    "        \n",
    "        return prefactor * tempa, prefactor * tempb"
   ]
  },
  {
   "cell_type": "code",
   "execution_count": 127,
   "metadata": {
    "ExecuteTime": {
     "end_time": "2018-02-23T05:53:21.523989Z",
     "start_time": "2018-02-23T05:53:21.519974Z"
    },
    "collapsed": true
   },
   "outputs": [],
   "source": [
    "h = constants.value('Planck constant') * 1e7 #in ergs s\n",
    "c = constants.c * 1.e2 # in cm/s\n",
    "e_e = 4.80320451e-10 #in statcoulomb\n",
    "m_e = constants.electron_mass * 1e3 # in g\n",
    "Ry_in_erg = constants.value('Rydberg constant times hc in J') * 1.e7 #in ergs\n"
   ]
  },
  {
   "cell_type": "code",
   "execution_count": 160,
   "metadata": {
    "ExecuteTime": {
     "end_time": "2018-02-23T06:13:19.169799Z",
     "start_time": "2018-02-23T06:13:19.157022Z"
    },
    "collapsed": true
   },
   "outputs": [],
   "source": [
    "def gff_helper(Z, Ei, Ef):\n",
    "    \n",
    "    eta_i = Z * (Ry_in_erg / Ei)**.5\n",
    "    k_i = Z / eta_i / aB_in_cm\n",
    "    eta_f = Z * (Ry_in_erg / Ef)**.5\n",
    "    k_f = Z / eta_f / aB_in_cm\n",
    "    print(eta_i**-2 - eta_f**-2)\n",
    "    I0 = I(eta_i, eta_f, k_i, k_f, 0)\n",
    "    I1 = I(eta_i, eta_f, k_i, k_f, 1)\n",
    "    \n",
    "    out = 2*3**.5/np.pi/eta_i/eta_f * I0\n",
    "    out *=((eta_i**2 + eta_f**2 + 2*eta_i**2*eta_f**2)*I0 - 2 * eta_i * eta_f * (1 + eta_i**2)**.5*(1+eta_f**2)**.5*I1)\n",
    "\n",
    "    return out.real\n",
    "\n",
    "def gff_emit(Z, beta, E):\n",
    "    "
   ]
  },
  {
   "cell_type": "code",
   "execution_count": 161,
   "metadata": {
    "ExecuteTime": {
     "end_time": "2018-02-23T06:13:19.687996Z",
     "start_time": "2018-02-23T06:13:19.684216Z"
    }
   },
   "outputs": [
    {
     "name": "stdout",
     "output_type": "stream",
     "text": [
      "5.2917721067e-09\n"
     ]
    }
   ],
   "source": [
    "aB_in_cm = constants.value('Bohr radius')*100.0\n",
    "print(aB_in_cm)"
   ]
  },
  {
   "cell_type": "code",
   "execution_count": 162,
   "metadata": {
    "ExecuteTime": {
     "end_time": "2018-02-23T06:13:20.213373Z",
     "start_time": "2018-02-23T06:13:20.204323Z"
    }
   },
   "outputs": [
    {
     "name": "stdout",
     "output_type": "stream",
     "text": [
      "-0.030396596919959662\n"
     ]
    },
    {
     "data": {
      "text/plain": [
       "mpf('2.4146768611489153')"
      ]
     },
     "execution_count": 162,
     "metadata": {},
     "output_type": "execute_result"
    }
   ],
   "source": [
    "gaunt_free_free1(1, Ry_in_erg - h * 1e14, Ry_in_erg)"
   ]
  },
  {
   "cell_type": "code",
   "execution_count": 163,
   "metadata": {
    "ExecuteTime": {
     "end_time": "2018-02-23T06:13:21.477422Z",
     "start_time": "2018-02-23T06:13:21.468514Z"
    }
   },
   "outputs": [
    {
     "name": "stdout",
     "output_type": "stream",
     "text": [
      "-0.03039659691995955\n"
     ]
    },
    {
     "data": {
      "text/plain": [
       "mpf('2.434515166329962')"
      ]
     },
     "execution_count": 163,
     "metadata": {},
     "output_type": "execute_result"
    }
   ],
   "source": [
    "gaunt_free_free1(1, Ry_in_erg , Ry_in_erg + h * 1e14)"
   ]
  },
  {
   "cell_type": "markdown",
   "metadata": {},
   "source": [
    "$$(Ry/E)^{1/2}a_0 = 1 / k$$"
   ]
  },
  {
   "cell_type": "code",
   "execution_count": null,
   "metadata": {
    "collapsed": true
   },
   "outputs": [],
   "source": []
  },
  {
   "cell_type": "code",
   "execution_count": null,
   "metadata": {
    "ExecuteTime": {
     "end_time": "2018-02-23T05:06:11.061261Z",
     "start_time": "2018-02-23T05:06:08.173Z"
    },
    "collapsed": true
   },
   "outputs": [],
   "source": [
    "import scipy.integrate"
   ]
  },
  {
   "cell_type": "code",
   "execution_count": 45,
   "metadata": {
    "ExecuteTime": {
     "end_time": "2018-02-22T23:14:13.695820Z",
     "start_time": "2018-02-22T23:14:13.671056Z"
    },
    "collapsed": true
   },
   "outputs": [],
   "source": [
    "hb = constants.hbar * 1e7 #in ergs s\n",
    "c = constants.c * 1.e2 # in cm/s\n",
    "e_e = 4.80320451e-10 #in statcoulomb\n",
    "m_e = constants.electron_mass * 1e3 # in g\n",
    "\n",
    "def gff_ug(x, u, gamma2, Z):\n",
    "    \n",
    "    eta_i = (gamma2 / x)**.5\n",
    "    k_i = Z * m_e * e_e**2 / hb**2 / eta_i\n",
    "    eta_f = (x / gamma2 + u / gamma2)**(-2)\n",
    "    k_f = Z * m_e * e_e**2 / hb**2 / eta_f\n",
    "\n",
    "    if k_i == k_f:\n",
    "        return 0\n",
    "\n",
    "    I0 = I(eta_i, eta_f, k_i, k_f, 0)\n",
    "    I1 = I(eta_i, eta_f, k_i, k_f, 1)\n",
    "    \n",
    "    out = 2*3**.5/np.pi/eta_i/eta_f * I0\n",
    "    out *=((eta_i**2 + eta_f**2 + 2*eta_i**2*eta_f**2)*I0 - 2 * eta_i * eta_f * (1 + eta_i**2)**.5*(1+eta_f**2)**.5*I1)\n",
    "    return out.real\n",
    "\n",
    "def gff(u, gamma2, Z):\n",
    "    return scipy.integrate.quad(lambda x: np.exp(-x) * gff_ug(x, u, gamma2, Z), 0, np.inf)[0]"
   ]
  },
  {
   "cell_type": "code",
   "execution_count": 46,
   "metadata": {
    "ExecuteTime": {
     "end_time": "2018-02-22T23:14:29.569639Z",
     "start_time": "2018-02-22T23:14:16.069689Z"
    }
   },
   "outputs": [
    {
     "name": "stderr",
     "output_type": "stream",
     "text": [
      "/Users/Briesemeister/anaconda3/lib/python3.5/site-packages/scipy/integrate/quadpack.py:364: IntegrationWarning: The maximum number of subdivisions (50) has been achieved.\n",
      "  If increasing the limit yields no improvement it is advised to analyze \n",
      "  the integrand in order to determine the difficulties.  If the position of a \n",
      "  local difficulty can be determined (singularity, discontinuity) one will \n",
      "  probably gain from splitting up the interval and calling the integrator \n",
      "  on the subranges.  Perhaps a special-purpose integrator should be used.\n",
      "  warnings.warn(msg, IntegrationWarning)\n",
      "/Users/Briesemeister/anaconda3/lib/python3.5/site-packages/ipykernel/__main__.py:15: RuntimeWarning: overflow encountered in exp\n"
     ]
    },
    {
     "ename": "NoConvergence",
     "evalue": "Hypergeometric series converges too slowly. Try increasing maxterms.",
     "output_type": "error",
     "traceback": [
      "\u001b[0;31m---------------------------------------------------------------------------\u001b[0m",
      "\u001b[0;31mNoConvergence\u001b[0m                             Traceback (most recent call last)",
      "\u001b[0;32m<ipython-input-46-2350eeb15273>\u001b[0m in \u001b[0;36m<module>\u001b[0;34m()\u001b[0m\n\u001b[1;32m      1\u001b[0m \u001b[0mtest\u001b[0m \u001b[0;34m=\u001b[0m \u001b[0;34m[\u001b[0m\u001b[0;34m]\u001b[0m\u001b[0;34m\u001b[0m\u001b[0m\n\u001b[1;32m      2\u001b[0m \u001b[0;32mfor\u001b[0m \u001b[0mi\u001b[0m \u001b[0;32min\u001b[0m \u001b[0mnp\u001b[0m\u001b[0;34m.\u001b[0m\u001b[0mlogspace\u001b[0m\u001b[0;34m(\u001b[0m\u001b[0;34m-\u001b[0m\u001b[0;36m3\u001b[0m\u001b[0;34m,\u001b[0m\u001b[0;36m3\u001b[0m\u001b[0;34m,\u001b[0m\u001b[0;36m10\u001b[0m\u001b[0;34m)\u001b[0m\u001b[0;34m:\u001b[0m\u001b[0;34m\u001b[0m\u001b[0m\n\u001b[0;32m----> 3\u001b[0;31m     \u001b[0mtest\u001b[0m\u001b[0;34m.\u001b[0m\u001b[0mappend\u001b[0m\u001b[0;34m(\u001b[0m\u001b[0mgff\u001b[0m\u001b[0;34m(\u001b[0m\u001b[0;36m1\u001b[0m\u001b[0;34m,\u001b[0m\u001b[0mi\u001b[0m\u001b[0;34m,\u001b[0m \u001b[0;36m1\u001b[0m\u001b[0;34m)\u001b[0m\u001b[0;34m)\u001b[0m\u001b[0;34m\u001b[0m\u001b[0m\n\u001b[0m",
      "\u001b[0;32m<ipython-input-45-143c8de6d747>\u001b[0m in \u001b[0;36mgff\u001b[0;34m(u, gamma2, Z)\u001b[0m\n\u001b[1;32m     22\u001b[0m \u001b[0;34m\u001b[0m\u001b[0m\n\u001b[1;32m     23\u001b[0m \u001b[0;32mdef\u001b[0m \u001b[0mgff\u001b[0m\u001b[0;34m(\u001b[0m\u001b[0mu\u001b[0m\u001b[0;34m,\u001b[0m \u001b[0mgamma2\u001b[0m\u001b[0;34m,\u001b[0m \u001b[0mZ\u001b[0m\u001b[0;34m)\u001b[0m\u001b[0;34m:\u001b[0m\u001b[0;34m\u001b[0m\u001b[0m\n\u001b[0;32m---> 24\u001b[0;31m     \u001b[0;32mreturn\u001b[0m \u001b[0mscipy\u001b[0m\u001b[0;34m.\u001b[0m\u001b[0mintegrate\u001b[0m\u001b[0;34m.\u001b[0m\u001b[0mquad\u001b[0m\u001b[0;34m(\u001b[0m\u001b[0;32mlambda\u001b[0m \u001b[0mx\u001b[0m\u001b[0;34m:\u001b[0m \u001b[0mnp\u001b[0m\u001b[0;34m.\u001b[0m\u001b[0mexp\u001b[0m\u001b[0;34m(\u001b[0m\u001b[0;34m-\u001b[0m\u001b[0mx\u001b[0m\u001b[0;34m)\u001b[0m \u001b[0;34m*\u001b[0m \u001b[0mgff_ug\u001b[0m\u001b[0;34m(\u001b[0m\u001b[0mx\u001b[0m\u001b[0;34m,\u001b[0m \u001b[0mu\u001b[0m\u001b[0;34m,\u001b[0m \u001b[0mgamma2\u001b[0m\u001b[0;34m,\u001b[0m \u001b[0mZ\u001b[0m\u001b[0;34m)\u001b[0m\u001b[0;34m,\u001b[0m \u001b[0;36m0\u001b[0m\u001b[0;34m,\u001b[0m \u001b[0mnp\u001b[0m\u001b[0;34m.\u001b[0m\u001b[0minf\u001b[0m\u001b[0;34m)\u001b[0m\u001b[0;34m[\u001b[0m\u001b[0;36m0\u001b[0m\u001b[0;34m]\u001b[0m\u001b[0;34m\u001b[0m\u001b[0m\n\u001b[0m",
      "\u001b[0;32m~/anaconda3/lib/python3.5/site-packages/scipy/integrate/quadpack.py\u001b[0m in \u001b[0;36mquad\u001b[0;34m(func, a, b, args, full_output, epsabs, epsrel, limit, points, weight, wvar, wopts, maxp1, limlst)\u001b[0m\n\u001b[1;32m    321\u001b[0m     \u001b[0;32mif\u001b[0m \u001b[0;34m(\u001b[0m\u001b[0mweight\u001b[0m \u001b[0;32mis\u001b[0m \u001b[0;32mNone\u001b[0m\u001b[0;34m)\u001b[0m\u001b[0;34m:\u001b[0m\u001b[0;34m\u001b[0m\u001b[0m\n\u001b[1;32m    322\u001b[0m         retval = _quad(func, a, b, args, full_output, epsabs, epsrel, limit,\n\u001b[0;32m--> 323\u001b[0;31m                        points)\n\u001b[0m\u001b[1;32m    324\u001b[0m     \u001b[0;32melse\u001b[0m\u001b[0;34m:\u001b[0m\u001b[0;34m\u001b[0m\u001b[0m\n\u001b[1;32m    325\u001b[0m         retval = _quad_weight(func, a, b, args, full_output, epsabs, epsrel,\n",
      "\u001b[0;32m~/anaconda3/lib/python3.5/site-packages/scipy/integrate/quadpack.py\u001b[0m in \u001b[0;36m_quad\u001b[0;34m(func, a, b, args, full_output, epsabs, epsrel, limit, points)\u001b[0m\n\u001b[1;32m    388\u001b[0m             \u001b[0;32mreturn\u001b[0m \u001b[0m_quadpack\u001b[0m\u001b[0;34m.\u001b[0m\u001b[0m_qagse\u001b[0m\u001b[0;34m(\u001b[0m\u001b[0mfunc\u001b[0m\u001b[0;34m,\u001b[0m\u001b[0ma\u001b[0m\u001b[0;34m,\u001b[0m\u001b[0mb\u001b[0m\u001b[0;34m,\u001b[0m\u001b[0margs\u001b[0m\u001b[0;34m,\u001b[0m\u001b[0mfull_output\u001b[0m\u001b[0;34m,\u001b[0m\u001b[0mepsabs\u001b[0m\u001b[0;34m,\u001b[0m\u001b[0mepsrel\u001b[0m\u001b[0;34m,\u001b[0m\u001b[0mlimit\u001b[0m\u001b[0;34m)\u001b[0m\u001b[0;34m\u001b[0m\u001b[0m\n\u001b[1;32m    389\u001b[0m         \u001b[0;32melse\u001b[0m\u001b[0;34m:\u001b[0m\u001b[0;34m\u001b[0m\u001b[0m\n\u001b[0;32m--> 390\u001b[0;31m             \u001b[0;32mreturn\u001b[0m \u001b[0m_quadpack\u001b[0m\u001b[0;34m.\u001b[0m\u001b[0m_qagie\u001b[0m\u001b[0;34m(\u001b[0m\u001b[0mfunc\u001b[0m\u001b[0;34m,\u001b[0m\u001b[0mbound\u001b[0m\u001b[0;34m,\u001b[0m\u001b[0minfbounds\u001b[0m\u001b[0;34m,\u001b[0m\u001b[0margs\u001b[0m\u001b[0;34m,\u001b[0m\u001b[0mfull_output\u001b[0m\u001b[0;34m,\u001b[0m\u001b[0mepsabs\u001b[0m\u001b[0;34m,\u001b[0m\u001b[0mepsrel\u001b[0m\u001b[0;34m,\u001b[0m\u001b[0mlimit\u001b[0m\u001b[0;34m)\u001b[0m\u001b[0;34m\u001b[0m\u001b[0m\n\u001b[0m\u001b[1;32m    391\u001b[0m     \u001b[0;32melse\u001b[0m\u001b[0;34m:\u001b[0m\u001b[0;34m\u001b[0m\u001b[0m\n\u001b[1;32m    392\u001b[0m         \u001b[0;32mif\u001b[0m \u001b[0minfbounds\u001b[0m \u001b[0;34m!=\u001b[0m \u001b[0;36m0\u001b[0m\u001b[0;34m:\u001b[0m\u001b[0;34m\u001b[0m\u001b[0m\n",
      "\u001b[0;32m<ipython-input-45-143c8de6d747>\u001b[0m in \u001b[0;36m<lambda>\u001b[0;34m(x)\u001b[0m\n\u001b[1;32m     22\u001b[0m \u001b[0;34m\u001b[0m\u001b[0m\n\u001b[1;32m     23\u001b[0m \u001b[0;32mdef\u001b[0m \u001b[0mgff\u001b[0m\u001b[0;34m(\u001b[0m\u001b[0mu\u001b[0m\u001b[0;34m,\u001b[0m \u001b[0mgamma2\u001b[0m\u001b[0;34m,\u001b[0m \u001b[0mZ\u001b[0m\u001b[0;34m)\u001b[0m\u001b[0;34m:\u001b[0m\u001b[0;34m\u001b[0m\u001b[0m\n\u001b[0;32m---> 24\u001b[0;31m     \u001b[0;32mreturn\u001b[0m \u001b[0mscipy\u001b[0m\u001b[0;34m.\u001b[0m\u001b[0mintegrate\u001b[0m\u001b[0;34m.\u001b[0m\u001b[0mquad\u001b[0m\u001b[0;34m(\u001b[0m\u001b[0;32mlambda\u001b[0m \u001b[0mx\u001b[0m\u001b[0;34m:\u001b[0m \u001b[0mnp\u001b[0m\u001b[0;34m.\u001b[0m\u001b[0mexp\u001b[0m\u001b[0;34m(\u001b[0m\u001b[0;34m-\u001b[0m\u001b[0mx\u001b[0m\u001b[0;34m)\u001b[0m \u001b[0;34m*\u001b[0m \u001b[0mgff_ug\u001b[0m\u001b[0;34m(\u001b[0m\u001b[0mx\u001b[0m\u001b[0;34m,\u001b[0m \u001b[0mu\u001b[0m\u001b[0;34m,\u001b[0m \u001b[0mgamma2\u001b[0m\u001b[0;34m,\u001b[0m \u001b[0mZ\u001b[0m\u001b[0;34m)\u001b[0m\u001b[0;34m,\u001b[0m \u001b[0;36m0\u001b[0m\u001b[0;34m,\u001b[0m \u001b[0mnp\u001b[0m\u001b[0;34m.\u001b[0m\u001b[0minf\u001b[0m\u001b[0;34m)\u001b[0m\u001b[0;34m[\u001b[0m\u001b[0;36m0\u001b[0m\u001b[0;34m]\u001b[0m\u001b[0;34m\u001b[0m\u001b[0m\n\u001b[0m",
      "\u001b[0;32m<ipython-input-45-143c8de6d747>\u001b[0m in \u001b[0;36mgff_ug\u001b[0;34m(x, u, gamma2, Z)\u001b[0m\n\u001b[1;32m     14\u001b[0m         \u001b[0;32mreturn\u001b[0m \u001b[0;36m0\u001b[0m\u001b[0;34m\u001b[0m\u001b[0m\n\u001b[1;32m     15\u001b[0m \u001b[0;34m\u001b[0m\u001b[0m\n\u001b[0;32m---> 16\u001b[0;31m     \u001b[0mI0\u001b[0m \u001b[0;34m=\u001b[0m \u001b[0mI\u001b[0m\u001b[0;34m(\u001b[0m\u001b[0meta_i\u001b[0m\u001b[0;34m,\u001b[0m \u001b[0meta_f\u001b[0m\u001b[0;34m,\u001b[0m \u001b[0mk_i\u001b[0m\u001b[0;34m,\u001b[0m \u001b[0mk_f\u001b[0m\u001b[0;34m,\u001b[0m \u001b[0;36m0\u001b[0m\u001b[0;34m)\u001b[0m\u001b[0;34m\u001b[0m\u001b[0m\n\u001b[0m\u001b[1;32m     17\u001b[0m     \u001b[0mI1\u001b[0m \u001b[0;34m=\u001b[0m \u001b[0mI\u001b[0m\u001b[0;34m(\u001b[0m\u001b[0meta_i\u001b[0m\u001b[0;34m,\u001b[0m \u001b[0meta_f\u001b[0m\u001b[0;34m,\u001b[0m \u001b[0mk_i\u001b[0m\u001b[0;34m,\u001b[0m \u001b[0mk_f\u001b[0m\u001b[0;34m,\u001b[0m \u001b[0;36m1\u001b[0m\u001b[0;34m)\u001b[0m\u001b[0;34m\u001b[0m\u001b[0m\n\u001b[1;32m     18\u001b[0m \u001b[0;34m\u001b[0m\u001b[0m\n",
      "\u001b[0;32m<ipython-input-43-7761feb49587>\u001b[0m in \u001b[0;36mI\u001b[0;34m(eta_i, eta_f, k_i, k_f, l)\u001b[0m\n\u001b[1;32m     15\u001b[0m     \u001b[0mtemp2\u001b[0m \u001b[0;34m=\u001b[0m \u001b[0mnp\u001b[0m\u001b[0;34m.\u001b[0m\u001b[0mexp\u001b[0m\u001b[0;34m(\u001b[0m\u001b[0mnp\u001b[0m\u001b[0;34m.\u001b[0m\u001b[0mpi\u001b[0m\u001b[0;34m/\u001b[0m\u001b[0;36m2\u001b[0m\u001b[0;34m*\u001b[0m\u001b[0mabs\u001b[0m\u001b[0;34m(\u001b[0m\u001b[0meta_i\u001b[0m \u001b[0;34m-\u001b[0m \u001b[0meta_f\u001b[0m\u001b[0;34m)\u001b[0m\u001b[0;34m)\u001b[0m\u001b[0;34m\u001b[0m\u001b[0m\n\u001b[1;32m     16\u001b[0m     \u001b[0mtemp3\u001b[0m \u001b[0;34m=\u001b[0m \u001b[0mabs\u001b[0m\u001b[0;34m(\u001b[0m\u001b[0mgamma\u001b[0m\u001b[0;34m(\u001b[0m\u001b[0ml\u001b[0m\u001b[0;34m+\u001b[0m\u001b[0;36m1\u001b[0m\u001b[0;34m+\u001b[0m\u001b[0;36m1j\u001b[0m\u001b[0;34m*\u001b[0m\u001b[0meta_i\u001b[0m\u001b[0;34m)\u001b[0m \u001b[0;34m*\u001b[0m \u001b[0mgamma\u001b[0m\u001b[0;34m(\u001b[0m\u001b[0ml\u001b[0m\u001b[0;34m+\u001b[0m\u001b[0;36m1\u001b[0m\u001b[0;34m+\u001b[0m\u001b[0;36m1j\u001b[0m\u001b[0;34m*\u001b[0m\u001b[0meta_f\u001b[0m\u001b[0;34m)\u001b[0m\u001b[0;34m)\u001b[0m \u001b[0;34m/\u001b[0m \u001b[0mgamma\u001b[0m\u001b[0;34m(\u001b[0m\u001b[0;36m2.\u001b[0m\u001b[0;34m*\u001b[0m\u001b[0ml\u001b[0m \u001b[0;34m+\u001b[0m \u001b[0;36m2\u001b[0m\u001b[0;34m)\u001b[0m\u001b[0;34m\u001b[0m\u001b[0m\n\u001b[0;32m---> 17\u001b[0;31m     \u001b[0;32mreturn\u001b[0m \u001b[0mtemp1\u001b[0m \u001b[0;34m*\u001b[0m \u001b[0mtemp2\u001b[0m \u001b[0;34m*\u001b[0m \u001b[0mtemp3\u001b[0m \u001b[0;34m*\u001b[0m\u001b[0mG\u001b[0m\u001b[0;34m(\u001b[0m\u001b[0meta_i\u001b[0m\u001b[0;34m,\u001b[0m \u001b[0meta_f\u001b[0m\u001b[0;34m,\u001b[0m \u001b[0mk_i\u001b[0m\u001b[0;34m,\u001b[0m \u001b[0mk_f\u001b[0m\u001b[0;34m,\u001b[0m \u001b[0ml\u001b[0m\u001b[0;34m)\u001b[0m\u001b[0;34m\u001b[0m\u001b[0m\n\u001b[0m\u001b[1;32m     18\u001b[0m \u001b[0;34m\u001b[0m\u001b[0m\n\u001b[1;32m     19\u001b[0m \u001b[0;32mdef\u001b[0m \u001b[0mG\u001b[0m\u001b[0;34m(\u001b[0m\u001b[0meta_i\u001b[0m\u001b[0;34m,\u001b[0m \u001b[0meta_f\u001b[0m\u001b[0;34m,\u001b[0m \u001b[0mk_i\u001b[0m\u001b[0;34m,\u001b[0m \u001b[0mk_f\u001b[0m\u001b[0;34m,\u001b[0m \u001b[0ml\u001b[0m\u001b[0;34m)\u001b[0m\u001b[0;34m:\u001b[0m\u001b[0;34m\u001b[0m\u001b[0m\n",
      "\u001b[0;32m<ipython-input-43-7761feb49587>\u001b[0m in \u001b[0;36mG\u001b[0;34m(eta_i, eta_f, k_i, k_f, l)\u001b[0m\n\u001b[1;32m     43\u001b[0m                    \u001b[0ml\u001b[0m\u001b[0;34m+\u001b[0m\u001b[0;36m1\u001b[0m\u001b[0;34m-\u001b[0m\u001b[0;36m1j\u001b[0m\u001b[0;34m*\u001b[0m\u001b[0meta_i\u001b[0m\u001b[0;34m,\u001b[0m\u001b[0;34m\u001b[0m\u001b[0m\n\u001b[1;32m     44\u001b[0m                    \u001b[0;36m2.\u001b[0m\u001b[0;34m*\u001b[0m\u001b[0ml\u001b[0m\u001b[0;34m+\u001b[0m\u001b[0;36m2\u001b[0m\u001b[0;34m,\u001b[0m\u001b[0;34m\u001b[0m\u001b[0m\n\u001b[0;32m---> 45\u001b[0;31m                    -4.*k_i*k_f/(k_i-k_f)**2)\n\u001b[0m\u001b[1;32m     46\u001b[0m \u001b[0;34m\u001b[0m\u001b[0m\n\u001b[1;32m     47\u001b[0m     \u001b[0;32mreturn\u001b[0m \u001b[0;34m(\u001b[0m\u001b[0mtemp1\u001b[0m \u001b[0;34m*\u001b[0m \u001b[0mtemp2\u001b[0m\u001b[0;34m)\u001b[0m\u001b[0;34m.\u001b[0m\u001b[0mreal\u001b[0m\u001b[0;34m\u001b[0m\u001b[0m\n",
      "\u001b[0;32m~/anaconda3/lib/python3.5/site-packages/mpmath/functions/hypergeometric.py\u001b[0m in \u001b[0;36mhyp2f1\u001b[0;34m(ctx, a, b, c, z, **kwargs)\u001b[0m\n\u001b[1;32m    248\u001b[0m \u001b[0;34m@\u001b[0m\u001b[0mdefun\u001b[0m\u001b[0;34m\u001b[0m\u001b[0m\n\u001b[1;32m    249\u001b[0m \u001b[0;32mdef\u001b[0m \u001b[0mhyp2f1\u001b[0m\u001b[0;34m(\u001b[0m\u001b[0mctx\u001b[0m\u001b[0;34m,\u001b[0m\u001b[0ma\u001b[0m\u001b[0;34m,\u001b[0m\u001b[0mb\u001b[0m\u001b[0;34m,\u001b[0m\u001b[0mc\u001b[0m\u001b[0;34m,\u001b[0m\u001b[0mz\u001b[0m\u001b[0;34m,\u001b[0m\u001b[0;34m**\u001b[0m\u001b[0mkwargs\u001b[0m\u001b[0;34m)\u001b[0m\u001b[0;34m:\u001b[0m\u001b[0;34m\u001b[0m\u001b[0m\n\u001b[0;32m--> 250\u001b[0;31m     \u001b[0;32mreturn\u001b[0m \u001b[0mctx\u001b[0m\u001b[0;34m.\u001b[0m\u001b[0mhyper\u001b[0m\u001b[0;34m(\u001b[0m\u001b[0;34m[\u001b[0m\u001b[0ma\u001b[0m\u001b[0;34m,\u001b[0m\u001b[0mb\u001b[0m\u001b[0;34m]\u001b[0m\u001b[0;34m,\u001b[0m\u001b[0;34m[\u001b[0m\u001b[0mc\u001b[0m\u001b[0;34m]\u001b[0m\u001b[0;34m,\u001b[0m\u001b[0mz\u001b[0m\u001b[0;34m,\u001b[0m\u001b[0;34m**\u001b[0m\u001b[0mkwargs\u001b[0m\u001b[0;34m)\u001b[0m\u001b[0;34m\u001b[0m\u001b[0m\n\u001b[0m\u001b[1;32m    251\u001b[0m \u001b[0;34m\u001b[0m\u001b[0m\n\u001b[1;32m    252\u001b[0m \u001b[0;34m@\u001b[0m\u001b[0mdefun\u001b[0m\u001b[0;34m\u001b[0m\u001b[0m\n",
      "\u001b[0;32m~/anaconda3/lib/python3.5/site-packages/mpmath/functions/hypergeometric.py\u001b[0m in \u001b[0;36mhyper\u001b[0;34m(ctx, a_s, b_s, z, **kwargs)\u001b[0m\n\u001b[1;32m    223\u001b[0m         \u001b[0;32melif\u001b[0m \u001b[0mq\u001b[0m \u001b[0;34m==\u001b[0m \u001b[0;36m0\u001b[0m\u001b[0;34m:\u001b[0m \u001b[0;32mreturn\u001b[0m \u001b[0mctx\u001b[0m\u001b[0;34m.\u001b[0m\u001b[0m_hyp1f0\u001b[0m\u001b[0;34m(\u001b[0m\u001b[0ma_s\u001b[0m\u001b[0;34m[\u001b[0m\u001b[0;36m0\u001b[0m\u001b[0;34m]\u001b[0m\u001b[0;34m[\u001b[0m\u001b[0;36m0\u001b[0m\u001b[0;34m]\u001b[0m\u001b[0;34m,\u001b[0m \u001b[0mz\u001b[0m\u001b[0;34m)\u001b[0m\u001b[0;34m\u001b[0m\u001b[0m\n\u001b[1;32m    224\u001b[0m     \u001b[0;32melif\u001b[0m \u001b[0mp\u001b[0m \u001b[0;34m==\u001b[0m \u001b[0;36m2\u001b[0m\u001b[0;34m:\u001b[0m\u001b[0;34m\u001b[0m\u001b[0m\n\u001b[0;32m--> 225\u001b[0;31m         \u001b[0;32mif\u001b[0m   \u001b[0mq\u001b[0m \u001b[0;34m==\u001b[0m \u001b[0;36m1\u001b[0m\u001b[0;34m:\u001b[0m \u001b[0;32mreturn\u001b[0m \u001b[0mctx\u001b[0m\u001b[0;34m.\u001b[0m\u001b[0m_hyp2f1\u001b[0m\u001b[0;34m(\u001b[0m\u001b[0ma_s\u001b[0m\u001b[0;34m,\u001b[0m \u001b[0mb_s\u001b[0m\u001b[0;34m,\u001b[0m \u001b[0mz\u001b[0m\u001b[0;34m,\u001b[0m \u001b[0;34m**\u001b[0m\u001b[0mkwargs\u001b[0m\u001b[0;34m)\u001b[0m\u001b[0;34m\u001b[0m\u001b[0m\n\u001b[0m\u001b[1;32m    226\u001b[0m         \u001b[0;32melif\u001b[0m \u001b[0mq\u001b[0m \u001b[0;34m==\u001b[0m \u001b[0;36m2\u001b[0m\u001b[0;34m:\u001b[0m \u001b[0;32mreturn\u001b[0m \u001b[0mctx\u001b[0m\u001b[0;34m.\u001b[0m\u001b[0m_hyp2f2\u001b[0m\u001b[0;34m(\u001b[0m\u001b[0ma_s\u001b[0m\u001b[0;34m,\u001b[0m \u001b[0mb_s\u001b[0m\u001b[0;34m,\u001b[0m \u001b[0mz\u001b[0m\u001b[0;34m,\u001b[0m \u001b[0;34m**\u001b[0m\u001b[0mkwargs\u001b[0m\u001b[0;34m)\u001b[0m\u001b[0;34m\u001b[0m\u001b[0m\n\u001b[1;32m    227\u001b[0m         \u001b[0;32melif\u001b[0m \u001b[0mq\u001b[0m \u001b[0;34m==\u001b[0m \u001b[0;36m3\u001b[0m\u001b[0;34m:\u001b[0m \u001b[0;32mreturn\u001b[0m \u001b[0mctx\u001b[0m\u001b[0;34m.\u001b[0m\u001b[0m_hyp2f3\u001b[0m\u001b[0;34m(\u001b[0m\u001b[0ma_s\u001b[0m\u001b[0;34m,\u001b[0m \u001b[0mb_s\u001b[0m\u001b[0;34m,\u001b[0m \u001b[0mz\u001b[0m\u001b[0;34m,\u001b[0m \u001b[0;34m**\u001b[0m\u001b[0mkwargs\u001b[0m\u001b[0;34m)\u001b[0m\u001b[0;34m\u001b[0m\u001b[0m\n",
      "\u001b[0;32m~/anaconda3/lib/python3.5/site-packages/mpmath/functions/hypergeometric.py\u001b[0m in \u001b[0;36m_hyp2f1\u001b[0;34m(ctx, a_s, b_s, z, **kwargs)\u001b[0m\n\u001b[1;32m    442\u001b[0m     \u001b[0;32mif\u001b[0m \u001b[0mabsz\u001b[0m \u001b[0;34m<=\u001b[0m \u001b[0;36m0.8\u001b[0m \u001b[0;32mor\u001b[0m \u001b[0;34m(\u001b[0m\u001b[0mctx\u001b[0m\u001b[0;34m.\u001b[0m\u001b[0misint\u001b[0m\u001b[0;34m(\u001b[0m\u001b[0ma\u001b[0m\u001b[0;34m)\u001b[0m \u001b[0;32mand\u001b[0m \u001b[0ma\u001b[0m \u001b[0;34m<=\u001b[0m \u001b[0;36m0\u001b[0m \u001b[0;32mand\u001b[0m \u001b[0ma\u001b[0m \u001b[0;34m>=\u001b[0m \u001b[0;34m-\u001b[0m\u001b[0;36m1000\u001b[0m\u001b[0;34m)\u001b[0m \u001b[0;32mor\u001b[0m\u001b[0;31m \u001b[0m\u001b[0;31m\\\u001b[0m\u001b[0;34m\u001b[0m\u001b[0m\n\u001b[1;32m    443\u001b[0m                       \u001b[0;34m(\u001b[0m\u001b[0mctx\u001b[0m\u001b[0;34m.\u001b[0m\u001b[0misint\u001b[0m\u001b[0;34m(\u001b[0m\u001b[0mb\u001b[0m\u001b[0;34m)\u001b[0m \u001b[0;32mand\u001b[0m \u001b[0mb\u001b[0m \u001b[0;34m<=\u001b[0m \u001b[0;36m0\u001b[0m \u001b[0;32mand\u001b[0m \u001b[0mb\u001b[0m \u001b[0;34m>=\u001b[0m \u001b[0;34m-\u001b[0m\u001b[0;36m1000\u001b[0m\u001b[0;34m)\u001b[0m\u001b[0;34m:\u001b[0m\u001b[0;34m\u001b[0m\u001b[0m\n\u001b[0;32m--> 444\u001b[0;31m         \u001b[0;32mreturn\u001b[0m \u001b[0mctx\u001b[0m\u001b[0;34m.\u001b[0m\u001b[0mhypsum\u001b[0m\u001b[0;34m(\u001b[0m\u001b[0;36m2\u001b[0m\u001b[0;34m,\u001b[0m \u001b[0;36m1\u001b[0m\u001b[0;34m,\u001b[0m \u001b[0;34m(\u001b[0m\u001b[0matype\u001b[0m\u001b[0;34m,\u001b[0m \u001b[0mbtype\u001b[0m\u001b[0;34m,\u001b[0m \u001b[0mctype\u001b[0m\u001b[0;34m)\u001b[0m\u001b[0;34m,\u001b[0m \u001b[0;34m[\u001b[0m\u001b[0ma\u001b[0m\u001b[0;34m,\u001b[0m \u001b[0mb\u001b[0m\u001b[0;34m,\u001b[0m \u001b[0mc\u001b[0m\u001b[0;34m]\u001b[0m\u001b[0;34m,\u001b[0m \u001b[0mz\u001b[0m\u001b[0;34m,\u001b[0m \u001b[0;34m**\u001b[0m\u001b[0mkwargs\u001b[0m\u001b[0;34m)\u001b[0m\u001b[0;34m\u001b[0m\u001b[0m\n\u001b[0m\u001b[1;32m    445\u001b[0m \u001b[0;34m\u001b[0m\u001b[0m\n\u001b[1;32m    446\u001b[0m     \u001b[0morig\u001b[0m \u001b[0;34m=\u001b[0m \u001b[0mctx\u001b[0m\u001b[0;34m.\u001b[0m\u001b[0mprec\u001b[0m\u001b[0;34m\u001b[0m\u001b[0m\n",
      "\u001b[0;32m~/anaconda3/lib/python3.5/site-packages/mpmath/ctx_mp.py\u001b[0m in \u001b[0;36mhypsum\u001b[0;34m(ctx, p, q, flags, coeffs, z, accurate_small, **kwargs)\u001b[0m\n\u001b[1;32m    693\u001b[0m                 \u001b[0mmag_dict\u001b[0m \u001b[0;34m=\u001b[0m \u001b[0;34m{\u001b[0m\u001b[0;34m}\u001b[0m\u001b[0;34m\u001b[0m\u001b[0m\n\u001b[1;32m    694\u001b[0m             zv, have_complex, magnitude = summator(coeffs, v, prec, wp, \\\n\u001b[0;32m--> 695\u001b[0;31m                 epsshift, mag_dict, **kwargs)\n\u001b[0m\u001b[1;32m    696\u001b[0m             \u001b[0mcancel\u001b[0m \u001b[0;34m=\u001b[0m \u001b[0;34m-\u001b[0m\u001b[0mmagnitude\u001b[0m\u001b[0;34m\u001b[0m\u001b[0m\n\u001b[1;32m    697\u001b[0m             \u001b[0mjumps_resolved\u001b[0m \u001b[0;34m=\u001b[0m \u001b[0;32mTrue\u001b[0m\u001b[0;34m\u001b[0m\u001b[0m\n",
      "\u001b[0;32m~/anaconda3/lib/python3.5/site-packages/mpmath/libmp/libhyper.py\u001b[0m in \u001b[0;36mhypsum_2_1_CC_Z_R\u001b[0;34m(coeffs, z, prec, wp, epsshift, magnitude_check, **kwargs)\u001b[0m\n",
      "\u001b[0;31mNoConvergence\u001b[0m: Hypergeometric series converges too slowly. Try increasing maxterms."
     ]
    }
   ],
   "source": [
    "test = []\n",
    "for i in np.logspace(-3,3,10):\n",
    "    test.append(gff(1,i, 1))"
   ]
  },
  {
   "cell_type": "code",
   "execution_count": 24,
   "metadata": {
    "ExecuteTime": {
     "end_time": "2018-02-22T22:57:01.683059Z",
     "start_time": "2018-02-22T22:57:01.678617Z"
    }
   },
   "outputs": [
    {
     "data": {
      "text/plain": [
       "array([  1.00000000e-03,   4.64158883e-03,   2.15443469e-02,\n",
       "         1.00000000e-01,   4.64158883e-01,   2.15443469e+00,\n",
       "         1.00000000e+01,   4.64158883e+01,   2.15443469e+02,\n",
       "         1.00000000e+03])"
      ]
     },
     "execution_count": 24,
     "metadata": {},
     "output_type": "execute_result"
    }
   ],
   "source": [
    "np.logspace(-3,3,10)"
   ]
  },
  {
   "cell_type": "code",
   "execution_count": 47,
   "metadata": {
    "ExecuteTime": {
     "end_time": "2018-02-22T23:14:33.781320Z",
     "start_time": "2018-02-22T23:14:33.638017Z"
    }
   },
   "outputs": [
    {
     "data": {
      "text/plain": [
       "[<matplotlib.lines.Line2D at 0x11d0a5cf8>]"
      ]
     },
     "execution_count": 47,
     "metadata": {},
     "output_type": "execute_result"
    },
    {
     "data": {
      "image/png": "[encoded data removed]",
      "text/plain": [
       "<matplotlib.figure.Figure at 0x11d057588>"
      ]
     },
     "metadata": {},
     "output_type": "display_data"
    }
   ],
   "source": [
    "plt.plot(np.logspace(-3,3,10)[:7], test)"
   ]
  }
 ],
 "metadata": {
  "anaconda-cloud": {},
  "kernelspec": {
   "display_name": "Python [Root]",
   "language": "python",
   "name": "Python [Root]"
  },
  "language_info": {
   "codemirror_mode": {
    "name": "ipython",
    "version": 3
   },
   "file_extension": ".py",
   "mimetype": "text/x-python",
   "name": "python",
   "nbconvert_exporter": "python",
   "pygments_lexer": "ipython3",
   "version": "3.5.2"
  }
 },
 "nbformat": 4,
 "nbformat_minor": 2
}
